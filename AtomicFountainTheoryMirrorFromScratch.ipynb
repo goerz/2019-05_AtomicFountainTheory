{
 "cells": [
  {
   "cell_type": "markdown",
   "metadata": {},
   "source": [
    "# Theory for Atomic Fountain Interferometer - Mirror from scratch"
   ]
  },
  {
   "cell_type": "markdown",
   "metadata": {
    "ExecuteTime": {
     "end_time": "2019-08-29T18:21:48.923035Z",
     "start_time": "2019-08-29T18:21:48.908476Z"
    }
   },
   "source": [
    "$\\newcommand{tr}[0]{\\operatorname{tr}}\n",
    "\\newcommand{diag}[0]{\\operatorname{diag}}\n",
    "\\newcommand{abs}[0]{\\operatorname{abs}}\n",
    "\\newcommand{pop}[0]{\\operatorname{pop}}\n",
    "\\newcommand{aux}[0]{\\text{aux}}\n",
    "\\newcommand{opt}[0]{\\text{opt}}\n",
    "\\newcommand{tgt}[0]{\\text{tgt}}\n",
    "\\newcommand{init}[0]{\\text{init}}\n",
    "\\newcommand{lab}[0]{\\text{lab}}\n",
    "\\newcommand{rwa}[0]{\\text{rwa}}\n",
    "\\newcommand{bra}[1]{\\langle#1\\vert}\n",
    "\\newcommand{ket}[1]{\\vert#1\\rangle}\n",
    "\\newcommand{Bra}[1]{\\left\\langle#1\\right\\vert}\n",
    "\\newcommand{Ket}[1]{\\left\\vert#1\\right\\rangle}\n",
    "\\newcommand{Braket}[2]{\\left\\langle #1\\vphantom{#2} \\mid #2\\vphantom{#1}\\right\\rangle}\n",
    "\\newcommand{op}[1]{\\hat{#1}}\n",
    "\\newcommand{Op}[1]{\\hat{#1}}\n",
    "\\newcommand{dd}[0]{\\,\\text{d}}\n",
    "\\newcommand{Liouville}[0]{\\mathcal{L}}\n",
    "\\newcommand{DynMap}[0]{\\mathcal{E}}\n",
    "\\newcommand{identity}[0]{\\mathbf{1}}\n",
    "\\newcommand{Norm}[1]{\\lVert#1\\rVert}\n",
    "\\newcommand{Abs}[1]{\\left\\vert#1\\right\\vert}\n",
    "\\newcommand{avg}[1]{\\langle#1\\rangle}\n",
    "\\newcommand{Avg}[1]{\\left\\langle#1\\right\\rangle}\n",
    "\\newcommand{AbsSq}[1]{\\left\\vert#1\\right\\vert^2}\n",
    "\\newcommand{Re}[0]{\\operatorname{Re}}\n",
    "\\newcommand{Im}[0]{\\operatorname{Im}}$"
   ]
  },
  {
   "cell_type": "code",
   "execution_count": 1,
   "metadata": {
    "ExecuteTime": {
     "end_time": "2019-09-03T19:56:00.986269Z",
     "start_time": "2019-09-03T19:56:00.980974Z"
    }
   },
   "outputs": [],
   "source": [
    "from functools import partial"
   ]
  },
  {
   "cell_type": "code",
   "execution_count": 2,
   "metadata": {
    "ExecuteTime": {
     "end_time": "2019-09-03T19:56:02.163796Z",
     "start_time": "2019-09-03T19:56:00.990159Z"
    }
   },
   "outputs": [],
   "source": [
    "import sympy\n",
    "import numpy as np\n",
    "import matplotlib\n",
    "import matplotlib.pylab as plt"
   ]
  },
  {
   "cell_type": "code",
   "execution_count": 3,
   "metadata": {
    "ExecuteTime": {
     "end_time": "2019-09-03T19:56:02.174468Z",
     "start_time": "2019-09-03T19:56:02.166659Z"
    }
   },
   "outputs": [],
   "source": [
    "%matplotlib inline"
   ]
  },
  {
   "cell_type": "code",
   "execution_count": 4,
   "metadata": {
    "ExecuteTime": {
     "end_time": "2019-09-03T19:56:02.521311Z",
     "start_time": "2019-09-03T19:56:02.178558Z"
    }
   },
   "outputs": [],
   "source": [
    "sympy.init_printing()"
   ]
  },
  {
   "cell_type": "code",
   "execution_count": 5,
   "metadata": {
    "ExecuteTime": {
     "end_time": "2019-09-03T19:56:02.529928Z",
     "start_time": "2019-09-03T19:56:02.523374Z"
    }
   },
   "outputs": [],
   "source": [
    "from sympy import Wild, symbols, Function, exp, cos, I, DiracDelta, Abs, oo"
   ]
  },
  {
   "cell_type": "code",
   "execution_count": 6,
   "metadata": {
    "ExecuteTime": {
     "end_time": "2019-09-03T19:56:02.544270Z",
     "start_time": "2019-09-03T19:56:02.537854Z"
    }
   },
   "outputs": [],
   "source": [
    "from sympy import UnevaluatedExpr as protect"
   ]
  },
  {
   "cell_type": "code",
   "execution_count": 7,
   "metadata": {
    "ExecuteTime": {
     "end_time": "2019-09-03T19:56:02.573746Z",
     "start_time": "2019-09-03T19:56:02.559407Z"
    }
   },
   "outputs": [],
   "source": [
    "from symbolic_equation import Eq"
   ]
  },
  {
   "cell_type": "code",
   "execution_count": 8,
   "metadata": {
    "ExecuteTime": {
     "end_time": "2019-09-03T19:56:02.597735Z",
     "start_time": "2019-09-03T19:56:02.587647Z"
    }
   },
   "outputs": [],
   "source": [
    "# local imports\n",
    "from dirac_tools import normalize_dirac_delta_terms"
   ]
  },
  {
   "cell_type": "code",
   "execution_count": 9,
   "metadata": {
    "ExecuteTime": {
     "end_time": "2019-09-03T19:56:02.618132Z",
     "start_time": "2019-09-03T19:56:02.605322Z"
    }
   },
   "outputs": [],
   "source": [
    "def incl_range(a, b, step=1):\n",
    "    \"\"\"Inclusive range (a, b)\"\"\"\n",
    "    e = 1 if step > 0 else -1\n",
    "    return range(a, b + e, step)"
   ]
  },
  {
   "cell_type": "code",
   "execution_count": 10,
   "metadata": {
    "ExecuteTime": {
     "end_time": "2019-09-03T19:56:02.636741Z",
     "start_time": "2019-09-03T19:56:02.625372Z"
    }
   },
   "outputs": [],
   "source": [
    "_w = Wild('w')"
   ]
  },
  {
   "cell_type": "code",
   "execution_count": 11,
   "metadata": {
    "ExecuteTime": {
     "end_time": "2019-09-03T19:56:02.651591Z",
     "start_time": "2019-09-03T19:56:02.642795Z"
    }
   },
   "outputs": [],
   "source": [
    "defs = {}"
   ]
  },
  {
   "cell_type": "code",
   "execution_count": 12,
   "metadata": {
    "ExecuteTime": {
     "end_time": "2019-09-03T19:56:02.660866Z",
     "start_time": "2019-09-03T19:56:02.654961Z"
    }
   },
   "outputs": [],
   "source": [
    "def definition(sym):\n",
    "    return Eq(sym, defs[sym])"
   ]
  },
  {
   "cell_type": "code",
   "execution_count": 13,
   "metadata": {
    "ExecuteTime": {
     "end_time": "2019-09-03T19:56:02.675937Z",
     "start_time": "2019-09-03T19:56:02.666618Z"
    }
   },
   "outputs": [],
   "source": [
    "def standard_phase_form(expr):\n",
    "    \"\"\"Combine exponentials and separate out $i$ and $t$.\n",
    "    This ensures the standard form $e^{i ω t)$\n",
    "    \"\"\"\n",
    "    return (\n",
    "        expr\n",
    "        .powsimp()\n",
    "        .replace(exp, lambda arg: exp(arg.collect(I)))\n",
    "        .replace(exp, lambda arg: exp(arg.collect(t)))\n",
    "    )"
   ]
  },
  {
   "cell_type": "markdown",
   "metadata": {},
   "source": [
    "## Schrödinger equation in position space"
   ]
  },
  {
   "cell_type": "markdown",
   "metadata": {},
   "source": [
    "We start out with the time-dependent Schrödinger equation in momentum space for the complex amplitude $a(z, t)$, coupled to $b(z, t)$, using two counter-propagating lasers with wave number $k$, and envelopes $\\Omega_1(t)$, $\\Omega_2(t)$ and frequency $\\omega_1(t)$, $\\omega_2(t)$, respectively:"
   ]
  },
  {
   "cell_type": "code",
   "execution_count": 14,
   "metadata": {
    "ExecuteTime": {
     "end_time": "2019-09-03T19:56:02.697356Z",
     "start_time": "2019-09-03T19:56:02.681325Z"
    }
   },
   "outputs": [],
   "source": [
    "a, b = symbols('a, b', cls=Function)\n",
    "z, t, p, k = symbols('z, t, p, k', real=True)\n",
    "ħ, m = symbols('hbar, m', positive=True)\n",
    "Ω1, Ω2, ω1, ω2 = symbols('Omega_1, Omega_2, omega_1, omega_2', cls=Function, real=True)"
   ]
  },
  {
   "cell_type": "code",
   "execution_count": 15,
   "metadata": {
    "ExecuteTime": {
     "end_time": "2019-09-03T19:56:02.794379Z",
     "start_time": "2019-09-03T19:56:02.703243Z"
    }
   },
   "outputs": [
    {
     "data": {
      "text/latex": [
       "\\begin{equation}\n",
       "  i \\hbar \\frac{\\partial}{\\partial t} a{\\left(z,t \\right)} = - \\left(\\hbar \\Omega_{1}{\\left(t \\right)} \\cos{\\left(k z + \\omega_{1}{\\left(t \\right)} \\right)} + \\hbar \\Omega_{2}{\\left(t \\right)} \\cos{\\left(k z - \\omega_{2}{\\left(t \\right)} \\right)}\\right) b{\\left(t \\right)} + \\frac{p^{2} a{\\left(z,t \\right)}}{2 m}\n",
       "\\end{equation}\n"
      ],
      "text/plain": [
       "I*hbar*Derivative(a(z, t), t) = -(hbar*Omega_1(t)*cos(k*z + omega_1(t)) + hbar*Omega_2(t)*cos(k*z - omega_2(t)))*b(t) + p**2*a(z, t)/(2*m)"
      ]
     },
     "execution_count": 15,
     "metadata": {},
     "output_type": "execute_result"
    }
   ],
   "source": [
    "TDSE_a_coupled_b = Eq(\n",
    "    I * ħ * a(z, t).diff(t),\n",
    "    p**2/(2*m) * a(z, t) - (\n",
    "        ħ * Ω1(t) * cos(ω1(t) + k * z)\n",
    "        + ħ * Ω2(t) * cos(ω2(t) - k * z)\n",
    "    ) * b(t)\n",
    ")\n",
    "TDSE_a_coupled_b"
   ]
  },
  {
   "cell_type": "markdown",
   "metadata": {},
   "source": [
    "The laser frequencies take the following form:"
   ]
  },
  {
   "cell_type": "code",
   "execution_count": 16,
   "metadata": {
    "ExecuteTime": {
     "end_time": "2019-09-03T19:56:02.812320Z",
     "start_time": "2019-09-03T19:56:02.798157Z"
    }
   },
   "outputs": [],
   "source": [
    "δ0  = symbols('delta_0', real=True)\n",
    "ϕ1, ϕ2 = symbols(\"phi_1, phi_2\", cls=Function, real=True)\n",
    "ω0 = symbols('omega_0', positive=True)\n",
    "defs.update({\n",
    "    ω1(t): ω0 * t + ϕ1(t),\n",
    "    ω2(t): ω0 * t + ϕ2(t) + δ0 * t,\n",
    "})"
   ]
  },
  {
   "cell_type": "code",
   "execution_count": 17,
   "metadata": {
    "ExecuteTime": {
     "end_time": "2019-09-03T19:56:02.834103Z",
     "start_time": "2019-09-03T19:56:02.818065Z"
    }
   },
   "outputs": [
    {
     "data": {
      "text/latex": [
       "\\begin{equation}\n",
       "  \\omega_{1}{\\left(t \\right)} = \\omega_{0} t + \\phi_{1}{\\left(t \\right)}\n",
       "\\end{equation}\n"
      ],
      "text/plain": [
       "omega_1(t) = omega_0*t + phi_1(t)"
      ]
     },
     "execution_count": 17,
     "metadata": {},
     "output_type": "execute_result"
    }
   ],
   "source": [
    "definition(ω1(t))"
   ]
  },
  {
   "cell_type": "code",
   "execution_count": 18,
   "metadata": {
    "ExecuteTime": {
     "end_time": "2019-09-03T19:56:02.868439Z",
     "start_time": "2019-09-03T19:56:02.837643Z"
    }
   },
   "outputs": [
    {
     "data": {
      "text/latex": [
       "\\begin{equation}\n",
       "  \\omega_{2}{\\left(t \\right)} = \\delta_{0} t + \\omega_{0} t + \\phi_{2}{\\left(t \\right)}\n",
       "\\end{equation}\n"
      ],
      "text/plain": [
       "omega_2(t) = delta_0*t + omega_0*t + phi_2(t)"
      ]
     },
     "execution_count": 18,
     "metadata": {},
     "output_type": "execute_result"
    }
   ],
   "source": [
    "definition(ω2(t))"
   ]
  },
  {
   "cell_type": "markdown",
   "metadata": {},
   "source": [
    "We assume the transition to the excited state (amplitude $b(t)$, to be far detuned, with detuning $\\Delta$:"
   ]
  },
  {
   "cell_type": "code",
   "execution_count": 19,
   "metadata": {
    "ExecuteTime": {
     "end_time": "2019-09-03T19:56:02.915972Z",
     "start_time": "2019-09-03T19:56:02.900382Z"
    }
   },
   "outputs": [],
   "source": [
    "Δ  = symbols('Delta', real=True)"
   ]
  },
  {
   "cell_type": "markdown",
   "metadata": {},
   "source": [
    "We define $\\tilde b(z, t) = b(z, t) e^{i \\omega_0 t}$, and make the ansatz for the adiabatic elimination of $\\tilde b(z, t)$ "
   ]
  },
  {
   "cell_type": "code",
   "execution_count": 20,
   "metadata": {
    "ExecuteTime": {
     "end_time": "2019-09-03T19:56:03.025594Z",
     "start_time": "2019-09-03T19:56:02.925945Z"
    }
   },
   "outputs": [],
   "source": [
    "b̃ = symbols('b̃', cls=Function)\n",
    "defs[b̃(z, t)] = (\n",
    "    1 / (2 * Δ) * (\n",
    "        Ω1(t) * exp(-I * (ϕ1(t) + k*z))\n",
    "        + Ω2(t) * exp(-I * (ϕ2(t) + δ0 * t - k * z))\n",
    "    ) * a(z, t)\n",
    ").expand().collect(a(z, t))"
   ]
  },
  {
   "cell_type": "code",
   "execution_count": 21,
   "metadata": {
    "ExecuteTime": {
     "end_time": "2019-09-03T19:56:03.068454Z",
     "start_time": "2019-09-03T19:56:03.030613Z"
    }
   },
   "outputs": [
    {
     "data": {
      "text/latex": [
       "\\begin{equation}\n",
       "  \\operatorname{b̃}{\\left(z,t \\right)} = \\left(\\frac{\\Omega_{1}{\\left(t \\right)} e^{- i \\phi_{1}{\\left(t \\right)}} e^{- i k z}}{2 \\Delta} + \\frac{\\Omega_{2}{\\left(t \\right)} e^{- i \\phi_{2}{\\left(t \\right)}} e^{- i \\delta_{0} t} e^{i k z}}{2 \\Delta}\\right) a{\\left(z,t \\right)}\n",
       "\\end{equation}\n"
      ],
      "text/plain": [
       "b̃(z, t) = (Omega_1(t)*exp(-I*phi_1(t))*exp(-I*k*z)/(2*Delta) + Omega_2(t)*exp(-I*phi_2(t))*exp(-I*delta_0*t)*exp(I*k*z)/(2*Delta))*a(z, t)"
      ]
     },
     "execution_count": 21,
     "metadata": {},
     "output_type": "execute_result"
    }
   ],
   "source": [
    "definition(b̃(z, t))"
   ]
  },
  {
   "cell_type": "markdown",
   "metadata": {},
   "source": [
    "We plug this in to the Schrödinger equation for $a(z, t)$ to uncouple it from $b(z,t)$:"
   ]
  },
  {
   "cell_type": "code",
   "execution_count": 22,
   "metadata": {
    "ExecuteTime": {
     "end_time": "2019-09-03T19:56:03.386489Z",
     "start_time": "2019-09-03T19:56:03.071312Z"
    }
   },
   "outputs": [
    {
     "data": {
      "text/latex": [
       "\\begin{equation}\n",
       "  i \\hbar \\frac{\\partial}{\\partial t} a{\\left(z,t \\right)} = \\left(\\frac{p^{2}}{2 m} - \\frac{\\hbar \\Omega_{1}^{2}{\\left(t \\right)} e^{i \\omega_{1}{\\left(t \\right)}} e^{- i \\phi_{1}{\\left(t \\right)}} e^{- i \\omega_{0} t}}{4 \\Delta} - \\frac{\\hbar \\Omega_{1}^{2}{\\left(t \\right)} e^{- i \\omega_{1}{\\left(t \\right)}} e^{- i \\phi_{1}{\\left(t \\right)}} e^{- 2 i k z} e^{- i \\omega_{0} t}}{4 \\Delta} - \\frac{\\hbar \\Omega_{1}{\\left(t \\right)} \\Omega_{2}{\\left(t \\right)} e^{i \\omega_{1}{\\left(t \\right)}} e^{- i \\phi_{2}{\\left(t \\right)}} e^{- i \\delta_{0} t} e^{2 i k z} e^{- i \\omega_{0} t}}{4 \\Delta} - \\frac{\\hbar \\Omega_{1}{\\left(t \\right)} \\Omega_{2}{\\left(t \\right)} e^{i \\omega_{2}{\\left(t \\right)}} e^{- i \\phi_{1}{\\left(t \\right)}} e^{- 2 i k z} e^{- i \\omega_{0} t}}{4 \\Delta} - \\frac{\\hbar \\Omega_{1}{\\left(t \\right)} \\Omega_{2}{\\left(t \\right)} e^{- i \\omega_{2}{\\left(t \\right)}} e^{- i \\phi_{1}{\\left(t \\right)}} e^{- i \\omega_{0} t}}{4 \\Delta} - \\frac{\\hbar \\Omega_{1}{\\left(t \\right)} \\Omega_{2}{\\left(t \\right)} e^{- i \\omega_{1}{\\left(t \\right)}} e^{- i \\phi_{2}{\\left(t \\right)}} e^{- i \\delta_{0} t} e^{- i \\omega_{0} t}}{4 \\Delta} - \\frac{\\hbar \\Omega_{2}^{2}{\\left(t \\right)} e^{i \\omega_{2}{\\left(t \\right)}} e^{- i \\phi_{2}{\\left(t \\right)}} e^{- i \\delta_{0} t} e^{- i \\omega_{0} t}}{4 \\Delta} - \\frac{\\hbar \\Omega_{2}^{2}{\\left(t \\right)} e^{- i \\omega_{2}{\\left(t \\right)}} e^{- i \\phi_{2}{\\left(t \\right)}} e^{- i \\delta_{0} t} e^{2 i k z} e^{- i \\omega_{0} t}}{4 \\Delta}\\right) a{\\left(z,t \\right)}\n",
       "\\end{equation}\n"
      ],
      "text/plain": [
       "I*hbar*Derivative(a(z, t), t) = (p**2/(2*m) - hbar*Omega_1(t)**2*exp(I*omega_1(t))*exp(-I*phi_1(t))*exp(-I*omega_0*t)/(4*Delta) - hbar*Omega_1(t)**2*exp(-I*omega_1(t))*exp(-I*phi_1(t))*exp(-2*I*k*z)*exp(-I*omega_0*t)/(4*Delta) - hbar*Omega_1(t)*Omega_2(t)*exp(I*omega_1(t))*exp(-I*phi_2(t))*exp(-I*delta_0*t)*exp(2*I*k*z)*exp(-I*omega_0*t)/(4*Delta) - hbar*Omega_1(t)*Omega_2(t)*exp(I*omega_2(t))*exp(-I*phi_1(t))*exp(-2*I*k*z)*exp(-I*omega_0*t)/(4*Delta) - hbar*Omega_1(t)*Omega_2(t)*exp(-I*omega_2(t))*exp(-I*phi_1(t))*exp(-I*omega_0*t)/(4*Delta) - hbar*Omega_1(t)*Omega_2(t)*exp(-I*omega_1(t))*exp(-I*phi_2(t))*exp(-I*delta_0*t)*exp(-I*omega_0*t)/(4*Delta) - hbar*Omega_2(t)**2*exp(I*omega_2(t))*exp(-I*phi_2(t))*exp(-I*delta_0*t)*exp(-I*omega_0*t)/(4*Delta) - hbar*Omega_2(t)**2*exp(-I*omega_2(t))*exp(-I*phi_2(t))*exp(-I*delta_0*t)*exp(2*I*k*z)*exp(-I*omega_0*t)/(4*Delta))*a(z, t)"
      ]
     },
     "execution_count": 22,
     "metadata": {},
     "output_type": "execute_result"
    }
   ],
   "source": [
    "TDSE_a_uncoupled = (\n",
    "    TDSE_a_coupled_b\n",
    "    .apply_mtd(\n",
    "        'subs',\n",
    "        {b(t): defs[b̃(z, t)] * exp(-I * ω0 * t)})\n",
    "     .apply_mtd('rewrite', exp, cont=False)\n",
    "     .apply_mtd('expand')\n",
    "     #.apply(standard_phase_form)\n",
    "     .apply_mtd('collect', a(z, t))\n",
    ")\n",
    "TDSE_a_uncoupled"
   ]
  },
  {
   "cell_type": "markdown",
   "metadata": {
    "ExecuteTime": {
     "end_time": "2019-08-29T18:47:30.747340Z",
     "start_time": "2019-08-29T18:47:30.741482Z"
    }
   },
   "source": [
    "We continue by plugging in the explicit form of the laser frequencies:"
   ]
  },
  {
   "cell_type": "code",
   "execution_count": 23,
   "metadata": {
    "ExecuteTime": {
     "end_time": "2019-09-03T19:56:03.670819Z",
     "start_time": "2019-09-03T19:56:03.389460Z"
    }
   },
   "outputs": [
    {
     "data": {
      "text/latex": [
       "\\begin{equation}\n",
       "  i \\hbar \\frac{\\partial}{\\partial t} a{\\left(z,t \\right)} = \\frac{p^{2} a{\\left(z,t \\right)}}{2 m} - \\frac{\\hbar \\Omega_{1}^{2}{\\left(t \\right)} a{\\left(z,t \\right)}}{4 \\Delta} - \\frac{\\hbar \\Omega_{1}^{2}{\\left(t \\right)} a{\\left(z,t \\right)} e^{- 2 i \\phi_{1}{\\left(t \\right)}} e^{- 2 i k z} e^{- 2 i \\omega_{0} t}}{4 \\Delta} - \\frac{\\hbar \\Omega_{1}{\\left(t \\right)} \\Omega_{2}{\\left(t \\right)} a{\\left(z,t \\right)} e^{i \\phi_{1}{\\left(t \\right)}} e^{- i \\phi_{2}{\\left(t \\right)}} e^{- i \\delta_{0} t} e^{2 i k z}}{4 \\Delta} - \\frac{\\hbar \\Omega_{1}{\\left(t \\right)} \\Omega_{2}{\\left(t \\right)} a{\\left(z,t \\right)} e^{- i \\phi_{1}{\\left(t \\right)}} e^{i \\phi_{2}{\\left(t \\right)}} e^{i \\delta_{0} t} e^{- 2 i k z}}{4 \\Delta} - \\frac{\\hbar \\Omega_{1}{\\left(t \\right)} \\Omega_{2}{\\left(t \\right)} a{\\left(z,t \\right)} e^{- i \\phi_{1}{\\left(t \\right)}} e^{- i \\phi_{2}{\\left(t \\right)}} e^{- i \\delta_{0} t} e^{- 2 i \\omega_{0} t}}{2 \\Delta} - \\frac{\\hbar \\Omega_{2}^{2}{\\left(t \\right)} a{\\left(z,t \\right)}}{4 \\Delta} - \\frac{\\hbar \\Omega_{2}^{2}{\\left(t \\right)} a{\\left(z,t \\right)} e^{- 2 i \\phi_{2}{\\left(t \\right)}} e^{- 2 i \\delta_{0} t} e^{2 i k z} e^{- 2 i \\omega_{0} t}}{4 \\Delta}\n",
       "\\end{equation}\n"
      ],
      "text/plain": [
       "I*hbar*Derivative(a(z, t), t) = p**2*a(z, t)/(2*m) - hbar*Omega_1(t)**2*a(z, t)/(4*Delta) - hbar*Omega_1(t)**2*a(z, t)*exp(-2*I*phi_1(t))*exp(-2*I*k*z)*exp(-2*I*omega_0*t)/(4*Delta) - hbar*Omega_1(t)*Omega_2(t)*a(z, t)*exp(I*phi_1(t))*exp(-I*phi_2(t))*exp(-I*delta_0*t)*exp(2*I*k*z)/(4*Delta) - hbar*Omega_1(t)*Omega_2(t)*a(z, t)*exp(-I*phi_1(t))*exp(I*phi_2(t))*exp(I*delta_0*t)*exp(-2*I*k*z)/(4*Delta) - hbar*Omega_1(t)*Omega_2(t)*a(z, t)*exp(-I*phi_1(t))*exp(-I*phi_2(t))*exp(-I*delta_0*t)*exp(-2*I*omega_0*t)/(2*Delta) - hbar*Omega_2(t)**2*a(z, t)/(4*Delta) - hbar*Omega_2(t)**2*a(z, t)*exp(-2*I*phi_2(t))*exp(-2*I*delta_0*t)*exp(2*I*k*z)*exp(-2*I*omega_0*t)/(4*Delta)"
      ]
     },
     "execution_count": 23,
     "metadata": {},
     "output_type": "execute_result"
    }
   ],
   "source": [
    "TDSE_a_uncoupled2 = (\n",
    "    TDSE_a_uncoupled\n",
    "    .apply_mtd(\n",
    "        'subs',\n",
    "        {\n",
    "            ω1(t): defs[ω1(t)],\n",
    "            ω2(t): defs[ω2(t)],\n",
    "        })\n",
    "     .apply_mtd('rewrite', exp, cont=False)\n",
    "     .apply_mtd('expand')\n",
    ")\n",
    "TDSE_a_uncoupled2"
   ]
  },
  {
   "cell_type": "markdown",
   "metadata": {},
   "source": [
    "We can neglet \"counter-rotating\" terms at frequency $2 \\omega_0$ (rotating wave approximation), and define the relative phase $\\delta_{12}(t)$ as"
   ]
  },
  {
   "cell_type": "code",
   "execution_count": 24,
   "metadata": {
    "ExecuteTime": {
     "end_time": "2019-09-03T19:56:03.719469Z",
     "start_time": "2019-09-03T19:56:03.682475Z"
    }
   },
   "outputs": [
    {
     "data": {
      "text/latex": [
       "\\begin{equation}\n",
       "  \\delta_{12}{\\left(t \\right)} = \\phi_{1}{\\left(t \\right)} - \\phi_{2}{\\left(t \\right)}\n",
       "\\end{equation}\n"
      ],
      "text/plain": [
       "delta12(t) = phi_1(t) - phi_2(t)"
      ]
     },
     "execution_count": 24,
     "metadata": {},
     "output_type": "execute_result"
    }
   ],
   "source": [
    "δ12 = symbols(\"delta12\", cls=Function, real=True)\n",
    "defs[δ12(t)] = ϕ1(t) - ϕ2(t)\n",
    "definition(δ12(t))"
   ]
  },
  {
   "cell_type": "code",
   "execution_count": 25,
   "metadata": {
    "ExecuteTime": {
     "end_time": "2019-09-03T19:56:03.917471Z",
     "start_time": "2019-09-03T19:56:03.725626Z"
    }
   },
   "outputs": [
    {
     "data": {
      "text/latex": [
       "\\begin{equation}\n",
       "  i \\hbar \\frac{\\partial}{\\partial t} a{\\left(z,t \\right)} = \\left(\\frac{p^{2}}{2 m} - \\frac{\\hbar \\Omega_{1}^{2}{\\left(t \\right)}}{4 \\Delta} - \\frac{\\hbar \\Omega_{1}{\\left(t \\right)} \\Omega_{2}{\\left(t \\right)} e^{i \\left(- \\delta_{0} t + 2 k z + \\delta_{12}{\\left(t \\right)}\\right)}}{4 \\Delta} - \\frac{\\hbar \\Omega_{1}{\\left(t \\right)} \\Omega_{2}{\\left(t \\right)} e^{i \\left(\\delta_{0} t - 2 k z - \\delta_{12}{\\left(t \\right)}\\right)}}{4 \\Delta} - \\frac{\\hbar \\Omega_{2}^{2}{\\left(t \\right)}}{4 \\Delta}\\right) a{\\left(z,t \\right)}\n",
       "\\end{equation}\n"
      ],
      "text/plain": [
       "I*hbar*Derivative(a(z, t), t) = (p**2/(2*m) - hbar*Omega_1(t)**2/(4*Delta) - hbar*Omega_1(t)*Omega_2(t)*exp(I*(-delta_0*t + 2*k*z + delta12(t)))/(4*Delta) - hbar*Omega_1(t)*Omega_2(t)*exp(I*(delta_0*t - 2*k*z - delta12(t)))/(4*Delta) - hbar*Omega_2(t)**2/(4*Delta))*a(z, t)"
      ]
     },
     "execution_count": 25,
     "metadata": {},
     "output_type": "execute_result"
    }
   ],
   "source": [
    "TDSE_a = (\n",
    "    TDSE_a_uncoupled2\n",
    "     .apply_mtd('subs', {exp(-2 * I * ω0 * t): 0}) # neglect counter-rotating term\n",
    "     .apply(standard_phase_form)\n",
    "     .apply_mtd('collect', a(z, t))\n",
    "     .apply_mtd('subs', {defs[δ12(t)]: δ12(t)})\n",
    ")\n",
    "TDSE_a"
   ]
  },
  {
   "cell_type": "markdown",
   "metadata": {},
   "source": [
    "## Define common light shift and effective envelopes"
   ]
  },
  {
   "cell_type": "markdown",
   "metadata": {},
   "source": [
    "We can simplify the equation of motion for $a(z,t)$ by introducing a common light shift $\\Omega_{\\Delta}(t)$, and effective 2-photon field $\\Omega(t)$, and an effective phase $\\phi(t)$"
   ]
  },
  {
   "cell_type": "code",
   "execution_count": 26,
   "metadata": {
    "ExecuteTime": {
     "end_time": "2019-09-03T19:56:03.961462Z",
     "start_time": "2019-09-03T19:56:03.921153Z"
    }
   },
   "outputs": [
    {
     "data": {
      "text/latex": [
       "\\begin{equation}\n",
       "  \\Omega_{\\Delta}{\\left(t \\right)} = \\frac{\\Omega_{1}^{2}{\\left(t \\right)}}{4 \\Delta} + \\frac{\\Omega_{2}^{2}{\\left(t \\right)}}{4 \\Delta}\n",
       "\\end{equation}\n"
      ],
      "text/plain": [
       "Omega_Delta(t) = Omega_1(t)**2/(4*Delta) + Omega_2(t)**2/(4*Delta)"
      ]
     },
     "execution_count": 26,
     "metadata": {},
     "output_type": "execute_result"
    }
   ],
   "source": [
    "ΩΔ = symbols('Omega_Delta', cls=Function, real=True)\n",
    "defs[ΩΔ(t)] = ((Ω1(t) ** 2 + Ω2(t) ** 2) / (4 * Δ)).expand()\n",
    "definition(ΩΔ(t))"
   ]
  },
  {
   "cell_type": "code",
   "execution_count": 27,
   "metadata": {
    "ExecuteTime": {
     "end_time": "2019-09-03T19:56:03.998389Z",
     "start_time": "2019-09-03T19:56:03.966470Z"
    }
   },
   "outputs": [
    {
     "data": {
      "text/latex": [
       "\\begin{equation}\n",
       "  \\Omega{\\left(t \\right)} = \\frac{\\Omega_{1}{\\left(t \\right)} \\Omega_{2}{\\left(t \\right)}}{4 \\Delta}\n",
       "\\end{equation}\n"
      ],
      "text/plain": [
       "Omega(t) = Omega_1(t)*Omega_2(t)/(4*Delta)"
      ]
     },
     "execution_count": 27,
     "metadata": {},
     "output_type": "execute_result"
    }
   ],
   "source": [
    "Ω = symbols('Omega', cls=Function, real=True)\n",
    "defs[Ω(t)] = (Ω1(t) * Ω2(t)) / (4 * Δ)\n",
    "definition(Ω(t))"
   ]
  },
  {
   "cell_type": "code",
   "execution_count": 28,
   "metadata": {
    "ExecuteTime": {
     "end_time": "2019-09-03T19:56:04.021963Z",
     "start_time": "2019-09-03T19:56:04.002221Z"
    }
   },
   "outputs": [
    {
     "data": {
      "text/latex": [
       "\\begin{equation}\n",
       "  \\phi{\\left(t \\right)} = - \\delta_{0} t + \\delta_{12}{\\left(t \\right)}\n",
       "\\end{equation}\n"
      ],
      "text/plain": [
       "phi(t) = -delta_0*t + delta12(t)"
      ]
     },
     "execution_count": 28,
     "metadata": {},
     "output_type": "execute_result"
    }
   ],
   "source": [
    "ϕ = symbols(\"phi\", cls=Function, real=True)\n",
    "defs[ϕ(t)] = δ12(t) - δ0 * t\n",
    "definition(ϕ(t))"
   ]
  },
  {
   "cell_type": "code",
   "execution_count": 29,
   "metadata": {
    "ExecuteTime": {
     "end_time": "2019-09-03T19:56:04.214753Z",
     "start_time": "2019-09-03T19:56:04.029526Z"
    }
   },
   "outputs": [
    {
     "data": {
      "text/latex": [
       "\\begin{equation}\n",
       "  i \\hbar \\frac{\\partial}{\\partial t} a{\\left(z,t \\right)} = \\left(- \\hbar \\Omega{\\left(t \\right)} e^{i \\phi{\\left(t \\right)}} e^{2 i k z} - \\hbar \\Omega{\\left(t \\right)} e^{- i \\phi{\\left(t \\right)}} e^{- 2 i k z} - \\hbar \\Omega_{\\Delta}{\\left(t \\right)} + \\frac{p^{2}}{2 m}\\right) a{\\left(z,t \\right)}\n",
       "\\end{equation}\n"
      ],
      "text/plain": [
       "I*hbar*Derivative(a(z, t), t) = (-hbar*Omega(t)*exp(I*phi(t))*exp(2*I*k*z) - hbar*Omega(t)*exp(-I*phi(t))*exp(-2*I*k*z) - hbar*Omega_Delta(t) + p**2/(2*m))*a(z, t)"
      ]
     },
     "execution_count": 29,
     "metadata": {},
     "output_type": "execute_result"
    }
   ],
   "source": [
    "TDSE_a_effective = (\n",
    "    TDSE_a\n",
    "    .apply_mtd('subs', {(ħ * defs[ΩΔ(t)]).expand(): ħ * ΩΔ(t)})\n",
    "    .apply_mtd('subs', {defs[Ω(t)]: Ω(t)})\n",
    "    .apply_mtd('subs', {defs[ϕ(t)]: ϕ(t)})\n",
    "    .apply_mtd('expand')\n",
    "    .apply_mtd('collect', a(z, t))\n",
    "    \n",
    ")\n",
    "TDSE_a_effective"
   ]
  },
  {
   "cell_type": "markdown",
   "metadata": {},
   "source": [
    "## Transformation to momentum space"
   ]
  },
  {
   "cell_type": "markdown",
   "metadata": {},
   "source": [
    "Mathematically, we take a Fourier transform:\n",
    "\n",
    "\\begin{align}\n",
    "\\int \\textrm{d}z\\, e^{-i \\frac{p}{\\hbar} z} a(z, t) &= a(p, t) \\\\\n",
    "\\int \\textrm{d}z\\, e^{-i \\frac{p}{\\hbar} z \\pm i 2 k z} a(z, t) &= a(p\\mp 2 \\hbar k, t)\n",
    "\\end{align}\n",
    "\n",
    "Thus, we can get the result of the Fourier transform by a simple substitution:"
   ]
  },
  {
   "cell_type": "code",
   "execution_count": 30,
   "metadata": {
    "ExecuteTime": {
     "end_time": "2019-09-03T19:56:04.362826Z",
     "start_time": "2019-09-03T19:56:04.220659Z"
    }
   },
   "outputs": [
    {
     "data": {
      "text/latex": [
       "\\begin{equation}\n",
       "  i \\hbar \\frac{\\partial}{\\partial t} a{\\left(p,t \\right)} = - \\hbar \\Omega{\\left(t \\right)} a{\\left(- 2 \\hbar k + p,t \\right)} e^{i \\phi{\\left(t \\right)}} - \\hbar \\Omega{\\left(t \\right)} a{\\left(2 \\hbar k + p,t \\right)} e^{- i \\phi{\\left(t \\right)}} + \\left(- \\hbar \\Omega_{\\Delta}{\\left(t \\right)} + \\frac{p^{2}}{2 m}\\right) a{\\left(p,t \\right)}\n",
       "\\end{equation}\n"
      ],
      "text/plain": [
       "I*hbar*Derivative(a(p, t), t) = -hbar*Omega(t)*a(-2*hbar*k + p, t)*exp(I*phi(t)) - hbar*Omega(t)*a(2*hbar*k + p, t)*exp(-I*phi(t)) + (-hbar*Omega_Delta(t) + p**2/(2*m))*a(p, t)"
      ]
     },
     "execution_count": 30,
     "metadata": {},
     "output_type": "execute_result"
    }
   ],
   "source": [
    "TDSE_mom = (TDSE_a_effective\n",
    " .apply_mtd('expand')\n",
    " .apply_mtd('subs', {\n",
    "     a(z,t) * exp(2*I*k*z): a(p - 2*ħ*k, t),  # note the sign!\n",
    "     a(z,t) * exp(-2*I*k*z): a(p + 2*ħ*k, t)\n",
    " })\n",
    "  .apply_mtd('subs', {\n",
    "     a(z,t): a(p, t),\n",
    " })\n",
    " .apply(standard_phase_form)\n",
    " .apply_mtd('collect',  a(p + 2*ħ*k, t))\n",
    " .apply_mtd('collect',  a(p - 2*ħ*k, t))\n",
    " .apply_mtd('collect',  a(p, t))\n",
    ")\n",
    "TDSE_mom"
   ]
  },
  {
   "cell_type": "markdown",
   "metadata": {},
   "source": [
    "## Momentum discretization ansatz"
   ]
  },
  {
   "cell_type": "markdown",
   "metadata": {},
   "source": [
    "We choose an ansatz for discrete momentum states $2 \\hbar k n$, starting from the initial momentum $p_0$:"
   ]
  },
  {
   "cell_type": "code",
   "execution_count": 31,
   "metadata": {
    "ExecuteTime": {
     "end_time": "2019-09-03T19:56:04.414026Z",
     "start_time": "2019-09-03T19:56:04.367000Z"
    }
   },
   "outputs": [
    {
     "data": {
      "text/latex": [
       "\\begin{equation}\n",
       "  a{\\left(p,t \\right)} = a{\\left(n,t \\right)} e^{i n \\phi{\\left(t \\right)}} \\delta\\left(- 2 \\hbar k n + p - p_{0}\\right)\n",
       "\\end{equation}\n"
      ],
      "text/plain": [
       "a(p, t) = a(n, t)*exp(I*n*phi(t))*DiracDelta(-2*hbar*k*n + p - p0)"
      ]
     },
     "execution_count": 31,
     "metadata": {},
     "output_type": "execute_result"
    }
   ],
   "source": [
    "n = symbols(\"n\", integer=True)\n",
    "p0 = symbols('p0', real=True)\n",
    "ansatz = (\n",
    "    a(n, t) * DiracDelta(p - p0 - 2*n*ħ*k) * exp(I * n * ϕ(t))\n",
    ")\n",
    "Eq(a(p, t), ansatz)"
   ]
  },
  {
   "cell_type": "markdown",
   "metadata": {},
   "source": [
    "Plugging in the ansatz yields:"
   ]
  },
  {
   "cell_type": "code",
   "execution_count": 32,
   "metadata": {
    "ExecuteTime": {
     "end_time": "2019-09-03T19:56:04.834933Z",
     "start_time": "2019-09-03T19:56:04.417263Z"
    }
   },
   "outputs": [
    {
     "data": {
      "text/latex": [
       "\\begin{equation}\n",
       "  \\left(- \\hbar n a{\\left(n,t \\right)} \\frac{d}{d t} \\phi{\\left(t \\right)} + i \\hbar \\frac{d}{d t} a{\\left(n,t \\right)}\\right) e^{i n \\phi{\\left(t \\right)}} \\delta\\left(- 2 \\hbar k n + p - p_{0}\\right) = - \\hbar \\Omega{\\left(t \\right)} a{\\left(n - 1,t \\right)} e^{i \\left(\\left(n - 1\\right) \\phi{\\left(t \\right)} + \\phi{\\left(t \\right)}\\right)} \\delta\\left(- 2 \\hbar k n + p - p_{0}\\right) - \\hbar \\Omega{\\left(t \\right)} a{\\left(n + 1,t \\right)} e^{i \\left(\\left(n + 1\\right) \\phi{\\left(t \\right)} - \\phi{\\left(t \\right)}\\right)} \\delta\\left(- 2 \\hbar k n + p - p_{0}\\right) + \\left(- \\hbar \\Omega_{\\Delta}{\\left(t \\right)} a{\\left(n,t \\right)} + \\frac{p^{2} a{\\left(n,t \\right)}}{2 m}\\right) e^{i n \\phi{\\left(t \\right)}} \\delta\\left(- 2 \\hbar k n + p - p_{0}\\right)\n",
       "\\end{equation}\n"
      ],
      "text/plain": [
       "(-hbar*n*a(n, t)*Derivative(phi(t), t) + I*hbar*Derivative(a(n, t), t))*exp(I*n*phi(t))*DiracDelta(-2*hbar*k*n + p - p0) = -hbar*Omega(t)*a(n - 1, t)*exp(I*((n - 1)*phi(t) + phi(t)))*DiracDelta(-2*hbar*k*n + p - p0) - hbar*Omega(t)*a(n + 1, t)*exp(I*((n + 1)*phi(t) - phi(t)))*DiracDelta(-2*hbar*k*n + p - p0) + (-hbar*Omega_Delta(t)*a(n, t) + p**2*a(n, t)/(2*m))*exp(I*n*phi(t))*DiracDelta(-2*hbar*k*n + p - p0)"
      ]
     },
     "execution_count": 32,
     "metadata": {},
     "output_type": "execute_result"
    }
   ],
   "source": [
    "TDSE_mom_with_ansatz = (\n",
    "    TDSE_mom\n",
    "    .apply_mtd('subs', {a(p, t): ansatz})\n",
    "    .apply_mtd('subs', {a(p - 2*ħ*k, t): ansatz.subs({p:p - 2*ħ*k})})\n",
    "    .apply_mtd('subs', {a(p + 2*ħ*k, t): ansatz.subs({p:p + 2*ħ*k})})\n",
    "    .apply_mtd_to_lhs('doit')    # apply the derivative (chain rule)\n",
    "    .apply_mtd('expand')\n",
    "    .apply_mtd('collect', DiracDelta(_w))\n",
    "    .apply_mtd('collect', exp(_w))\n",
    "    .apply(standard_phase_form)\n",
    "    .apply_mtd('replace', DiracDelta, lambda arg: DiracDelta(arg.collect(2*ħ*k)))\n",
    "    .apply(lambda term: normalize_dirac_delta_terms(term, target=(-2 * ħ * k * n + p - p0)))\n",
    ")\n",
    "TDSE_mom_with_ansatz"
   ]
  },
  {
   "cell_type": "markdown",
   "metadata": {},
   "source": [
    "We continue by integrating over momentum:"
   ]
  },
  {
   "cell_type": "code",
   "execution_count": 33,
   "metadata": {
    "ExecuteTime": {
     "end_time": "2019-09-03T19:56:09.573736Z",
     "start_time": "2019-09-03T19:56:04.837480Z"
    }
   },
   "outputs": [
    {
     "data": {
      "text/latex": [
       "\\begin{equation}\n",
       "  i \\hbar \\frac{d}{d t} a{\\left(n,t \\right)} = - \\hbar \\Omega{\\left(t \\right)} a{\\left(n - 1,t \\right)} - \\hbar \\Omega{\\left(t \\right)} a{\\left(n + 1,t \\right)} + \\left(\\frac{2 \\hbar^{2} k^{2} n^{2}}{m} + \\frac{2 \\hbar k n p_{0}}{m} + \\hbar n \\frac{d}{d t} \\phi{\\left(t \\right)} - \\hbar \\Omega_{\\Delta}{\\left(t \\right)} + \\frac{p_{0}^{2}}{2 m}\\right) a{\\left(n,t \\right)}\n",
       "\\end{equation}\n"
      ],
      "text/plain": [
       "I*hbar*Derivative(a(n, t), t) = -hbar*Omega(t)*a(n - 1, t) - hbar*Omega(t)*a(n + 1, t) + (2*hbar**2*k**2*n**2/m + 2*hbar*k*n*p0/m + hbar*n*Derivative(phi(t), t) - hbar*Omega_Delta(t) + p0**2/(2*m))*a(n, t)"
      ]
     },
     "execution_count": 33,
     "metadata": {},
     "output_type": "execute_result"
    }
   ],
   "source": [
    "TDSE_discrete = (\n",
    "    TDSE_mom_with_ansatz\n",
    "    .apply(lambda side: sympy.Integral(side, (p, -oo, oo)).doit())\n",
    "    .apply(lambda side: side * exp(-I * n * ϕ(t)))\n",
    "    .apply_mtd('expand')\n",
    "    .apply(lambda side: side + ħ * n * a(n, t) * ϕ(t).diff(t))\n",
    "    .apply_mtd('collect', a(n-1, t))\n",
    "    .apply_mtd('collect', a(n+1, t))\n",
    "    .apply_mtd('collect', a(n, t))\n",
    ")\n",
    "TDSE_discrete"
   ]
  },
  {
   "cell_type": "markdown",
   "metadata": {},
   "source": [
    "We may rewrite this in terms of the two-photon recoil frequence $\\omega_k$:"
   ]
  },
  {
   "cell_type": "code",
   "execution_count": 34,
   "metadata": {
    "ExecuteTime": {
     "end_time": "2019-09-03T19:56:09.605119Z",
     "start_time": "2019-09-03T19:56:09.577230Z"
    }
   },
   "outputs": [
    {
     "data": {
      "text/latex": [
       "\\begin{equation}\n",
       "  \\omega_{k} = \\frac{2 \\hbar k^{2}}{m}\n",
       "\\end{equation}\n"
      ],
      "text/plain": [
       "omega_k = 2*hbar*k**2/m"
      ]
     },
     "execution_count": 34,
     "metadata": {},
     "output_type": "execute_result"
    }
   ],
   "source": [
    "ωk = symbols('omega_k', positive=True)\n",
    "defs[ωk] = (2 * ħ * k**2) / m\n",
    "definition(ωk)"
   ]
  },
  {
   "cell_type": "markdown",
   "metadata": {},
   "source": [
    "**NOTE: this is the two-photon recoil frequency, different from $\\omega_r = \\omega_k/4$ as defined by Kovachy et al.**"
   ]
  },
  {
   "cell_type": "markdown",
   "metadata": {},
   "source": [
    "We also express the initial momentum as a fraction $\\beta$ of $\\omega_k$"
   ]
  },
  {
   "cell_type": "code",
   "execution_count": 35,
   "metadata": {
    "ExecuteTime": {
     "end_time": "2019-09-03T19:56:09.631097Z",
     "start_time": "2019-09-03T19:56:09.616928Z"
    }
   },
   "outputs": [],
   "source": [
    "β = symbols('beta', real=True)"
   ]
  },
  {
   "cell_type": "code",
   "execution_count": 36,
   "metadata": {
    "ExecuteTime": {
     "end_time": "2019-09-03T19:56:09.834554Z",
     "start_time": "2019-09-03T19:56:09.638608Z"
    }
   },
   "outputs": [
    {
     "data": {
      "text/latex": [
       "\\begin{equation}\n",
       "  i \\hbar \\frac{d}{d t} a{\\left(n,t \\right)} = - \\hbar \\Omega{\\left(t \\right)} a{\\left(n - 1,t \\right)} - \\hbar \\Omega{\\left(t \\right)} a{\\left(n + 1,t \\right)} + a{\\left(n,t \\right)} \\left(\\beta^{2} \\hbar \\omega_{k} - \\hbar \\Omega_{\\Delta}{\\left(t \\right)} + n^{2} \\hbar \\omega_{k} + n \\left(2 \\beta \\hbar \\omega_{k} + \\hbar \\frac{d}{d t} \\phi{\\left(t \\right)}\\right)\\right)\n",
       "\\end{equation}\n"
      ],
      "text/plain": [
       "I*hbar*Derivative(a(n, t), t) = -hbar*Omega(t)*a(n - 1, t) - hbar*Omega(t)*a(n + 1, t) + a(n, t)*(beta**2*(hbar*omega_k) - hbar*Omega_Delta(t) + n**2*(hbar*omega_k) + n*(2*beta*(hbar*omega_k) + hbar*Derivative(phi(t), t)))"
      ]
     },
     "execution_count": 36,
     "metadata": {},
     "output_type": "execute_result"
    }
   ],
   "source": [
    "TDSE_discrete_p0 = (\n",
    "    TDSE_discrete\n",
    "    .apply_mtd('subs', {p0: β*2*ħ*k})\n",
    "    .apply_mtd('subs', {defs[ωk]: ωk})\n",
    "    .apply_mtd('subs', {ħ * ωk: protect(ħ * ωk)})\n",
    "    .apply_mtd('collect', n)\n",
    "    .apply_mtd('collect', a(n-1, t))\n",
    "    .apply_mtd('collect', a(n+1, t))\n",
    "    .apply_mtd('collect', a(n, t))\n",
    ")\n",
    "TDSE_discrete_p0"
   ]
  },
  {
   "cell_type": "markdown",
   "metadata": {},
   "source": [
    "### Energy levels"
   ]
  },
  {
   "cell_type": "markdown",
   "metadata": {},
   "source": [
    "The energy levels are the coefficients of $a(n, t)$:"
   ]
  },
  {
   "cell_type": "code",
   "execution_count": 37,
   "metadata": {
    "ExecuteTime": {
     "end_time": "2019-09-03T19:56:09.908406Z",
     "start_time": "2019-09-03T19:56:09.839781Z"
    }
   },
   "outputs": [
    {
     "data": {
      "text/latex": [
       "\\begin{equation}\n",
       "  \\operatorname{E_{n}}{\\left(t \\right)} = \\beta^{2} \\hbar \\omega_{k} - \\hbar \\Omega_{\\Delta}{\\left(t \\right)} + n^{2} \\hbar \\omega_{k} + n \\left(2 \\beta \\hbar \\omega_{k} + \\hbar \\frac{d}{d t} \\phi{\\left(t \\right)}\\right)\n",
       "\\end{equation}\n"
      ],
      "text/plain": [
       "E_n(t) = beta**2*(hbar*omega_k) - hbar*Omega_Delta(t) + n**2*(hbar*omega_k) + n*(2*beta*(hbar*omega_k) + hbar*Derivative(phi(t), t))"
      ]
     },
     "execution_count": 37,
     "metadata": {},
     "output_type": "execute_result"
    }
   ],
   "source": [
    "En = symbols(\"E_n\", cls=Function, real=True)\n",
    "Eq_En = Eq(En(t), TDSE_discrete_p0.rhs.coeff(a(n,t)))\n",
    "Eq_En"
   ]
  },
  {
   "cell_type": "markdown",
   "metadata": {},
   "source": [
    "## Rapid adiabatic passage"
   ]
  },
  {
   "cell_type": "markdown",
   "metadata": {},
   "source": [
    "We choose a laser pulse with a linear chirp rate $\\alpha$, with a time-offset $t_c$. The corresponds to a choice of the phase"
   ]
  },
  {
   "cell_type": "code",
   "execution_count": 38,
   "metadata": {
    "ExecuteTime": {
     "end_time": "2019-09-03T19:56:09.935122Z",
     "start_time": "2019-09-03T19:56:09.917050Z"
    }
   },
   "outputs": [],
   "source": [
    "α, tc = symbols('alpha, t_c', real=True)\n",
    "rap_phase = {\n",
    "    ϕ(t): -α * ωk * protect(t - tc)**2 / 2,\n",
    "}"
   ]
  },
  {
   "cell_type": "code",
   "execution_count": 39,
   "metadata": {
    "ExecuteTime": {
     "end_time": "2019-09-03T19:56:09.979327Z",
     "start_time": "2019-09-03T19:56:09.946329Z"
    }
   },
   "outputs": [
    {
     "data": {
      "text/latex": [
       "\\begin{equation}\n",
       "  \\phi{\\left(t \\right)} = - \\frac{\\alpha \\omega_{k} \\left(t - t_{c}\\right)^{2}}{2}\n",
       "\\tag{RAP}\\end{equation}\n"
      ],
      "text/plain": [
       "phi(t) = -alpha*omega_k*(t - t_c)**2/2    ('RAP')"
      ]
     },
     "execution_count": 39,
     "metadata": {},
     "output_type": "execute_result"
    }
   ],
   "source": [
    "Eq(ϕ(t), rap_phase[ϕ(t)], tag='RAP')"
   ]
  },
  {
   "cell_type": "code",
   "execution_count": 40,
   "metadata": {
    "ExecuteTime": {
     "end_time": "2019-09-03T19:56:09.996530Z",
     "start_time": "2019-09-03T19:56:09.983266Z"
    }
   },
   "outputs": [],
   "source": [
    "def plug_in_phases(phases_dict):\n",
    "    def _doit(expr):\n",
    "        expr_expanded = standard_phase_form(\n",
    "            expr\n",
    "            .subs(phases_dict)\n",
    "            .doit()  # do the derivatives\n",
    "            .expand()\n",
    "        )\n",
    "        return (\n",
    "            expr_expanded\n",
    "            .collect(a(n-1, t))\n",
    "            .collect(a(n+1, t))\n",
    "            .collect(a(n, t))\n",
    "        )\n",
    "    return _doit"
   ]
  },
  {
   "cell_type": "code",
   "execution_count": 41,
   "metadata": {
    "ExecuteTime": {
     "end_time": "2019-09-03T19:56:10.018693Z",
     "start_time": "2019-09-03T19:56:10.001295Z"
    }
   },
   "outputs": [],
   "source": [
    "def rap_rewriting(expr):\n",
    "    \"\"\"Write things a bit more intuitively, specifically for the RAP case\"\"\"\n",
    "    return (\n",
    "        expr\n",
    "        .subs({(α * ωk * (t - tc)**2).expand(): (α * ωk * (t - tc)**2)})\n",
    "        .subs({(α * ωk * ħ * n * (t - tc)).expand(): n * protect(ħ * ωk *α * (t - tc))})\n",
    "        .subs({tc - t: sympy.Mul(-1, protect(t - tc), evaluate=False)})\n",
    "        .subs({ħ * ωk: protect(ħ * ωk)})\n",
    "        .collect((t-tc))\n",
    "    )"
   ]
  },
  {
   "cell_type": "code",
   "execution_count": 42,
   "metadata": {
    "ExecuteTime": {
     "end_time": "2019-09-03T19:56:10.340147Z",
     "start_time": "2019-09-03T19:56:10.023070Z"
    }
   },
   "outputs": [
    {
     "data": {
      "text/latex": [
       "\\begin{equation}\n",
       "  i \\hbar \\frac{d}{d t} a{\\left(n,t \\right)} = - \\hbar \\Omega{\\left(t \\right)} a{\\left(n - 1,t \\right)} - \\hbar \\Omega{\\left(t \\right)} a{\\left(n + 1,t \\right)} + a{\\left(n,t \\right)} \\left(\\beta^{2} \\hbar \\omega_{k} - \\hbar \\Omega_{\\Delta}{\\left(t \\right)} + n^{2} \\hbar \\omega_{k} + n \\left(2 \\beta \\hbar \\omega_{k} - \\alpha \\hbar \\omega_{k} \\left(t - t_{c}\\right)\\right)\\right)\n",
       "\\end{equation}\n"
      ],
      "text/plain": [
       "I*hbar*Derivative(a(n, t), t) = -hbar*Omega(t)*a(n - 1, t) - hbar*Omega(t)*a(n + 1, t) + a(n, t)*(beta**2*(hbar*omega_k) - hbar*Omega_Delta(t) + n**2*(hbar*omega_k) + n*(2*beta*(hbar*omega_k) - alpha*(hbar*omega_k)*(t - t_c)))"
      ]
     },
     "execution_count": 42,
     "metadata": {},
     "output_type": "execute_result"
    }
   ],
   "source": [
    "TDSE_rap = (\n",
    "    TDSE_discrete_p0\n",
    "    .apply(plug_in_phases(rap_phase))\n",
    "    .apply(rap_rewriting)\n",
    "    .apply_mtd('collect',  ħ * ωk)\n",
    "    .apply_mtd('collect', n)\n",
    ")\n",
    "TDSE_rap"
   ]
  },
  {
   "cell_type": "markdown",
   "metadata": {},
   "source": [
    "### Dynamic Frame"
   ]
  },
  {
   "cell_type": "markdown",
   "metadata": {},
   "source": [
    "We may choose a dynamic frame in which the expectation value of the energy remains as close as zero as possible. To this end, we define an energy shift $\\eta(t)$ and an associated dynamic phase $\\phi_d(t)$:"
   ]
  },
  {
   "cell_type": "code",
   "execution_count": 43,
   "metadata": {
    "ExecuteTime": {
     "end_time": "2019-09-03T19:56:10.377850Z",
     "start_time": "2019-09-03T19:56:10.345628Z"
    }
   },
   "outputs": [],
   "source": [
    "η, ϕd = symbols(\"eta, phi_d\", cls=Function, real=True)"
   ]
  },
  {
   "cell_type": "code",
   "execution_count": 44,
   "metadata": {
    "ExecuteTime": {
     "end_time": "2019-09-03T19:56:10.448441Z",
     "start_time": "2019-09-03T19:56:10.389514Z"
    }
   },
   "outputs": [
    {
     "data": {
      "text/latex": [
       "\\begin{align}\n",
       "  \\eta{\\left(t \\right)} &= - \\frac{\\alpha^{2} \\left(t - t_{c}\\right)^{2}}{4} - \\frac{1}{4}\\\\\n",
       "   &= - \\frac{\\alpha^{2} t^{2}}{4} + \\frac{\\alpha^{2} t t_{c}}{2} - \\frac{\\alpha^{2} t_{c}^{2}}{4} - \\frac{1}{4}\n",
       "\\end{align}\n"
      ],
      "text/plain": [
       "eta(t) = -alpha**2*(t - t_c)**2/4 - 1/4\n",
       "       = -alpha**2*t**2/4 + alpha**2*t*t_c/2 - alpha**2*t_c**2/4 - 1/4"
      ]
     },
     "execution_count": 44,
     "metadata": {},
     "output_type": "execute_result"
    }
   ],
   "source": [
    "defs[η(t)] = -protect((α * (t - tc))**2 + 1) / 4\n",
    "definition(η(t)).apply_mtd('doit').apply_mtd('expand', cont=True)"
   ]
  },
  {
   "cell_type": "code",
   "execution_count": 45,
   "metadata": {
    "ExecuteTime": {
     "end_time": "2019-09-03T19:56:10.525213Z",
     "start_time": "2019-09-03T19:56:10.452694Z"
    }
   },
   "outputs": [
    {
     "data": {
      "text/latex": [
       "\\begin{align}\n",
       "  \\phi_{d}{\\left(t \\right)} &= \\int \\left(- \\frac{\\alpha^{2} \\left(t - t_{c}\\right)^{2} + 1}{4}\\right)\\, dt\\\\\n",
       "   &= - \\frac{\\alpha^{2} t^{3}}{12} + \\frac{\\alpha^{2} t^{2} t_{c}}{4} + t \\left(- \\frac{\\alpha^{2} t_{c}^{2}}{4} - \\frac{1}{4}\\right)\n",
       "\\end{align}\n"
      ],
      "text/plain": [
       "phi_d(t) = Integral(-(alpha**2*(t - t_c)**2 + 1)/4, t)\n",
       "         = -alpha**2*t**3/12 + alpha**2*t**2*t_c/4 + t*(-alpha**2*t_c**2/4 - 1/4)"
      ]
     },
     "execution_count": 45,
     "metadata": {},
     "output_type": "execute_result"
    }
   ],
   "source": [
    "defs[ϕd(t)] = sympy.Integral(defs[η(t)], t)\n",
    "definition(ϕd(t)).apply_mtd('doit', cont=True)"
   ]
  },
  {
   "cell_type": "markdown",
   "metadata": {},
   "source": [
    "Transforming the energy levels into this frame yields:"
   ]
  },
  {
   "cell_type": "code",
   "execution_count": 46,
   "metadata": {
    "ExecuteTime": {
     "end_time": "2019-09-03T19:56:10.536407Z",
     "start_time": "2019-09-03T19:56:10.528208Z"
    }
   },
   "outputs": [],
   "source": [
    "def to_dynamic_frame(H, U):\n",
    "    # this is valid only because U is a scalar / proportional to the identity\n",
    "    assert isinstance(U, sympy.exp)\n",
    "    return (\n",
    "        I*ħ*U.diff(t).doit()*U.conjugate().transpose().doit()\n",
    "        + (U * H * U.conjugate().transpose()).doit()\n",
    "    )"
   ]
  },
  {
   "cell_type": "code",
   "execution_count": 47,
   "metadata": {
    "ExecuteTime": {
     "end_time": "2019-09-03T19:56:10.640390Z",
     "start_time": "2019-09-03T19:56:10.539343Z"
    }
   },
   "outputs": [
    {
     "data": {
      "text/latex": [
       "\\begin{equation}\n",
       "  \\operatorname{E_{n}}{\\left(t \\right)} = \\beta^{2} \\hbar \\omega_{k} + \\hbar n^{2} \\omega_{k} + \\frac{\\hbar \\left(\\alpha^{2} \\left(t - t_{c}\\right)^{2} + 1\\right)}{4} - \\hbar \\Omega_{\\Delta}{\\left(t \\right)} + n \\left(- \\alpha \\hbar \\omega_{k} \\left(t - t_{c}\\right) + 2 \\beta \\hbar \\omega_{k}\\right)\n",
       "\\end{equation}\n"
      ],
      "text/plain": [
       "E_n(t) = beta**2*hbar*omega_k + hbar*n**2*omega_k + hbar*(alpha**2*(t - t_c)**2 + 1)/4 - hbar*Omega_Delta(t) + n*(-alpha*hbar*omega_k*(t - t_c) + 2*beta*hbar*omega_k)"
      ]
     },
     "execution_count": 47,
     "metadata": {},
     "output_type": "execute_result"
    }
   ],
   "source": [
    "Eq(En(t), to_dynamic_frame(\n",
    "    H=TDSE_rap.rhs.coeff(a(n, t)),\n",
    "    U=exp(I * sympy.Integral(defs[η(t)], t))\n",
    "))"
   ]
  },
  {
   "cell_type": "markdown",
   "metadata": {},
   "source": [
    "It is easy to verify by hand that a rotational frame transformation with a $\\Op{U}$ that is proportional to the identity *only* induces a shift in energy levels (captured in $E_n(t)$ above)."
   ]
  },
  {
   "cell_type": "markdown",
   "metadata": {},
   "source": [
    "If we use the dynamic Hamiltonian for propagation, we can transform the resulting states $\\ket{\\Psi_{df}}$ back to the lab frame according to"
   ]
  },
  {
   "cell_type": "code",
   "execution_count": 48,
   "metadata": {
    "ExecuteTime": {
     "end_time": "2019-09-03T19:56:10.708285Z",
     "start_time": "2019-09-03T19:56:10.647205Z"
    }
   },
   "outputs": [
    {
     "data": {
      "text/latex": [
       "\\begin{equation}\n",
       "  \\vert\\Psi_{lab}\\rangle = \\vert\\Psi_{df}\\rangle e^{- i \\left(- \\frac{\\alpha^{2} t^{3}}{12} + \\frac{\\alpha^{2} t^{2} t_{c}}{4} + t \\left(- \\frac{\\alpha^{2} t_{c}^{2}}{4} - \\frac{1}{4}\\right)\\right)}\n",
       "\\end{equation}\n"
      ],
      "text/plain": [
       "\\vert\\Psi_{lab}\\rangle = \\vert\\Psi_{df}\\rangle*exp(-I*(-alpha**2*t**3/12 + alpha**2*t**2*t_c/4 + t*(-alpha**2*t_c**2/4 - 1/4)))"
      ]
     },
     "execution_count": 48,
     "metadata": {},
     "output_type": "execute_result"
    }
   ],
   "source": [
    "U_RAP_dynamic = exp(I * sympy.Integral(defs[η(t)], t).doit())\n",
    "Eq(\n",
    "    symbols(r'\\vert\\Psi_{lab}\\rangle'),\n",
    "    U_RAP_dynamic.conjugate() * symbols(r'\\vert\\Psi_{df}\\rangle'),\n",
    ")"
   ]
  },
  {
   "cell_type": "markdown",
   "metadata": {},
   "source": [
    "## Rabi scheme"
   ]
  },
  {
   "cell_type": "markdown",
   "metadata": {},
   "source": [
    "When using Rabi pulses, we consider a simple CW laser with a static frequency $\\omega_L$. Consequently, the laser phase is"
   ]
  },
  {
   "cell_type": "code",
   "execution_count": 49,
   "metadata": {
    "ExecuteTime": {
     "end_time": "2019-09-03T19:56:10.752049Z",
     "start_time": "2019-09-03T19:56:10.716295Z"
    }
   },
   "outputs": [
    {
     "data": {
      "text/latex": [
       "\\begin{equation}\n",
       "  \\phi{\\left(t \\right)} = \\omega_{L} t\n",
       "\\end{equation}\n"
      ],
      "text/plain": [
       "phi(t) = omega_L*t"
      ]
     },
     "execution_count": 49,
     "metadata": {},
     "output_type": "execute_result"
    }
   ],
   "source": [
    "ωL = symbols('omega_L', positive=True)\n",
    "pipulse_phase = {\n",
    "    ϕ(t): (ωL * t),\n",
    "}\n",
    "Eq(ϕ(t), pipulse_phase[ϕ(t)])"
   ]
  },
  {
   "cell_type": "markdown",
   "metadata": {
    "ExecuteTime": {
     "end_time": "2019-08-30T21:23:13.043995Z",
     "start_time": "2019-08-30T21:23:13.037578Z"
    }
   },
   "source": [
    "The energy levels then take the form (neglecting $\\beta$ and $\\Omega_\\Delta(t)$)"
   ]
  },
  {
   "cell_type": "code",
   "execution_count": 50,
   "metadata": {
    "ExecuteTime": {
     "end_time": "2019-09-03T19:56:10.826150Z",
     "start_time": "2019-09-03T19:56:10.778829Z"
    }
   },
   "outputs": [
    {
     "data": {
      "text/latex": [
       "\\begin{equation}\n",
       "  E_n^{(\\omega_L)} = \\hbar n^{2} \\omega_{k} + \\hbar n \\omega_{L}\n",
       "\\end{equation}\n"
      ],
      "text/plain": [
       "E_n^{(\\omega_L)} = hbar*n**2*omega_k + hbar*n*omega_L"
      ]
     },
     "execution_count": 50,
     "metadata": {},
     "output_type": "execute_result"
    }
   ],
   "source": [
    "En_wL = Eq_En.rhs.subs(pipulse_phase).subs({β: 0, ΩΔ(t): 0}).doit()\n",
    "Eq(symbols(\"E_n^{(\\\\omega_L)}\"), En_wL)"
   ]
  },
  {
   "cell_type": "markdown",
   "metadata": {},
   "source": [
    "We choose a laser frequency that targets the transition $n_0 \\rightarrow n_0+1$ (\"up\" direction). That is, we choose $\\omega_L$ such that $E_{n_0}^{(\\omega_L)}$ and $E_{n_0+1}^{(\\omega_L)}$ are equal. "
   ]
  },
  {
   "cell_type": "code",
   "execution_count": 51,
   "metadata": {
    "ExecuteTime": {
     "end_time": "2019-09-03T19:56:10.953160Z",
     "start_time": "2019-09-03T19:56:10.834920Z"
    }
   },
   "outputs": [
    {
     "data": {
      "text/latex": [
       "\\begin{equation}\n",
       "  \\omega_{L} = - \\omega_{k} \\left(2 n_{0} + 1\\right)\n",
       "\\end{equation}\n"
      ],
      "text/plain": [
       "omega_L = -omega_k*(2*n_0 + 1)"
      ]
     },
     "execution_count": 51,
     "metadata": {},
     "output_type": "execute_result"
    }
   ],
   "source": [
    "n0 = symbols(\"n_0\", integer=True)\n",
    "defs[ωL] = sympy.solve(En_wL.subs({n: n0+1}) - En_wL.subs({n: n0}), ωL)[0]\n",
    "definition(ωL)"
   ]
  },
  {
   "cell_type": "markdown",
   "metadata": {
    "ExecuteTime": {
     "end_time": "2019-09-03T18:52:56.009197Z",
     "start_time": "2019-09-03T18:52:56.003321Z"
    }
   },
   "source": [
    "This can be plugged back into the laser phase:"
   ]
  },
  {
   "cell_type": "code",
   "execution_count": 52,
   "metadata": {
    "ExecuteTime": {
     "end_time": "2019-09-03T19:56:10.981503Z",
     "start_time": "2019-09-03T19:56:10.958436Z"
    }
   },
   "outputs": [
    {
     "data": {
      "text/latex": [
       "\\begin{equation}\n",
       "  \\phi{\\left(t \\right)} = - \\omega_{k} t \\left(2 n_{0} + 1\\right)\n",
       "\\tag{Rabi}\\end{equation}\n"
      ],
      "text/plain": [
       "phi(t) = -omega_k*t*(2*n_0 + 1)    ('Rabi')"
      ]
     },
     "execution_count": 52,
     "metadata": {},
     "output_type": "execute_result"
    }
   ],
   "source": [
    "pipulse_phase = {\n",
    "    ϕ(t): (ωL * t).subs(definition(ωL).as_dict),  # changed sign (rot frame)\n",
    "}\n",
    "Eq(ϕ(t), pipulse_phase[ϕ(t)], tag='Rabi')"
   ]
  },
  {
   "cell_type": "markdown",
   "metadata": {},
   "source": [
    "We can now write out the Schrödinger equation the determines the dynamics for a Rabi pulse starting from the transition $n_0$. It is usefule to introduce the *relative* momentum number:"
   ]
  },
  {
   "cell_type": "code",
   "execution_count": 53,
   "metadata": {
    "ExecuteTime": {
     "end_time": "2019-09-03T19:56:11.017404Z",
     "start_time": "2019-09-03T19:56:10.993603Z"
    }
   },
   "outputs": [
    {
     "data": {
      "text/latex": [
       "\\begin{equation}\n",
       "  n' = n - n_{0}\n",
       "\\end{equation}\n"
      ],
      "text/plain": [
       "n' = n - n_0"
      ]
     },
     "execution_count": 53,
     "metadata": {},
     "output_type": "execute_result"
    }
   ],
   "source": [
    "nprime = symbols(\"n'\", integer=True)\n",
    "defs[nprime] = n - n0\n",
    "definition(nprime)"
   ]
  },
  {
   "cell_type": "markdown",
   "metadata": {},
   "source": [
    "The Hamiltonian then reads:"
   ]
  },
  {
   "cell_type": "code",
   "execution_count": 54,
   "metadata": {
    "ExecuteTime": {
     "end_time": "2019-09-03T19:56:11.044756Z",
     "start_time": "2019-09-03T19:56:11.024977Z"
    }
   },
   "outputs": [],
   "source": [
    "def rewrite_with_nprime(abs_n=None):\n",
    "    E_n = ((nprime**2 - nprime) - (n0 * (n0+1))) * protect(ħ*ωk)\n",
    "    E_n_expanded = (\n",
    "        E_n\n",
    "        .subs(definition(nprime).as_dict)\n",
    "        .expand()\n",
    "        .doit() # un-protect ħωₖ\n",
    "    )\n",
    "    if abs_n is not None:\n",
    "        E_n_expanded = E_n_expanded.subs({Abs(n): abs_n})\n",
    "        \n",
    "    def _doit(expr):\n",
    "        return expr.subs({E_n_expanded: E_n})\n",
    "    \n",
    "    return _doit        "
   ]
  },
  {
   "cell_type": "code",
   "execution_count": 55,
   "metadata": {
    "ExecuteTime": {
     "end_time": "2019-09-03T19:56:11.238325Z",
     "start_time": "2019-09-03T19:56:11.074412Z"
    },
    "hide_input": true
   },
   "outputs": [
    {
     "data": {
      "text/latex": [
       "\\begin{equation}\n",
       "  i \\hbar \\frac{d}{d t} a{\\left(n,t \\right)} = - \\hbar \\Omega{\\left(t \\right)} a{\\left(n - 1,t \\right)} - \\hbar \\Omega{\\left(t \\right)} a{\\left(n + 1,t \\right)} + a{\\left(n,t \\right)} \\left(\\beta^{2} \\hbar \\omega_{k} + 2 \\beta \\hbar n \\omega_{k} - \\hbar \\Omega_{\\Delta}{\\left(t \\right)} + \\left(n'^{2} - n' - n_{0} \\left(n_{0} + 1\\right)\\right) \\hbar \\omega_{k}\\right)\n",
       "\\end{equation}\n"
      ],
      "text/plain": [
       "I*hbar*Derivative(a(n, t), t) = -hbar*Omega(t)*a(n - 1, t) - hbar*Omega(t)*a(n + 1, t) + a(n, t)*(beta**2*hbar*omega_k + 2*beta*hbar*n*omega_k - hbar*Omega_Delta(t) + (n'**2 - n' - n_0*(n_0 + 1))*(hbar*omega_k))"
      ]
     },
     "execution_count": 55,
     "metadata": {},
     "output_type": "execute_result"
    }
   ],
   "source": [
    "TDSE_pipulse = (\n",
    "    TDSE_discrete_p0\n",
    "    .apply(plug_in_phases(pipulse_phase))\n",
    "    .apply(rewrite_with_nprime())\n",
    ")\n",
    "TDSE_pipulse"
   ]
  },
  {
   "cell_type": "markdown",
   "metadata": {},
   "source": [
    "What are the energies for the Hamiltonian targeting the $n_0 \\rightarrow n_0 + 1$ transition? We can make a table of energy levels surrounding $n_0$ for a given value of $n_0$, using the formula for the energy levels in units of $\\hbar \\omega_k$ and without initial velocity/common light shift."
   ]
  },
  {
   "cell_type": "code",
   "execution_count": 56,
   "metadata": {
    "ExecuteTime": {
     "end_time": "2019-09-03T19:56:11.298686Z",
     "start_time": "2019-09-03T19:56:11.260454Z"
    }
   },
   "outputs": [
    {
     "data": {
      "text/latex": [
       "\\begin{equation}\n",
       "  \\operatorname{E_n^{(n_0)}}{\\left(t \\right)} = n'^{2} - n' - n_{0} \\left(n_{0} + 1\\right)\n",
       "\\end{equation}\n"
      ],
      "text/plain": [
       "E_n^{(n_0)}(t) = n'**2 - n' - n_0*(n_0 + 1)"
      ]
     },
     "execution_count": 56,
     "metadata": {},
     "output_type": "execute_result"
    }
   ],
   "source": [
    "Eq(symbols('E_n^{(n_0)}', cls=Function)(t), TDSE_pipulse.rhs.coeff(a(n, t)).subs({ΩΔ(t): 0, β: 0, ħ: 1, ωk: 1}).doit())"
   ]
  },
  {
   "cell_type": "code",
   "execution_count": 57,
   "metadata": {
    "ExecuteTime": {
     "end_time": "2019-09-03T19:56:11.331908Z",
     "start_time": "2019-09-03T19:56:11.303325Z"
    }
   },
   "outputs": [],
   "source": [
    "def tabulate_rabi_energy_levels(En, n0s, n_levels=2, subs=None):\n",
    "    from IPython.display import Latex\n",
    "\n",
    "    if subs is None:\n",
    "        subs = {}\n",
    "    n_cols = 2 * n_levels + 1  # excluding the first \"index\" column\n",
    "    res = r'\\begin{array}{l|' + \"\".join(['l' for _ in range(n_cols)]) + '}'\n",
    "    res += \"\\n\"\n",
    "    col_labels = [\n",
    "        \"E_{n_0%+d}^{(n_0)}\" % n for n in incl_range(-n_levels, n_levels)\n",
    "    ]\n",
    "    res += r'n_0 & ' + \" & \".join(col_labels) + r'\\\\ \\hline' + \"\\n\"\n",
    "    n_sym, n0_sym, nprime_sym = symbols(\"n, n_0, n'\", integer=True)\n",
    "    row_strs = []\n",
    "    for n0 in n0s:\n",
    "        col_strs = [str(n0)]\n",
    "        En_n0 = En.subs({n0_sym: n0}).subs(subs)\n",
    "        for n in incl_range(n0 - n_levels, n0 + n_levels):\n",
    "            nprime = n - n0\n",
    "            En_n0_n = En_n0.subs({n_sym: n, nprime_sym: nprime}).doit()\n",
    "            col_strs.append(sympy.latex(En_n0_n))\n",
    "        row_strs.append(\" & \".join(col_strs))\n",
    "    res += \"\\\\\\\\\\n\".join(row_strs)\n",
    "    res += r'\\end{array}'\n",
    "    return Latex(res)"
   ]
  },
  {
   "cell_type": "code",
   "execution_count": 58,
   "metadata": {
    "ExecuteTime": {
     "end_time": "2019-09-03T19:56:11.599853Z",
     "start_time": "2019-09-03T19:56:11.335407Z"
    }
   },
   "outputs": [
    {
     "data": {
      "text/latex": [
       "\\begin{array}{l|lllllll}\n",
       "n_0 & E_{n_0-3}^{(n_0)} & E_{n_0-2}^{(n_0)} & E_{n_0-1}^{(n_0)} & E_{n_0+0}^{(n_0)} & E_{n_0+1}^{(n_0)} & E_{n_0+2}^{(n_0)} & E_{n_0+3}^{(n_0)}\\\\ \\hline\n",
       "-2 & 10 & 4 & 0 & -2 & -2 & 0 & 4\\\\\n",
       "-1 & 12 & 6 & 2 & 0 & 0 & 2 & 6\\\\\n",
       "0 & 12 & 6 & 2 & 0 & 0 & 2 & 6\\\\\n",
       "1 & 10 & 4 & 0 & -2 & -2 & 0 & 4\\\\\n",
       "2 & 6 & 0 & -4 & -6 & -6 & -4 & 0\\end{array}"
      ],
      "text/plain": [
       "<IPython.core.display.Latex object>"
      ]
     },
     "execution_count": 58,
     "metadata": {},
     "output_type": "execute_result"
    }
   ],
   "source": [
    "tabulate_rabi_energy_levels(En=TDSE_pipulse.rhs.coeff(a(n, t)), n0s = incl_range(-2, 2), n_levels=3, subs={ΩΔ(t): 0, β: 0, ħ: 1, ωk: 1})"
   ]
  },
  {
   "cell_type": "markdown",
   "metadata": {},
   "source": [
    "We see that levels $n_0$ and $n_0+1$ have the same energy; the transition to the next level in either direction is detuned by $2 \\hbar \\omega_k$."
   ]
  },
  {
   "cell_type": "markdown",
   "metadata": {},
   "source": [
    "### Dynamic Frame"
   ]
  },
  {
   "cell_type": "markdown",
   "metadata": {
    "ExecuteTime": {
     "end_time": "2019-09-03T18:12:30.684534Z",
     "start_time": "2019-09-03T18:12:30.678842Z"
    }
   },
   "source": [
    "By choosing a suitable dynamic frame, we can eliminate the explicit dependence on $n_0$:"
   ]
  },
  {
   "cell_type": "code",
   "execution_count": 59,
   "metadata": {
    "ExecuteTime": {
     "end_time": "2019-09-03T19:56:11.762872Z",
     "start_time": "2019-09-03T19:56:11.604685Z"
    }
   },
   "outputs": [
    {
     "data": {
      "text/latex": [
       "\\begin{align}\n",
       "  \\operatorname{E_{n}}{\\left(t \\right)} &= \\beta^{2} \\hbar \\omega_{k} + 2 \\beta \\hbar n \\omega_{k} + \\hbar n_{0} \\omega_{k} \\left(n_{0} + 1\\right) + \\hbar \\omega_{k} \\left(n'^{2} - n' - n_{0} \\left(n_{0} + 1\\right)\\right) - \\hbar \\Omega_{\\Delta}{\\left(t \\right)}\\\\\n",
       "   &= \\beta^{2} \\hbar \\omega_{k} + 2 \\beta \\hbar n \\omega_{k} + \\hbar n'^{2} \\omega_{k} - \\hbar n' \\omega_{k} - \\hbar \\Omega_{\\Delta}{\\left(t \\right)}\n",
       "\\end{align}\n"
      ],
      "text/plain": [
       "E_n(t) = beta**2*hbar*omega_k + 2*beta*hbar*n*omega_k + hbar*n_0*omega_k*(n_0 + 1) + hbar*omega_k*(n'**2 - n' - n_0*(n_0 + 1)) - hbar*Omega_Delta(t)\n",
       "       = beta**2*hbar*omega_k + 2*beta*hbar*n*omega_k + hbar*n'**2*omega_k - hbar*n'*omega_k - hbar*Omega_Delta(t)"
      ]
     },
     "execution_count": 59,
     "metadata": {},
     "output_type": "execute_result"
    }
   ],
   "source": [
    "En_Rabi_dynamic_frame = (\n",
    "    Eq(\n",
    "        En(t),\n",
    "        to_dynamic_frame(\n",
    "            H=TDSE_pipulse.rhs.coeff(a(n, t)),\n",
    "            U=exp(-I * (n0 * (n0 + 1)) * ωk * t),\n",
    "        ),\n",
    "    )\n",
    "    .apply_mtd('expand', cont=True)\n",
    ")\n",
    "En_Rabi_dynamic_frame"
   ]
  },
  {
   "cell_type": "markdown",
   "metadata": {},
   "source": [
    "Again, we can tabulate the energy levels in units of $\\hbar \\omega_k$, and without the initial velocity velocity or the common light shift:"
   ]
  },
  {
   "cell_type": "code",
   "execution_count": 60,
   "metadata": {
    "ExecuteTime": {
     "end_time": "2019-09-03T19:56:11.807910Z",
     "start_time": "2019-09-03T19:56:11.765545Z"
    }
   },
   "outputs": [
    {
     "data": {
      "text/latex": [
       "\\begin{equation}\n",
       "  \\operatorname{E_{n}}{\\left(t \\right)} = n'^{2} - n'\n",
       "\\end{equation}\n"
      ],
      "text/plain": [
       "E_n(t) = n'**2 - n'"
      ]
     },
     "execution_count": 60,
     "metadata": {},
     "output_type": "execute_result"
    }
   ],
   "source": [
    "En_Rabi_dynamic_frame.apply_mtd('subs', {ΩΔ(t): 0, β: 0, ħ: 1, ωk: 1})"
   ]
  },
  {
   "cell_type": "code",
   "execution_count": 61,
   "metadata": {
    "ExecuteTime": {
     "end_time": "2019-09-03T19:56:11.856314Z",
     "start_time": "2019-09-03T19:56:11.813314Z"
    }
   },
   "outputs": [
    {
     "data": {
      "text/latex": [
       "\\begin{array}{l|lllllll}\n",
       "n_0 & E_{n_0-3}^{(n_0)} & E_{n_0-2}^{(n_0)} & E_{n_0-1}^{(n_0)} & E_{n_0+0}^{(n_0)} & E_{n_0+1}^{(n_0)} & E_{n_0+2}^{(n_0)} & E_{n_0+3}^{(n_0)}\\\\ \\hline\n",
       "-2 & 12 & 6 & 2 & 0 & 0 & 2 & 6\\\\\n",
       "-1 & 12 & 6 & 2 & 0 & 0 & 2 & 6\\\\\n",
       "0 & 12 & 6 & 2 & 0 & 0 & 2 & 6\\\\\n",
       "1 & 12 & 6 & 2 & 0 & 0 & 2 & 6\\\\\n",
       "2 & 12 & 6 & 2 & 0 & 0 & 2 & 6\\end{array}"
      ],
      "text/plain": [
       "<IPython.core.display.Latex object>"
      ]
     },
     "execution_count": 61,
     "metadata": {},
     "output_type": "execute_result"
    }
   ],
   "source": [
    "tabulate_rabi_energy_levels(En=En_Rabi_dynamic_frame.rhs, n0s = incl_range(-2, 2), n_levels=3, subs={ΩΔ(t): 0, β: 0, ħ: 1, ωk: 1})"
   ]
  },
  {
   "cell_type": "markdown",
   "metadata": {
    "ExecuteTime": {
     "end_time": "2019-09-03T18:14:16.680848Z",
     "start_time": "2019-09-03T18:14:16.672288Z"
    }
   },
   "source": [
    "We see that the energy leves are indeed independent of $n_0$."
   ]
  },
  {
   "cell_type": "markdown",
   "metadata": {},
   "source": [
    "If we use the dynamic Hamiltonian for propagation, we can transform the resulting states $\\ket{\\Psi_{df}}$ back to the lab frame according to"
   ]
  },
  {
   "cell_type": "code",
   "execution_count": 62,
   "metadata": {
    "ExecuteTime": {
     "end_time": "2019-09-03T19:56:11.955150Z",
     "start_time": "2019-09-03T19:56:11.884522Z"
    }
   },
   "outputs": [
    {
     "data": {
      "text/latex": [
       "\\begin{equation}\n",
       "  \\vert\\Psi_{lab}\\rangle = \\vert\\Psi_{df}\\rangle e^{i n_{0} \\omega_{k} t \\left(n_{0} + 1\\right)}\n",
       "\\end{equation}\n"
      ],
      "text/plain": [
       "\\vert\\Psi_{lab}\\rangle = \\vert\\Psi_{df}\\rangle*exp(I*n_0*omega_k*t*(n_0 + 1))"
      ]
     },
     "execution_count": 62,
     "metadata": {},
     "output_type": "execute_result"
    }
   ],
   "source": [
    "U_Rabi_dynamic = exp(-I * (n0 * (n0 + 1)) * ωk * t)\n",
    "Eq(\n",
    "    symbols(r'\\vert\\Psi_{lab}\\rangle'),\n",
    "    U_Rabi_dynamic.conjugate() * symbols(r'\\vert\\Psi_{df}\\rangle'),\n",
    ")"
   ]
  }
 ],
 "metadata": {
  "hide_input": false,
  "kernelspec": {
   "display_name": "Python 3",
   "language": "python",
   "name": "python3"
  },
  "language_info": {
   "codemirror_mode": {
    "name": "ipython",
    "version": 3
   },
   "file_extension": ".py",
   "mimetype": "text/x-python",
   "name": "python",
   "nbconvert_exporter": "python",
   "pygments_lexer": "ipython3",
   "version": "3.7.3"
  },
  "toc": {
   "base_numbering": 1,
   "nav_menu": {
    "height": "379px",
    "width": "360px"
   },
   "number_sections": true,
   "sideBar": true,
   "skip_h1_title": false,
   "title_cell": "Table of Contents",
   "title_sidebar": "Contents",
   "toc_cell": false,
   "toc_position": {},
   "toc_section_display": true,
   "toc_window_display": true
  },
  "varInspector": {
   "cols": {
    "lenName": 16,
    "lenType": 16,
    "lenVar": 40
   },
   "kernels_config": {
    "python": {
     "delete_cmd_postfix": "",
     "delete_cmd_prefix": "del ",
     "library": "var_list.py",
     "varRefreshCmd": "print(var_dic_list())"
    },
    "r": {
     "delete_cmd_postfix": ") ",
     "delete_cmd_prefix": "rm(",
     "library": "var_list.r",
     "varRefreshCmd": "cat(var_dic_list()) "
    }
   },
   "types_to_exclude": [
    "module",
    "function",
    "builtin_function_or_method",
    "instance",
    "_Feature"
   ],
   "window_display": false
  }
 },
 "nbformat": 4,
 "nbformat_minor": 2
}
