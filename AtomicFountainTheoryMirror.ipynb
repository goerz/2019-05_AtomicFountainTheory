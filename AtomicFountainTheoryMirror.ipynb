{
 "cells": [
  {
   "cell_type": "markdown",
   "metadata": {},
   "source": [
    "# Theory for Atomic Fountain Interferometer - Mirror"
   ]
  },
  {
   "cell_type": "code",
   "execution_count": 1,
   "metadata": {
    "ExecuteTime": {
     "end_time": "2019-06-01T08:37:04.070305Z",
     "start_time": "2019-06-01T08:37:04.066560Z"
    }
   },
   "outputs": [],
   "source": [
    "from functools import partial"
   ]
  },
  {
   "cell_type": "code",
   "execution_count": 2,
   "metadata": {
    "ExecuteTime": {
     "end_time": "2019-06-01T08:37:05.621534Z",
     "start_time": "2019-06-01T08:37:04.856703Z"
    }
   },
   "outputs": [],
   "source": [
    "import sympy\n",
    "import numpy as np\n",
    "import matplotlib\n",
    "import matplotlib.pylab as plt"
   ]
  },
  {
   "cell_type": "code",
   "execution_count": 3,
   "metadata": {
    "ExecuteTime": {
     "end_time": "2019-06-01T08:37:06.207791Z",
     "start_time": "2019-06-01T08:37:06.200460Z"
    }
   },
   "outputs": [],
   "source": [
    "%matplotlib inline"
   ]
  },
  {
   "cell_type": "code",
   "execution_count": 4,
   "metadata": {
    "ExecuteTime": {
     "end_time": "2019-06-01T08:37:07.089146Z",
     "start_time": "2019-06-01T08:37:06.824579Z"
    }
   },
   "outputs": [],
   "source": [
    "sympy.init_printing()"
   ]
  },
  {
   "cell_type": "code",
   "execution_count": 5,
   "metadata": {
    "ExecuteTime": {
     "end_time": "2019-06-01T08:37:07.538665Z",
     "start_time": "2019-06-01T08:37:07.533526Z"
    }
   },
   "outputs": [],
   "source": [
    "from sympy import Wild, symbols, Function, exp, cos, I, DiracDelta, Abs, oo"
   ]
  },
  {
   "cell_type": "code",
   "execution_count": 6,
   "metadata": {
    "ExecuteTime": {
     "end_time": "2019-06-01T08:37:08.192114Z",
     "start_time": "2019-06-01T08:37:08.185494Z"
    }
   },
   "outputs": [],
   "source": [
    "from sympy import UnevaluatedExpr as protect"
   ]
  },
  {
   "cell_type": "code",
   "execution_count": 7,
   "metadata": {
    "ExecuteTime": {
     "end_time": "2019-06-01T08:37:08.723457Z",
     "start_time": "2019-06-01T08:37:08.713959Z"
    }
   },
   "outputs": [],
   "source": [
    "from symbolic_equation import Eq"
   ]
  },
  {
   "cell_type": "code",
   "execution_count": 8,
   "metadata": {
    "ExecuteTime": {
     "end_time": "2019-06-01T08:37:09.378297Z",
     "start_time": "2019-06-01T08:37:09.371879Z"
    }
   },
   "outputs": [],
   "source": [
    "# local imports\n",
    "from dirac_tools import normalize_dirac_delta_terms"
   ]
  },
  {
   "cell_type": "markdown",
   "metadata": {},
   "source": [
    "## Symbols"
   ]
  },
  {
   "cell_type": "code",
   "execution_count": 9,
   "metadata": {
    "ExecuteTime": {
     "end_time": "2019-06-01T08:37:10.374641Z",
     "start_time": "2019-06-01T08:37:10.366749Z"
    }
   },
   "outputs": [],
   "source": [
    "z, t, tc, k, Δ, μ12, p, p0, α, β = symbols('z, t, t_c, k, Delta, mu_12, p, p0, alpha, beta', real=True)"
   ]
  },
  {
   "cell_type": "code",
   "execution_count": 10,
   "metadata": {
    "ExecuteTime": {
     "end_time": "2019-06-01T08:37:11.029036Z",
     "start_time": "2019-06-01T08:37:11.024354Z"
    }
   },
   "outputs": [],
   "source": [
    "ω0, m, ħ, ωk, ωL = symbols('omega_0, m, hbar, omega_k, omega_L', positive=True)"
   ]
  },
  {
   "cell_type": "code",
   "execution_count": 11,
   "metadata": {
    "ExecuteTime": {
     "end_time": "2019-06-01T08:37:11.783904Z",
     "start_time": "2019-06-01T08:37:11.778596Z"
    }
   },
   "outputs": [],
   "source": [
    "a, b, b̃ = symbols('a, b, b̃', cls=Function)"
   ]
  },
  {
   "cell_type": "code",
   "execution_count": 12,
   "metadata": {
    "ExecuteTime": {
     "end_time": "2019-06-01T08:37:12.546215Z",
     "start_time": "2019-06-01T08:37:12.541518Z"
    }
   },
   "outputs": [],
   "source": [
    "δ0, δ0p = symbols(\"delta_0, delta_0^'\", real=True)"
   ]
  },
  {
   "cell_type": "code",
   "execution_count": 13,
   "metadata": {
    "ExecuteTime": {
     "end_time": "2019-06-01T08:37:12.976627Z",
     "start_time": "2019-06-01T08:37:12.964322Z"
    }
   },
   "outputs": [],
   "source": [
    "ϕ, ϕ1, ϕ2, ϕ3, ϕp, ϕm, ϕd, η = symbols(\"phi, phi_1, phi_2, phi_3, phi_+, phi_-, phi_d, eta\", cls=Function, real=True)"
   ]
  },
  {
   "cell_type": "code",
   "execution_count": 14,
   "metadata": {
    "ExecuteTime": {
     "end_time": "2019-06-01T08:37:13.755737Z",
     "start_time": "2019-06-01T08:37:13.750585Z"
    }
   },
   "outputs": [],
   "source": [
    "δ12, δ13, δ23 = symbols(\"delta12, delta_13, delta_23\", cls=Function, real=True)"
   ]
  },
  {
   "cell_type": "code",
   "execution_count": 15,
   "metadata": {
    "ExecuteTime": {
     "end_time": "2019-06-01T08:37:14.086826Z",
     "start_time": "2019-06-01T08:37:14.081765Z"
    }
   },
   "outputs": [],
   "source": [
    "ω1, ω2, ω3, Enp, Enm = symbols(\"omega_1, omega_2, omega_3, E_n>0, E_n<0\", cls=Function, real=True)"
   ]
  },
  {
   "cell_type": "code",
   "execution_count": 16,
   "metadata": {
    "ExecuteTime": {
     "end_time": "2019-06-01T08:37:14.566647Z",
     "start_time": "2019-06-01T08:37:14.559072Z"
    }
   },
   "outputs": [],
   "source": [
    "class _OmegaSym:\n",
    "    def __getitem__(self, key):\n",
    "        repl = {\n",
    "            '-k^(+)': '+',\n",
    "            '-k^(-)': '-',\n",
    "        }\n",
    "        key = repl.get(key, key)\n",
    "        return symbols('Omega_%s' % key, cls=Function, positive=True)\n",
    "Ω = _OmegaSym()"
   ]
  },
  {
   "cell_type": "code",
   "execution_count": 17,
   "metadata": {
    "ExecuteTime": {
     "end_time": "2019-06-01T08:37:14.800393Z",
     "start_time": "2019-06-01T08:37:14.796529Z"
    }
   },
   "outputs": [],
   "source": [
    "n, n0, nprime = symbols(\"n, n_0, n'\", integer=True)"
   ]
  },
  {
   "cell_type": "code",
   "execution_count": 18,
   "metadata": {
    "ExecuteTime": {
     "end_time": "2019-06-01T08:37:15.209880Z",
     "start_time": "2019-06-01T08:37:15.206248Z"
    }
   },
   "outputs": [],
   "source": [
    "_w = Wild('w')"
   ]
  },
  {
   "cell_type": "code",
   "execution_count": 19,
   "metadata": {
    "ExecuteTime": {
     "end_time": "2019-06-01T08:37:15.610055Z",
     "start_time": "2019-06-01T08:37:15.606720Z"
    }
   },
   "outputs": [],
   "source": [
    "defs = {}"
   ]
  },
  {
   "cell_type": "code",
   "execution_count": 20,
   "metadata": {
    "ExecuteTime": {
     "end_time": "2019-06-01T08:37:16.159783Z",
     "start_time": "2019-06-01T08:37:16.155670Z"
    }
   },
   "outputs": [],
   "source": [
    "def definition(sym):\n",
    "    return Eq(sym, defs[sym])"
   ]
  },
  {
   "cell_type": "code",
   "execution_count": 21,
   "metadata": {
    "ExecuteTime": {
     "end_time": "2019-06-01T08:37:16.859741Z",
     "start_time": "2019-06-01T08:37:16.853212Z"
    }
   },
   "outputs": [],
   "source": [
    "def standard_phase_form(expr):\n",
    "    \"\"\"Combine exponentials and separate out $i$ and $t$.\n",
    "    This ensures the standard form $e^{i ω t)$\n",
    "    \"\"\"\n",
    "    return (\n",
    "        expr\n",
    "        .powsimp()\n",
    "        .replace(exp, lambda arg: exp(arg.collect(I)))\n",
    "        .replace(exp, lambda arg: exp(arg.collect(t)))\n",
    "    )"
   ]
  },
  {
   "cell_type": "markdown",
   "metadata": {},
   "source": [
    "## Mirror specification"
   ]
  },
  {
   "cell_type": "markdown",
   "metadata": {},
   "source": [
    "We obtain the mirror by setting the field $Ω_{-}(t)$ and its associated phases to zero:"
   ]
  },
  {
   "cell_type": "code",
   "execution_count": 22,
   "metadata": {
    "ExecuteTime": {
     "end_time": "2019-06-01T08:37:17.510599Z",
     "start_time": "2019-06-01T08:37:17.504078Z"
    }
   },
   "outputs": [],
   "source": [
    "mirror_specs = {\n",
    "    Ω['-k^(-)'](t): 0,\n",
    "    ϕ3(t): 0,\n",
    "    δ0p: 0,\n",
    "    ϕm(t): ϕ(t),\n",
    "    Ω['-k^(+)'](t): Ω[''](t),\n",
    "}"
   ]
  },
  {
   "cell_type": "markdown",
   "metadata": {},
   "source": [
    "The following calculations are exactly like the beamsplitter case, just plugging in the `mirror_specs`."
   ]
  },
  {
   "cell_type": "markdown",
   "metadata": {},
   "source": [
    "## Schrödinger equation in position space"
   ]
  },
  {
   "cell_type": "markdown",
   "metadata": {},
   "source": [
    "**NOTE**: The original notes on the derivation of the Hamiltonian used a convention where the signs for the phases in $\\Omega_{-}$ and $\\Omega_{+}$ used opposite signs. Here, we have used a sign convention that leads to fully symmetric equations. The only things that changes is that any $\\phi_3(t)$ and any $\\delta_0^\\prime$ change signs. Any lines that are affected by this are marked with a comment `# SIGN`."
   ]
  },
  {
   "cell_type": "code",
   "execution_count": 23,
   "metadata": {
    "ExecuteTime": {
     "end_time": "2019-06-01T08:37:26.344684Z",
     "start_time": "2019-06-01T08:37:26.235208Z"
    }
   },
   "outputs": [],
   "source": [
    "defs[b̃(z, t)] = (\n",
    "    1 / (2 * Δ) * (\n",
    "        Ω['k'](t) * exp(-I * (ϕ1(t) + k*z))\n",
    "        + Ω['-k^(+)'](t) * exp(-I * (ϕ2(t) + δ0 * t - k * z))\n",
    "        + Ω['-k^(-)'](t) * exp(-I * (ϕ3(t) + δ0p * t - k * z))  # SIGN\n",
    "    ) * a(z, t)\n",
    ").expand().collect(a(z, t)).subs(mirror_specs)"
   ]
  },
  {
   "cell_type": "code",
   "execution_count": 24,
   "metadata": {
    "ExecuteTime": {
     "end_time": "2019-06-01T08:38:07.239490Z",
     "start_time": "2019-06-01T08:38:07.206403Z"
    }
   },
   "outputs": [
    {
     "data": {
      "text/latex": [
       "\\begin{equation}\n",
       "  \\operatorname{b̃}{\\left(z,t \\right)} = \\left(\\frac{\\Omega_{}{\\left(t \\right)} e^{- i \\phi_{2}{\\left(t \\right)}} e^{- i \\delta_{0} t} e^{i k z}}{2 \\Delta} + \\frac{\\Omega_{k}{\\left(t \\right)} e^{- i \\phi_{1}{\\left(t \\right)}} e^{- i k z}}{2 \\Delta}\\right) a{\\left(z,t \\right)}\n",
       "\\end{equation}\n"
      ],
      "text/plain": [
       "b̃(z, t) = (Omega_(t)*exp(-I*phi_2(t))*exp(-I*delta_0*t)*exp(I*k*z)/(2*Delta) + Omega_k(t)*exp(-I*phi_1(t))*exp(-I*k*z)/(2*Delta))*a(z, t)"
      ]
     },
     "execution_count": 24,
     "metadata": {},
     "output_type": "execute_result"
    }
   ],
   "source": [
    "definition(b̃(z, t))"
   ]
  },
  {
   "cell_type": "code",
   "execution_count": 25,
   "metadata": {
    "ExecuteTime": {
     "end_time": "2019-06-01T08:38:09.109863Z",
     "start_time": "2019-06-01T08:38:09.050549Z"
    }
   },
   "outputs": [
    {
     "data": {
      "text/latex": [
       "\\begin{equation}\n",
       "  i \\hbar \\frac{\\partial}{\\partial t} a{\\left(z,t \\right)} = - \\left(\\Omega_{}{\\left(t \\right)} \\cos{\\left(k z - \\omega_{2}{\\left(t \\right)} \\right)} + \\Omega_{k}{\\left(t \\right)} \\cos{\\left(k z + \\omega_{1}{\\left(t \\right)} \\right)}\\right) b{\\left(t \\right)} + \\frac{p^{2} a{\\left(z,t \\right)}}{2 m}\n",
       "\\end{equation}\n"
      ],
      "text/plain": [
       "I*hbar*Derivative(a(z, t), t) = -(Omega_(t)*cos(k*z - omega_2(t)) + Omega_k(t)*cos(k*z + omega_1(t)))*b(t) + p**2*a(z, t)/(2*m)"
      ]
     },
     "execution_count": 25,
     "metadata": {},
     "output_type": "execute_result"
    }
   ],
   "source": [
    "TDSE_a = Eq(\n",
    "    I * ħ * a(z, t).diff(t),\n",
    "    p**2/(2*m) * a(z, t) - (\n",
    "        Ω['k'](t) * cos(ω1(t) + k * z)\n",
    "        + Ω['-k^(+)'](t) * cos(ω2(t) - k * z)\n",
    "        + Ω['-k^(-)'](t) * cos(ω3(t) - k * z)\n",
    "    ) * b(t)\n",
    ").apply_mtd('subs', mirror_specs)\n",
    "TDSE_a"
   ]
  },
  {
   "cell_type": "code",
   "execution_count": 26,
   "metadata": {
    "ExecuteTime": {
     "end_time": "2019-06-01T08:38:10.996729Z",
     "start_time": "2019-06-01T08:38:10.770975Z"
    }
   },
   "outputs": [
    {
     "data": {
      "text/latex": [
       "\\begin{equation}\n",
       "  i \\hbar \\frac{\\partial}{\\partial t} a{\\left(z,t \\right)} = \\left(\\frac{p^{2}}{2 m} - \\frac{\\Omega_{}^{2}{\\left(t \\right)}}{4 \\Delta} - \\frac{\\Omega_{}{\\left(t \\right)} \\Omega_{k}{\\left(t \\right)} e^{i \\left(- \\delta_{0} t + 2 k z + \\phi_{1}{\\left(t \\right)} - \\phi_{2}{\\left(t \\right)}\\right)}}{4 \\Delta} - \\frac{\\Omega_{}{\\left(t \\right)} \\Omega_{k}{\\left(t \\right)} e^{i \\left(\\delta_{0} t - 2 k z - \\phi_{1}{\\left(t \\right)} + \\phi_{2}{\\left(t \\right)}\\right)}}{4 \\Delta} - \\frac{\\Omega_{k}^{2}{\\left(t \\right)}}{4 \\Delta}\\right) a{\\left(z,t \\right)}\n",
       "\\end{equation}\n"
      ],
      "text/plain": [
       "I*hbar*Derivative(a(z, t), t) = (p**2/(2*m) - Omega_(t)**2/(4*Delta) - Omega_(t)*Omega_k(t)*exp(I*(-delta_0*t + 2*k*z + phi_1(t) - phi_2(t)))/(4*Delta) - Omega_(t)*Omega_k(t)*exp(I*(delta_0*t - 2*k*z - phi_1(t) + phi_2(t)))/(4*Delta) - Omega_k(t)**2/(4*Delta))*a(z, t)"
      ]
     },
     "execution_count": 26,
     "metadata": {},
     "output_type": "execute_result"
    }
   ],
   "source": [
    "TDSE_a_2 = (\n",
    "    TDSE_a\n",
    "    .apply_mtd(\n",
    "        'subs',\n",
    "        {\n",
    "            b(t): defs[b̃(z, t)] * exp(-I * ω0 * t),\n",
    "            ω1(t): ω0 * t + ϕ1(t),\n",
    "            ω2(t): ω0 * t + ϕ2(t) + δ0 * t,\n",
    "            ω3(t): ω0 * t + ϕ3(t) + δ0p * t,  # SIGN\n",
    "        })\n",
    "     .apply_mtd('rewrite', exp, cont=False)\n",
    "     .apply_mtd('expand')\n",
    "     .apply_mtd('subs', {exp(-2 * I * ω0 * t): 0}) # neglect counter-rotating term\n",
    "     .apply(standard_phase_form)\n",
    "     .apply_mtd('collect', a(z, t))\n",
    "     .apply_mtd('subs', mirror_specs)\n",
    ")\n",
    "TDSE_a_2"
   ]
  },
  {
   "cell_type": "markdown",
   "metadata": {},
   "source": [
    "## Introduce relative phases"
   ]
  },
  {
   "cell_type": "code",
   "execution_count": 27,
   "metadata": {
    "ExecuteTime": {
     "end_time": "2019-06-01T08:38:21.131841Z",
     "start_time": "2019-06-01T08:38:21.121017Z"
    }
   },
   "outputs": [],
   "source": [
    "defs.update({\n",
    "    δ12(t): (ϕ1(t) - ϕ2(t)).subs(mirror_specs),\n",
    "    δ13(t): (ϕ1(t) - ϕ3(t)).subs(mirror_specs),  # SIGN\n",
    "    δ23(t): (ϕ2(t) - ϕ3(t)).subs(mirror_specs),  # SIGN\n",
    "})"
   ]
  },
  {
   "cell_type": "code",
   "execution_count": 28,
   "metadata": {},
   "outputs": [
    {
     "data": {
      "text/latex": [
       "\\begin{equation}\n",
       "  \\delta_{12}{\\left(t \\right)} = \\phi_{1}{\\left(t \\right)} - \\phi_{2}{\\left(t \\right)}\n",
       "\\end{equation}\n"
      ],
      "text/plain": [
       "delta12(t) = phi_1(t) - phi_2(t)"
      ]
     },
     "execution_count": 28,
     "metadata": {},
     "output_type": "execute_result"
    }
   ],
   "source": [
    "definition(δ12(t))"
   ]
  },
  {
   "cell_type": "code",
   "execution_count": 29,
   "metadata": {},
   "outputs": [
    {
     "data": {
      "text/latex": [
       "\\begin{equation}\n",
       "  \\delta_{13}{\\left(t \\right)} = \\phi_{1}{\\left(t \\right)}\n",
       "\\end{equation}\n"
      ],
      "text/plain": [
       "delta_13(t) = phi_1(t)"
      ]
     },
     "execution_count": 29,
     "metadata": {},
     "output_type": "execute_result"
    }
   ],
   "source": [
    "definition(δ13(t))"
   ]
  },
  {
   "cell_type": "code",
   "execution_count": 30,
   "metadata": {},
   "outputs": [
    {
     "data": {
      "text/latex": [
       "\\begin{equation}\n",
       "  \\delta_{23}{\\left(t \\right)} = \\phi_{2}{\\left(t \\right)}\n",
       "\\end{equation}\n"
      ],
      "text/plain": [
       "delta_23(t) = phi_2(t)"
      ]
     },
     "execution_count": 30,
     "metadata": {},
     "output_type": "execute_result"
    }
   ],
   "source": [
    "definition(δ23(t))"
   ]
  },
  {
   "cell_type": "code",
   "execution_count": 31,
   "metadata": {
    "ExecuteTime": {
     "end_time": "2019-06-01T08:38:34.309310Z",
     "start_time": "2019-06-01T08:38:34.175481Z"
    }
   },
   "outputs": [
    {
     "data": {
      "text/latex": [
       "\\begin{equation}\n",
       "  i \\hbar \\frac{\\partial}{\\partial t} a{\\left(z,t \\right)} = \\left(\\frac{p^{2}}{2 m} - \\frac{\\Omega_{}^{2}{\\left(t \\right)}}{4 \\Delta} - \\frac{\\Omega_{}{\\left(t \\right)} \\Omega_{k}{\\left(t \\right)} e^{i \\left(- \\delta_{0} t + 2 k z + \\delta_{12}{\\left(t \\right)}\\right)}}{4 \\Delta} - \\frac{\\Omega_{}{\\left(t \\right)} \\Omega_{k}{\\left(t \\right)} e^{i \\left(\\delta_{0} t - 2 k z - \\delta_{12}{\\left(t \\right)}\\right)}}{4 \\Delta} - \\frac{\\Omega_{k}^{2}{\\left(t \\right)}}{4 \\Delta}\\right) a{\\left(z,t \\right)}\n",
       "\\end{equation}\n"
      ],
      "text/plain": [
       "I*hbar*Derivative(a(z, t), t) = (p**2/(2*m) - Omega_(t)**2/(4*Delta) - Omega_(t)*Omega_k(t)*exp(I*(-delta_0*t + 2*k*z + delta12(t)))/(4*Delta) - Omega_(t)*Omega_k(t)*exp(I*(delta_0*t - 2*k*z - delta12(t)))/(4*Delta) - Omega_k(t)**2/(4*Delta))*a(z, t)"
      ]
     },
     "execution_count": 31,
     "metadata": {},
     "output_type": "execute_result"
    }
   ],
   "source": [
    "TDSE_a_3 = TDSE_a_2.apply_mtd('subs', {defs[sym]: sym for sym in [δ12(t), δ13(t), δ23(t)]}).apply_mtd('subs', mirror_specs)\n",
    "TDSE_a_3"
   ]
  },
  {
   "cell_type": "markdown",
   "metadata": {},
   "source": [
    "## Define common light shift and effective envelopes"
   ]
  },
  {
   "cell_type": "code",
   "execution_count": 32,
   "metadata": {
    "ExecuteTime": {
     "end_time": "2019-06-01T08:39:01.016710Z",
     "start_time": "2019-06-01T08:39:00.971517Z"
    }
   },
   "outputs": [],
   "source": [
    "defs.update(\n",
    "    {\n",
    "        Ω['Δ'](t): (\n",
    "            (\n",
    "                Ω['k'](t) ** 2\n",
    "                + Ω['-k^(+)'](t) ** 2\n",
    "                + Ω['-k^(-)'](t) ** 2\n",
    "                + (\n",
    "                    2\n",
    "                    * Ω['-k^(+)'](t)\n",
    "                    * Ω['-k^(-)'](t)\n",
    "                    * cos(δ23(t) + (δ0 - δ0p) * t)  # SIGN\n",
    "                )\n",
    "            )\n",
    "            / (4 * Δ)\n",
    "        ).expand().subs(mirror_specs),\n",
    "        Ω['-eff'](t): ((Ω['k'](t) * Ω['-k^(-)'](t)) / (4 * Δ)).subs(mirror_specs),\n",
    "        Ω['+eff'](t): ((Ω['k'](t) * Ω['-k^(+)'](t)) / (4 * Δ)).subs(mirror_specs),\n",
    "        ϕp(t): (δ13(t) - δ0p * t).subs(mirror_specs), # SIGN\n",
    "        ϕm(t): (δ12(t) - δ0 * t).subs(mirror_specs),\n",
    "    }\n",
    ")"
   ]
  },
  {
   "cell_type": "code",
   "execution_count": 33,
   "metadata": {
    "ExecuteTime": {
     "end_time": "2019-06-01T08:39:02.319960Z",
     "start_time": "2019-06-01T08:39:02.307113Z"
    }
   },
   "outputs": [
    {
     "data": {
      "text/latex": [
       "\\begin{equation}\n",
       "  \\Omega_{Δ}{\\left(t \\right)} = \\frac{\\Omega_{}^{2}{\\left(t \\right)}}{4 \\Delta} + \\frac{\\Omega_{k}^{2}{\\left(t \\right)}}{4 \\Delta}\n",
       "\\end{equation}\n"
      ],
      "text/plain": [
       "Omega_Δ(t) = Omega_(t)**2/(4*Delta) + Omega_k(t)**2/(4*Delta)"
      ]
     },
     "execution_count": 33,
     "metadata": {},
     "output_type": "execute_result"
    }
   ],
   "source": [
    "definition(Ω['Δ'](t))"
   ]
  },
  {
   "cell_type": "code",
   "execution_count": 34,
   "metadata": {
    "ExecuteTime": {
     "end_time": "2019-06-01T08:39:03.981422Z",
     "start_time": "2019-06-01T08:39:03.971296Z"
    }
   },
   "outputs": [
    {
     "data": {
      "text/latex": [
       "\\begin{equation}\n",
       "  \\Omega_{-eff}{\\left(t \\right)} = 0\n",
       "\\end{equation}\n"
      ],
      "text/plain": [
       "Omega_-eff(t) = 0"
      ]
     },
     "execution_count": 34,
     "metadata": {},
     "output_type": "execute_result"
    }
   ],
   "source": [
    "definition(Ω['-eff'](t))"
   ]
  },
  {
   "cell_type": "code",
   "execution_count": 35,
   "metadata": {
    "ExecuteTime": {
     "end_time": "2019-06-01T08:39:05.427079Z",
     "start_time": "2019-06-01T08:39:05.417235Z"
    }
   },
   "outputs": [
    {
     "data": {
      "text/latex": [
       "\\begin{equation}\n",
       "  \\Omega_{+eff}{\\left(t \\right)} = \\frac{\\Omega_{}{\\left(t \\right)} \\Omega_{k}{\\left(t \\right)}}{4 \\Delta}\n",
       "\\end{equation}\n"
      ],
      "text/plain": [
       "Omega_+eff(t) = Omega_(t)*Omega_k(t)/(4*Delta)"
      ]
     },
     "execution_count": 35,
     "metadata": {},
     "output_type": "execute_result"
    }
   ],
   "source": [
    "definition(Ω['+eff'](t))"
   ]
  },
  {
   "cell_type": "code",
   "execution_count": 36,
   "metadata": {
    "ExecuteTime": {
     "end_time": "2019-06-01T08:39:16.342364Z",
     "start_time": "2019-06-01T08:39:16.332453Z"
    }
   },
   "outputs": [
    {
     "data": {
      "text/latex": [
       "\\begin{align}\n",
       "  \\phi_{+}{\\left(t \\right)} &= \\delta_{13}{\\left(t \\right)}\\\\\n",
       "   &= \\delta_{13}{\\left(t \\right)}\\\\\n",
       "   &= \\phi_{1}{\\left(t \\right)}\n",
       "\\end{align}\n"
      ],
      "text/plain": [
       "phi_+(t) = delta_13(t)\n",
       "         = delta_13(t)\n",
       "         = phi_1(t)"
      ]
     },
     "execution_count": 36,
     "metadata": {},
     "output_type": "execute_result"
    }
   ],
   "source": [
    "(definition(ϕp(t))\n",
    " .apply_mtd('subs', mirror_specs, cont=True)\n",
    " .apply_mtd('subs', definition(δ13(t)).as_dict, cont=True)\n",
    ")"
   ]
  },
  {
   "cell_type": "code",
   "execution_count": 37,
   "metadata": {
    "ExecuteTime": {
     "end_time": "2019-06-01T08:39:17.636607Z",
     "start_time": "2019-06-01T08:39:17.620889Z"
    }
   },
   "outputs": [
    {
     "data": {
      "text/latex": [
       "\\begin{align}\n",
       "  \\phi_{-}{\\left(t \\right)} &= - \\delta_{0} t + \\delta_{12}{\\left(t \\right)}\\\\\n",
       "  \\phi{\\left(t \\right)} &= - \\delta_{0} t + \\delta_{12}{\\left(t \\right)}\\\\\n",
       "   &= - \\delta_{0} t + \\phi_{1}{\\left(t \\right)} - \\phi_{2}{\\left(t \\right)}\n",
       "\\end{align}\n"
      ],
      "text/plain": [
       "phi_-(t) = -delta_0*t + delta12(t)\n",
       "  phi(t) = -delta_0*t + delta12(t)\n",
       "         = -delta_0*t + phi_1(t) - phi_2(t)"
      ]
     },
     "execution_count": 37,
     "metadata": {},
     "output_type": "execute_result"
    }
   ],
   "source": [
    "(definition(ϕm(t))\n",
    " .apply_mtd('subs', mirror_specs, cont=True)\n",
    " .apply_mtd('subs', definition(δ12(t)).as_dict, cont=True)\n",
    ")"
   ]
  },
  {
   "cell_type": "code",
   "execution_count": 38,
   "metadata": {
    "ExecuteTime": {
     "end_time": "2019-06-01T08:41:16.077002Z",
     "start_time": "2019-06-01T08:41:15.899548Z"
    }
   },
   "outputs": [
    {
     "data": {
      "text/latex": [
       "\\begin{equation}\n",
       "  i \\hbar \\frac{\\partial}{\\partial t} a{\\left(z,t \\right)} = \\left(- \\Omega_{+eff}{\\left(t \\right)} e^{i \\left(- 2 k z - \\phi{\\left(t \\right)}\\right)} - \\Omega_{+eff}{\\left(t \\right)} e^{i \\left(2 k z + \\phi{\\left(t \\right)}\\right)} - \\Omega_{Δ}{\\left(t \\right)} + \\frac{p^{2}}{2 m}\\right) a{\\left(z,t \\right)}\n",
       "\\end{equation}\n"
      ],
      "text/plain": [
       "I*hbar*Derivative(a(z, t), t) = (-Omega_+eff(t)*exp(I*(-2*k*z - phi(t))) - Omega_+eff(t)*exp(I*(2*k*z + phi(t))) - Omega_Δ(t) + p**2/(2*m))*a(z, t)"
      ]
     },
     "execution_count": 38,
     "metadata": {},
     "output_type": "execute_result"
    }
   ],
   "source": [
    "TDSE_a_4 = (\n",
    "    TDSE_a_3.apply_mtd(\n",
    "        'subs',\n",
    "        {standard_phase_form(defs[Ω['Δ'](t)].rewrite('exp').expand()): Ω['Δ'](t)},\n",
    "    )\n",
    "    .apply_mtd(\n",
    "        'subs',\n",
    "        {defs[sym]: sym for sym in [Ω['-eff'](t), Ω['+eff'](t), ϕp(t), ϕm(t)]},\n",
    "    )\n",
    "    .apply_mtd('expand')\n",
    "    .apply_mtd('collect', a(z, t))\n",
    "    .apply_mtd('collect', exp(2 * I * k * z))\n",
    "    .apply(standard_phase_form)\n",
    "    .apply_mtd('subs', mirror_specs)\n",
    ")\n",
    "TDSE_a_4\n"
   ]
  },
  {
   "cell_type": "markdown",
   "metadata": {},
   "source": [
    "## Transformation to momentum space"
   ]
  },
  {
   "cell_type": "markdown",
   "metadata": {},
   "source": [
    "Mathematically, we take a Fourier transform:\n",
    "\n",
    "\\begin{align}\n",
    "\\int \\textrm{d}z\\, e^{-i \\frac{p}{\\hbar} z} a(z, t) &= a(p, t) \\\\\n",
    "\\int \\textrm{d}z\\, e^{-i \\frac{p}{\\hbar} z \\pm i 2 k z} a(z, t) &= a(p\\mp 2 \\hbar k, t)\n",
    "\\end{align}\n",
    "\n",
    "Thus, we can get the result of the Fourier transform by a simple substitution:"
   ]
  },
  {
   "cell_type": "code",
   "execution_count": 39,
   "metadata": {
    "ExecuteTime": {
     "end_time": "2019-06-01T08:43:42.538846Z",
     "start_time": "2019-06-01T08:43:42.465532Z"
    }
   },
   "outputs": [
    {
     "data": {
      "text/latex": [
       "\\begin{equation}\n",
       "  i \\hbar \\frac{\\partial}{\\partial t} a{\\left(p,t \\right)} = \\left(- \\Omega_{Δ}{\\left(t \\right)} + \\frac{p^{2}}{2 m}\\right) a{\\left(p,t \\right)} - \\Omega_{+eff}{\\left(t \\right)} a{\\left(- 2 \\hbar k + p,t \\right)} e^{i \\phi{\\left(t \\right)}} - \\Omega_{+eff}{\\left(t \\right)} a{\\left(2 \\hbar k + p,t \\right)} e^{- i \\phi{\\left(t \\right)}}\n",
       "\\end{equation}\n"
      ],
      "text/plain": [
       "I*hbar*Derivative(a(p, t), t) = (-Omega_Δ(t) + p**2/(2*m))*a(p, t) - Omega_+eff(t)*a(-2*hbar*k + p, t)*exp(I*phi(t)) - Omega_+eff(t)*a(2*hbar*k + p, t)*exp(-I*phi(t))"
      ]
     },
     "execution_count": 39,
     "metadata": {},
     "output_type": "execute_result"
    }
   ],
   "source": [
    "TDSE_mom = (TDSE_a_4\n",
    " .apply_mtd('expand')\n",
    " .apply_mtd('subs', {\n",
    "     a(z,t) * exp(2*I*k*z): a(p - 2*ħ*k, t),  # note the sign!\n",
    "     a(z,t) * exp(-2*I*k*z): a(p + 2*ħ*k, t)\n",
    " })\n",
    "  .apply_mtd('subs', {\n",
    "     a(z,t): a(p, t),\n",
    " })\n",
    " .apply(standard_phase_form)\n",
    " .apply_mtd('collect',  a(p + 2*ħ*k, t))\n",
    " .apply_mtd('collect',  a(p - 2*ħ*k, t))\n",
    " .apply_mtd('collect',  a(p, t))\n",
    " .apply_mtd('subs', mirror_specs)\n",
    ")\n",
    "TDSE_mom"
   ]
  },
  {
   "cell_type": "code",
   "execution_count": 40,
   "metadata": {
    "ExecuteTime": {
     "end_time": "2019-06-01T08:43:43.399869Z",
     "start_time": "2019-06-01T08:43:43.330673Z"
    }
   },
   "outputs": [
    {
     "data": {
      "text/latex": [
       "\\begin{equation}\n",
       "  i \\hbar \\frac{\\partial}{\\partial t} a{\\left(p,t \\right)} = \\left(- \\Omega_{Δ}{\\left(t \\right)} + \\frac{p^{2}}{2 m}\\right) a{\\left(p,t \\right)} - \\Omega_{+eff}{\\left(t \\right)} a{\\left(- 2 \\hbar k + p,t \\right)} e^{- i \\phi{\\left(t \\right)}} - \\Omega_{+eff}{\\left(t \\right)} a{\\left(2 \\hbar k + p,t \\right)} e^{i \\phi{\\left(t \\right)}}\n",
       "\\end{equation}\n"
      ],
      "text/plain": [
       "I*hbar*Derivative(a(p, t), t) = (-Omega_Δ(t) + p**2/(2*m))*a(p, t) - Omega_+eff(t)*a(-2*hbar*k + p, t)*exp(-I*phi(t)) - Omega_+eff(t)*a(2*hbar*k + p, t)*exp(I*phi(t))"
      ]
     },
     "execution_count": 40,
     "metadata": {},
     "output_type": "execute_result"
    }
   ],
   "source": [
    "TDSE_mom = (TDSE_a_4\n",
    " .apply_mtd('expand')\n",
    " .apply_mtd('subs', {\n",
    "     a(z,t) * exp(2*I*k*z): a(p + 2*ħ*k, t),  # note the sign!\n",
    "     a(z,t) * exp(-2*I*k*z): a(p - 2*ħ*k, t)\n",
    " })\n",
    "  .apply_mtd('subs', {\n",
    "     a(z,t): a(p, t),\n",
    " })\n",
    " .apply(standard_phase_form)\n",
    " .apply_mtd('collect',  a(p + 2*ħ*k, t))\n",
    " .apply_mtd('collect',  a(p - 2*ħ*k, t))\n",
    " .apply_mtd('collect',  a(p, t))\n",
    " .apply_mtd('subs', mirror_specs)\n",
    ")\n",
    "TDSE_mom"
   ]
  },
  {
   "cell_type": "markdown",
   "metadata": {},
   "source": [
    "## Ansatz"
   ]
  },
  {
   "cell_type": "markdown",
   "metadata": {},
   "source": [
    "The sum is explicit in the following. The same ansatz is used for both positive an negative values of n"
   ]
  },
  {
   "cell_type": "code",
   "execution_count": 41,
   "metadata": {
    "ExecuteTime": {
     "end_time": "2019-06-01T08:43:45.249775Z",
     "start_time": "2019-06-01T08:43:45.233152Z"
    }
   },
   "outputs": [],
   "source": [
    "ansatz = (\n",
    "    a(n, t) * DiracDelta(p-p0-2*n*ħ*k) * exp(I * n * ϕm(t))\n",
    ").subs(mirror_specs)"
   ]
  },
  {
   "cell_type": "code",
   "execution_count": 42,
   "metadata": {
    "ExecuteTime": {
     "end_time": "2019-06-01T08:43:47.367838Z",
     "start_time": "2019-06-01T08:43:46.838629Z"
    }
   },
   "outputs": [
    {
     "data": {
      "image/png": "[encoded data removed]",
      "text/latex": [
       "$\\displaystyle a{\\left(n,t \\right)} e^{i n \\phi{\\left(t \\right)}} \\delta\\left(- 2 \\hbar k n + p - p_{0}\\right)$"
      ],
      "text/plain": [
       "         ⅈ⋅n⋅φ(t)                      \n",
       "a(n, t)⋅ℯ        ⋅δ(-2⋅h̅⋅k⋅n + p - p₀)"
      ]
     },
     "execution_count": 42,
     "metadata": {},
     "output_type": "execute_result"
    }
   ],
   "source": [
    "ansatz"
   ]
  },
  {
   "cell_type": "markdown",
   "metadata": {},
   "source": [
    "## Plug in the ansatz"
   ]
  },
  {
   "cell_type": "code",
   "execution_count": 43,
   "metadata": {
    "ExecuteTime": {
     "end_time": "2019-06-01T08:46:32.487141Z",
     "start_time": "2019-06-01T08:46:32.089960Z"
    }
   },
   "outputs": [
    {
     "data": {
      "text/latex": [
       "\\begin{equation}\n",
       "  \\left(- \\hbar n a{\\left(n,t \\right)} \\frac{d}{d t} \\phi{\\left(t \\right)} + i \\hbar \\frac{d}{d t} a{\\left(n,t \\right)}\\right) e^{i n \\phi{\\left(t \\right)}} \\delta\\left(- 2 \\hbar k n + p - p_{0}\\right) = \\left(- \\Omega_{Δ}{\\left(t \\right)} a{\\left(n,t \\right)} + \\frac{p^{2} a{\\left(n,t \\right)}}{2 m}\\right) e^{i n \\phi{\\left(t \\right)}} \\delta\\left(- 2 \\hbar k n + p - p_{0}\\right) - \\Omega_{+eff}{\\left(t \\right)} a{\\left(n - 1,t \\right)} e^{i \\left(\\left(n - 1\\right) \\phi{\\left(t \\right)} - \\phi{\\left(t \\right)}\\right)} \\delta\\left(- 2 \\hbar k n + p - p_{0}\\right) - \\Omega_{+eff}{\\left(t \\right)} a{\\left(n + 1,t \\right)} e^{i \\left(\\left(n + 1\\right) \\phi{\\left(t \\right)} + \\phi{\\left(t \\right)}\\right)} \\delta\\left(- 2 \\hbar k n + p - p_{0}\\right)\n",
       "\\end{equation}\n"
      ],
      "text/plain": [
       "(-hbar*n*a(n, t)*Derivative(phi(t), t) + I*hbar*Derivative(a(n, t), t))*exp(I*n*phi(t))*DiracDelta(-2*hbar*k*n + p - p0) = (-Omega_Δ(t)*a(n, t) + p**2*a(n, t)/(2*m))*exp(I*n*phi(t))*DiracDelta(-2*hbar*k*n + p - p0) - Omega_+eff(t)*a(n - 1, t)*exp(I*((n - 1)*phi(t) - phi(t)))*DiracDelta(-2*hbar*k*n + p - p0) - Omega_+eff(t)*a(n + 1, t)*exp(I*((n + 1)*phi(t) + phi(t)))*DiracDelta(-2*hbar*k*n + p - p0)"
      ]
     },
     "execution_count": 43,
     "metadata": {},
     "output_type": "execute_result"
    }
   ],
   "source": [
    "TDSE_mom_with_ansatz = (\n",
    "    TDSE_mom\n",
    "    .apply_mtd('subs', {a(p, t): ansatz})\n",
    "    .apply_mtd('subs', {a(p - 2*ħ*k, t): ansatz.subs({p:p - 2*ħ*k})})\n",
    "    .apply_mtd('subs', {a(p + 2*ħ*k, t): ansatz.subs({p:p + 2*ħ*k})})\n",
    "    .apply_mtd_to_lhs('doit')    # apply the derivative (chain rule)\n",
    "    .apply_mtd('expand')\n",
    "    .apply_mtd('collect', DiracDelta(_w))\n",
    "    .apply_mtd('collect', exp(_w))\n",
    "    .apply(standard_phase_form)\n",
    "    .apply_mtd('replace', DiracDelta, lambda arg: DiracDelta(arg.collect(2*ħ*k)))\n",
    "    .apply(lambda term: normalize_dirac_delta_terms(term, target=(-2 * ħ * k * n + p - p0)))\n",
    "    .apply_mtd('subs', mirror_specs)\n",
    ")\n",
    "TDSE_mom_with_ansatz"
   ]
  },
  {
   "cell_type": "markdown",
   "metadata": {},
   "source": [
    "### Integrate over momentum"
   ]
  },
  {
   "cell_type": "code",
   "execution_count": 44,
   "metadata": {
    "ExecuteTime": {
     "end_time": "2019-06-01T08:46:41.154233Z",
     "start_time": "2019-06-01T08:46:37.776738Z"
    }
   },
   "outputs": [
    {
     "data": {
      "text/latex": [
       "\\begin{equation}\n",
       "  i \\hbar \\frac{d}{d t} a{\\left(n,t \\right)} = \\left(\\frac{2 \\hbar^{2} k^{2} n^{2}}{m} + \\frac{2 \\hbar k n p_{0}}{m} + \\hbar n \\frac{d}{d t} \\phi{\\left(t \\right)} - \\Omega_{Δ}{\\left(t \\right)} + \\frac{p_{0}^{2}}{2 m}\\right) a{\\left(n,t \\right)} - \\Omega_{+eff}{\\left(t \\right)} a{\\left(n - 1,t \\right)} e^{- 2 i \\phi{\\left(t \\right)}} - \\Omega_{+eff}{\\left(t \\right)} a{\\left(n + 1,t \\right)} e^{2 i \\phi{\\left(t \\right)}}\n",
       "\\end{equation}\n"
      ],
      "text/plain": [
       "I*hbar*Derivative(a(n, t), t) = (2*hbar**2*k**2*n**2/m + 2*hbar*k*n*p0/m + hbar*n*Derivative(phi(t), t) - Omega_Δ(t) + p0**2/(2*m))*a(n, t) - Omega_+eff(t)*a(n - 1, t)*exp(-2*I*phi(t)) - Omega_+eff(t)*a(n + 1, t)*exp(2*I*phi(t))"
      ]
     },
     "execution_count": 44,
     "metadata": {},
     "output_type": "execute_result"
    }
   ],
   "source": [
    "TDSE_discrete = (\n",
    "    TDSE_mom_with_ansatz\n",
    "    .apply(lambda side: sympy.Integral(side, (p, -oo, oo)).doit())\n",
    "    .apply(lambda side: side * exp(-I * n * ϕm(t)))  # using ϕ₋(t) instead of ϕ₊(t)\n",
    "    .apply_mtd('expand')\n",
    "    .apply(lambda side: side + ħ * n * a(n, t) * ϕm(t).diff(t))  # using ϕ₋(t) instead of ϕ₊(t)\n",
    "    .apply(standard_phase_form)\n",
    "    .apply_mtd('collect', a(n-1, t))\n",
    "    .apply_mtd('collect', a(n+1, t))\n",
    "    .apply_mtd('collect', a(n, t))\n",
    "    .apply_mtd('subs', mirror_specs)\n",
    ")\n",
    "TDSE_discrete"
   ]
  },
  {
   "cell_type": "markdown",
   "metadata": {},
   "source": [
    "### Define p₀ and ωₖ"
   ]
  },
  {
   "cell_type": "code",
   "execution_count": 45,
   "metadata": {
    "ExecuteTime": {
     "end_time": "2019-06-01T08:44:38.380140Z",
     "start_time": "2019-06-01T08:44:38.367266Z"
    }
   },
   "outputs": [
    {
     "data": {
      "text/latex": [
       "\\begin{equation}\n",
       "  \\omega_{k} = \\frac{2 \\hbar k^{2}}{m}\n",
       "\\end{equation}\n"
      ],
      "text/plain": [
       "omega_k = 2*hbar*k**2/m"
      ]
     },
     "execution_count": 45,
     "metadata": {},
     "output_type": "execute_result"
    }
   ],
   "source": [
    "defs[ωk] = (2 * ħ * k**2) / m\n",
    "definition(ωk)"
   ]
  },
  {
   "cell_type": "markdown",
   "metadata": {},
   "source": [
    "**NOTE: this is the two-photon recoil frequency, different from $\\omega_r = \\omega_k/4$ as defined by Kovachy et al.**"
   ]
  },
  {
   "cell_type": "code",
   "execution_count": 46,
   "metadata": {
    "ExecuteTime": {
     "end_time": "2019-06-01T08:46:44.317285Z",
     "start_time": "2019-06-01T08:46:44.154198Z"
    }
   },
   "outputs": [
    {
     "data": {
      "text/latex": [
       "\\begin{equation}\n",
       "  i \\hbar \\frac{d}{d t} a{\\left(n,t \\right)} = - \\Omega_{+eff}{\\left(t \\right)} a{\\left(n - 1,t \\right)} e^{- 2 i \\phi{\\left(t \\right)}} - \\Omega_{+eff}{\\left(t \\right)} a{\\left(n + 1,t \\right)} e^{2 i \\phi{\\left(t \\right)}} + a{\\left(n,t \\right)} \\left(\\beta^{2} \\hbar \\omega_{k} + n^{2} \\hbar \\omega_{k} + n \\left(2 \\beta \\hbar \\omega_{k} + \\hbar \\frac{d}{d t} \\phi{\\left(t \\right)}\\right) - \\Omega_{Δ}{\\left(t \\right)}\\right)\n",
       "\\end{equation}\n"
      ],
      "text/plain": [
       "I*hbar*Derivative(a(n, t), t) = -Omega_+eff(t)*a(n - 1, t)*exp(-2*I*phi(t)) - Omega_+eff(t)*a(n + 1, t)*exp(2*I*phi(t)) + a(n, t)*(beta**2*(hbar*omega_k) + n**2*(hbar*omega_k) + n*(2*beta*(hbar*omega_k) + hbar*Derivative(phi(t), t)) - Omega_Δ(t))"
      ]
     },
     "execution_count": 46,
     "metadata": {},
     "output_type": "execute_result"
    }
   ],
   "source": [
    "TDSE_discrete_p0 = (\n",
    "    TDSE_discrete\n",
    "    .apply_mtd('subs', {p0: β*2*ħ*k})\n",
    "    .apply_mtd('subs', {defs[ωk]: ωk})\n",
    "    .apply_mtd('subs', {ħ * ωk: protect(ħ * ωk)})\n",
    "    .apply_mtd('collect', n)\n",
    "    .apply_mtd('collect', a(n-1, t))\n",
    "    .apply_mtd('collect', a(n+1, t))\n",
    "    .apply_mtd('collect', a(n, t))\n",
    "    .apply_mtd('subs', mirror_specs)\n",
    ")\n",
    "TDSE_discrete_p0"
   ]
  },
  {
   "cell_type": "markdown",
   "metadata": {},
   "source": [
    "### Energy levels"
   ]
  },
  {
   "cell_type": "code",
   "execution_count": 47,
   "metadata": {
    "ExecuteTime": {
     "end_time": "2019-06-01T08:46:58.858746Z",
     "start_time": "2019-06-01T08:46:58.834064Z"
    }
   },
   "outputs": [
    {
     "data": {
      "text/latex": [
       "\\begin{equation}\n",
       "  \\operatorname{E_{n<0}}{\\left(t \\right)} = \\beta^{2} \\hbar \\omega_{k} + n^{2} \\hbar \\omega_{k} + n \\left(2 \\beta \\hbar \\omega_{k} + \\hbar \\frac{d}{d t} \\phi{\\left(t \\right)}\\right) - \\Omega_{Δ}{\\left(t \\right)}\n",
       "\\end{equation}\n"
      ],
      "text/plain": [
       "E_n<0(t) = beta**2*(hbar*omega_k) + n**2*(hbar*omega_k) + n*(2*beta*(hbar*omega_k) + hbar*Derivative(phi(t), t)) - Omega_Δ(t)"
      ]
     },
     "execution_count": 47,
     "metadata": {},
     "output_type": "execute_result"
    }
   ],
   "source": [
    "Eq_Enm = Eq(Enm(t), TDSE_discrete_p0.rhs.coeff(a(n,t)))\n",
    "Eq_Enm"
   ]
  },
  {
   "cell_type": "markdown",
   "metadata": {},
   "source": [
    "## Rapid adiabatic passage"
   ]
  },
  {
   "cell_type": "code",
   "execution_count": 48,
   "metadata": {
    "ExecuteTime": {
     "end_time": "2019-06-01T08:39:16.342364Z",
     "start_time": "2019-06-01T08:39:16.332453Z"
    }
   },
   "outputs": [
    {
     "data": {
      "text/latex": [
       "\\begin{align}\n",
       "  \\phi_{+}{\\left(t \\right)} &= \\delta_{13}{\\left(t \\right)}\\\\\n",
       "   &= \\delta_{13}{\\left(t \\right)}\\\\\n",
       "   &= \\phi_{1}{\\left(t \\right)}\n",
       "\\end{align}\n"
      ],
      "text/plain": [
       "phi_+(t) = delta_13(t)\n",
       "         = delta_13(t)\n",
       "         = phi_1(t)"
      ]
     },
     "execution_count": 48,
     "metadata": {},
     "output_type": "execute_result"
    }
   ],
   "source": [
    "(definition(ϕp(t))\n",
    " .apply_mtd('subs', mirror_specs, cont=True)\n",
    " .apply_mtd('subs', definition(δ13(t)).as_dict, cont=True)\n",
    ")"
   ]
  },
  {
   "cell_type": "code",
   "execution_count": 49,
   "metadata": {
    "ExecuteTime": {
     "end_time": "2019-06-01T08:39:17.636607Z",
     "start_time": "2019-06-01T08:39:17.620889Z"
    }
   },
   "outputs": [
    {
     "data": {
      "text/latex": [
       "\\begin{align}\n",
       "  \\phi_{-}{\\left(t \\right)} &= - \\delta_{0} t + \\delta_{12}{\\left(t \\right)}\\\\\n",
       "  \\phi{\\left(t \\right)} &= - \\delta_{0} t + \\delta_{12}{\\left(t \\right)}\\\\\n",
       "   &= - \\delta_{0} t + \\phi_{1}{\\left(t \\right)} - \\phi_{2}{\\left(t \\right)}\n",
       "\\end{align}\n"
      ],
      "text/plain": [
       "phi_-(t) = -delta_0*t + delta12(t)\n",
       "  phi(t) = -delta_0*t + delta12(t)\n",
       "         = -delta_0*t + phi_1(t) - phi_2(t)"
      ]
     },
     "execution_count": 49,
     "metadata": {},
     "output_type": "execute_result"
    }
   ],
   "source": [
    "(definition(ϕm(t))\n",
    " .apply_mtd('subs', mirror_specs, cont=True)\n",
    " .apply_mtd('subs', definition(δ12(t)).as_dict, cont=True)\n",
    ")"
   ]
  },
  {
   "cell_type": "code",
   "execution_count": 50,
   "metadata": {
    "ExecuteTime": {
     "end_time": "2019-06-01T08:48:04.525617Z",
     "start_time": "2019-06-01T08:48:04.516919Z"
    }
   },
   "outputs": [],
   "source": [
    "rap_phases = {\n",
    "    ϕp(t).subs(mirror_specs): 0,  # -α * protect(t - tc)**2 / 2,\n",
    "    ϕm(t).subs(mirror_specs): +α * protect(t - tc)**2 / 2,\n",
    "}"
   ]
  },
  {
   "cell_type": "code",
   "execution_count": 51,
   "metadata": {},
   "outputs": [
    {
     "data": {
      "image/png": "[encoded data removed]",
      "text/latex": [
       "$\\displaystyle \\left\\{ \\phi{\\left(t \\right)} : \\frac{\\alpha \\left(t - t_{c}\\right)^{2}}{2}, \\  \\phi_{+}{\\left(t \\right)} : 0\\right\\}$"
      ],
      "text/plain": [
       "⎧                 2          ⎫\n",
       "⎪      α⋅(t - t_c)           ⎪\n",
       "⎨φ(t): ────────────, φ₊(t): 0⎬\n",
       "⎪           2                ⎪\n",
       "⎩                            ⎭"
      ]
     },
     "execution_count": 51,
     "metadata": {},
     "output_type": "execute_result"
    }
   ],
   "source": [
    "rap_phases"
   ]
  },
  {
   "cell_type": "code",
   "execution_count": 52,
   "metadata": {
    "ExecuteTime": {
     "end_time": "2019-06-01T08:48:06.868889Z",
     "start_time": "2019-06-01T08:48:06.864062Z"
    }
   },
   "outputs": [],
   "source": [
    "def plug_in_phases(phases_dict):\n",
    "    def _doit(expr):\n",
    "        expr_expanded = standard_phase_form(\n",
    "            expr\n",
    "            .subs(phases_dict)\n",
    "            .doit()  # do the derivatives\n",
    "            .expand()\n",
    "        )\n",
    "        return (\n",
    "            expr_expanded\n",
    "            .collect(a(n-1, t))\n",
    "            .collect(a(n+1, t))\n",
    "            .collect(a(n, t))\n",
    "        )\n",
    "    return _doit"
   ]
  },
  {
   "cell_type": "code",
   "execution_count": 53,
   "metadata": {
    "ExecuteTime": {
     "end_time": "2019-06-01T08:48:08.503787Z",
     "start_time": "2019-06-01T08:48:08.495064Z"
    }
   },
   "outputs": [],
   "source": [
    "def rap_rewriting(expr):\n",
    "    \"\"\"Write things a bit more intuitively, specifically for the RAP case\"\"\"\n",
    "    return (\n",
    "        expr\n",
    "        .subs({(α * (t - tc)**2).expand(): (α * (t - tc)**2)})\n",
    "        .subs({(α * ħ * n * (t - tc)).expand(): n * protect(ħ*α * (t - tc))})\n",
    "        .subs({tc - t: sympy.Mul(-1, protect(t - tc), evaluate=False)})\n",
    "        .subs({ħ * ωk: protect(ħ * ωk)})\n",
    "        .collect((t-tc))\n",
    "    )"
   ]
  },
  {
   "cell_type": "code",
   "execution_count": 54,
   "metadata": {
    "ExecuteTime": {
     "end_time": "2019-06-01T08:48:30.742008Z",
     "start_time": "2019-06-01T08:48:30.544976Z"
    }
   },
   "outputs": [
    {
     "data": {
      "text/latex": [
       "\\begin{equation}\n",
       "  i \\hbar \\frac{d}{d t} a{\\left(n,t \\right)} = - \\Omega_{+eff}{\\left(t \\right)} a{\\left(1 - \\left|{n}\\right|,t \\right)} e^{i \\alpha \\left(t - t_{c}\\right)^{2}} - \\Omega_{+eff}{\\left(t \\right)} a{\\left(- \\left|{n}\\right| - 1,t \\right)} e^{- i \\alpha \\left(t - t_{c}\\right)^{2}} + a{\\left(n,t \\right)} \\left(\\beta^{2} \\hbar \\omega_{k} + 2 \\beta n \\hbar \\omega_{k} + n^{2} \\hbar \\omega_{k} + n \\alpha \\hbar \\left(t - t_{c}\\right) - \\Omega_{Δ}{\\left(t \\right)}\\right)\n",
       "\\end{equation}\n"
      ],
      "text/plain": [
       "I*hbar*Derivative(a(n, t), t) = -Omega_+eff(t)*a(1 - Abs(n), t)*exp(I*alpha*(t - t_c)**2) - Omega_+eff(t)*a(-Abs(n) - 1, t)*exp(-I*alpha*(t - t_c)**2) + a(n, t)*(beta**2*(hbar*omega_k) + 2*beta*n*(hbar*omega_k) + n**2*(hbar*omega_k) + n*(alpha*hbar*(t - t_c)) - Omega_Δ(t))"
      ]
     },
     "execution_count": 54,
     "metadata": {},
     "output_type": "execute_result"
    }
   ],
   "source": [
    "TDSE_rap = (\n",
    "    TDSE_discrete_p0\n",
    "    .apply(plug_in_phases(rap_phases))\n",
    "    .apply(rap_rewriting)\n",
    "    .apply_mtd('subs', {-n: Abs(n)})\n",
    ")\n",
    "TDSE_rap"
   ]
  },
  {
   "cell_type": "markdown",
   "metadata": {},
   "source": [
    "## Dynamic Frame"
   ]
  },
  {
   "cell_type": "code",
   "execution_count": 55,
   "metadata": {
    "ExecuteTime": {
     "end_time": "2019-06-01T08:48:56.848943Z",
     "start_time": "2019-06-01T08:48:56.830871Z"
    }
   },
   "outputs": [
    {
     "data": {
      "text/latex": [
       "\\begin{equation}\n",
       "  \\eta{\\left(t \\right)} = - \\frac{\\alpha^{2} \\left(t - t_{c}\\right)^{2} + 1}{4}\n",
       "\\end{equation}\n"
      ],
      "text/plain": [
       "eta(t) = -(alpha**2*(t - t_c)**2 + 1)/4"
      ]
     },
     "execution_count": 55,
     "metadata": {},
     "output_type": "execute_result"
    }
   ],
   "source": [
    "defs[η(t)] = -protect((α * (t - tc))**2 + 1) / 4\n",
    "definition(η(t))"
   ]
  },
  {
   "cell_type": "code",
   "execution_count": 56,
   "metadata": {
    "ExecuteTime": {
     "end_time": "2019-06-01T08:48:57.918159Z",
     "start_time": "2019-06-01T08:48:57.880271Z"
    }
   },
   "outputs": [
    {
     "data": {
      "text/latex": [
       "\\begin{align}\n",
       "  \\phi_{d}{\\left(t \\right)} &= \\int \\left(- \\frac{\\alpha^{2} \\left(t - t_{c}\\right)^{2} + 1}{4}\\right)\\, dt\\\\\n",
       "   &= - \\frac{\\alpha^{2} t^{3}}{12} + \\frac{\\alpha^{2} t^{2} t_{c}}{4} + t \\left(- \\frac{\\alpha^{2} t_{c}^{2}}{4} - \\frac{1}{4}\\right)\n",
       "\\end{align}\n"
      ],
      "text/plain": [
       "phi_d(t) = Integral(-(alpha**2*(t - t_c)**2 + 1)/4, t)\n",
       "         = -alpha**2*t**3/12 + alpha**2*t**2*t_c/4 + t*(-alpha**2*t_c**2/4 - 1/4)"
      ]
     },
     "execution_count": 56,
     "metadata": {},
     "output_type": "execute_result"
    }
   ],
   "source": [
    "defs[ϕd(t)] = sympy.Integral(defs[η(t)], t)\n",
    "definition(ϕd(t)).apply_mtd('doit', cont=True)"
   ]
  },
  {
   "cell_type": "code",
   "execution_count": 57,
   "metadata": {
    "ExecuteTime": {
     "end_time": "2019-06-01T08:48:58.834424Z",
     "start_time": "2019-06-01T08:48:58.829683Z"
    }
   },
   "outputs": [],
   "source": [
    "def to_dynamic_frame(H, U):\n",
    "    return (\n",
    "        I*ħ*U.diff(t).doit()*U.conjugate().transpose().doit()\n",
    "        + (U * H * U.conjugate().transpose()).doit()\n",
    "    )"
   ]
  },
  {
   "cell_type": "code",
   "execution_count": 58,
   "metadata": {
    "ExecuteTime": {
     "end_time": "2019-06-01T08:48:59.842559Z",
     "start_time": "2019-06-01T08:48:59.796797Z"
    }
   },
   "outputs": [
    {
     "data": {
      "text/latex": [
       "\\begin{equation}\n",
       "  \\operatorname{E_{n>0}}{\\left(t \\right)} = \\alpha \\hbar n \\left(t - t_{c}\\right) + \\hbar n^{2} \\omega_{k} + \\frac{\\hbar \\left(\\alpha^{2} \\left(t - t_{c}\\right)^{2} + 1\\right)}{4}\n",
       "\\end{equation}\n"
      ],
      "text/plain": [
       "E_n>0(t) = alpha*hbar*n*(t - t_c) + hbar*n**2*omega_k + hbar*(alpha**2*(t - t_c)**2 + 1)/4"
      ]
     },
     "execution_count": 58,
     "metadata": {},
     "output_type": "execute_result"
    }
   ],
   "source": [
    "Eq(Enp(t), to_dynamic_frame(\n",
    "    H=TDSE_rap.rhs.coeff(a(n, t)).subs({β: 0, Ω['Δ'](t): 0}),\n",
    "    U=exp(I * sympy.Integral(defs[η(t)], t))\n",
    "))"
   ]
  },
  {
   "cell_type": "markdown",
   "metadata": {},
   "source": [
    "## Scheme with π pulses"
   ]
  },
  {
   "cell_type": "markdown",
   "metadata": {},
   "source": [
    "We choose a laser frequency that targets the transition $n_0 \\rightarrow n_0+1$"
   ]
  },
  {
   "cell_type": "code",
   "execution_count": 59,
   "metadata": {
    "ExecuteTime": {
     "end_time": "2019-06-01T08:49:02.515208Z",
     "start_time": "2019-06-01T08:49:02.496442Z"
    }
   },
   "outputs": [
    {
     "data": {
      "text/latex": [
       "\\begin{equation}\n",
       "  \\omega_{L} = \\omega_{k} \\left(2 n_{0} + 1\\right)\n",
       "\\end{equation}\n"
      ],
      "text/plain": [
       "omega_L = omega_k*(2*n_0 + 1)"
      ]
     },
     "execution_count": 59,
     "metadata": {},
     "output_type": "execute_result"
    }
   ],
   "source": [
    "defs[ωL] = (((n0+1)**2 - n0**2) * ωk).expand().collect(ωk)\n",
    "definition(ωL)"
   ]
  },
  {
   "cell_type": "code",
   "execution_count": 60,
   "metadata": {
    "ExecuteTime": {
     "end_time": "2019-06-01T08:49:03.440053Z",
     "start_time": "2019-06-01T08:49:03.430819Z"
    }
   },
   "outputs": [
    {
     "data": {
      "text/latex": [
       "\\begin{equation}\n",
       "  n' = - n_{0} + \\left|{n}\\right|\n",
       "\\end{equation}\n"
      ],
      "text/plain": [
       "n' = -n_0 + Abs(n)"
      ]
     },
     "execution_count": 60,
     "metadata": {},
     "output_type": "execute_result"
    }
   ],
   "source": [
    "defs[nprime] = Abs(n) - n0\n",
    "definition(nprime)"
   ]
  },
  {
   "cell_type": "code",
   "execution_count": 61,
   "metadata": {
    "ExecuteTime": {
     "end_time": "2019-06-01T08:49:04.562632Z",
     "start_time": "2019-06-01T08:49:04.553773Z"
    }
   },
   "outputs": [],
   "source": [
    "pipulse_phases = {\n",
    "    ϕp(t).subs(mirror_specs): (-ωL * t).subs(definition(ωL).as_dict),\n",
    "    ϕm(t).subs(mirror_specs): (ωL * t).subs(definition(ωL).as_dict),\n",
    "}"
   ]
  },
  {
   "cell_type": "code",
   "execution_count": 62,
   "metadata": {
    "ExecuteTime": {
     "end_time": "2019-06-01T08:49:08.525204Z",
     "start_time": "2019-06-01T08:49:07.903386Z"
    }
   },
   "outputs": [
    {
     "data": {
      "image/png": "[encoded data removed]",
      "text/latex": [
       "$\\displaystyle \\left\\{ \\phi{\\left(t \\right)} : \\omega_{k} t \\left(2 n_{0} + 1\\right), \\  \\phi_{+}{\\left(t \\right)} : - \\omega_{k} t \\left(2 n_{0} + 1\\right)\\right\\}$"
      ],
      "text/plain": [
       "{φ(t): ωₖ⋅t⋅(2⋅n₀ + 1), φ₊(t): -ωₖ⋅t⋅(2⋅n₀ + 1)}"
      ]
     },
     "execution_count": 62,
     "metadata": {},
     "output_type": "execute_result"
    }
   ],
   "source": [
    "pipulse_phases"
   ]
  },
  {
   "cell_type": "code",
   "execution_count": 63,
   "metadata": {
    "ExecuteTime": {
     "end_time": "2019-06-01T08:49:09.419536Z",
     "start_time": "2019-06-01T08:49:09.412779Z"
    }
   },
   "outputs": [],
   "source": [
    "def rewrite_with_nprime(abs_n=None):\n",
    "    E_n = ((nprime**2 - nprime) - (n0 * (n0+1))) * protect(ħ*ωk)\n",
    "    E_n_expanded = (\n",
    "        E_n\n",
    "        .subs(definition(nprime).as_dict)\n",
    "        .expand()\n",
    "        .doit() # un-protect ħωₖ\n",
    "    )\n",
    "    if abs_n is not None:\n",
    "        E_n_expanded = E_n_expanded.subs({Abs(n): abs_n})\n",
    "        \n",
    "    def _doit(expr):\n",
    "        return expr.subs({E_n_expanded: E_n})\n",
    "    \n",
    "    return _doit        "
   ]
  },
  {
   "cell_type": "code",
   "execution_count": 64,
   "metadata": {
    "ExecuteTime": {
     "end_time": "2019-06-01T08:49:11.432640Z",
     "start_time": "2019-06-01T08:49:11.292389Z"
    }
   },
   "outputs": [
    {
     "data": {
      "text/latex": [
       "\\begin{equation}\n",
       "  i \\hbar \\frac{d}{d t} a{\\left(n,t \\right)} = - \\Omega_{+eff}{\\left(t \\right)} a{\\left(n - 1,t \\right)} e^{i t \\left(- 4 n_{0} \\omega_{k} - 2 \\omega_{k}\\right)} - \\Omega_{+eff}{\\left(t \\right)} a{\\left(n + 1,t \\right)} e^{i t \\left(4 n_{0} \\omega_{k} + 2 \\omega_{k}\\right)} + a{\\left(n,t \\right)} \\left(\\beta^{2} \\hbar \\omega_{k} + 2 \\beta \\hbar n \\omega_{k} + \\left(n'^{2} - n' - n_{0} \\left(n_{0} + 1\\right)\\right) \\hbar \\omega_{k} - \\Omega_{Δ}{\\left(t \\right)}\\right)\n",
       "\\end{equation}\n"
      ],
      "text/plain": [
       "I*hbar*Derivative(a(n, t), t) = -Omega_+eff(t)*a(n - 1, t)*exp(I*t*(-4*n_0*omega_k - 2*omega_k)) - Omega_+eff(t)*a(n + 1, t)*exp(I*t*(4*n_0*omega_k + 2*omega_k)) + a(n, t)*(beta**2*hbar*omega_k + 2*beta*hbar*n*omega_k + (n'**2 - n' - n_0*(n_0 + 1))*(hbar*omega_k) - Omega_Δ(t))"
      ]
     },
     "execution_count": 64,
     "metadata": {},
     "output_type": "execute_result"
    }
   ],
   "source": [
    "TDSE_pipulse = (\n",
    "    TDSE_discrete_p0\n",
    "    .apply(plug_in_phases(pipulse_phases))\n",
    "    .apply(rewrite_with_nprime(abs_n=-n))\n",
    ")\n",
    "TDSE_pipulse"
   ]
  }
 ],
 "metadata": {
  "hide_input": false,
  "kernelspec": {
   "display_name": "Python 3",
   "language": "python",
   "name": "python3"
  },
  "language_info": {
   "codemirror_mode": {
    "name": "ipython",
    "version": 3
   },
   "file_extension": ".py",
   "mimetype": "text/x-python",
   "name": "python",
   "nbconvert_exporter": "python",
   "pygments_lexer": "ipython3",
   "version": "3.7.3"
  },
  "toc": {
   "base_numbering": 1,
   "nav_menu": {
    "height": "379px",
    "width": "360px"
   },
   "number_sections": true,
   "sideBar": true,
   "skip_h1_title": false,
   "title_cell": "Table of Contents",
   "title_sidebar": "Contents",
   "toc_cell": false,
   "toc_position": {},
   "toc_section_display": true,
   "toc_window_display": false
  },
  "varInspector": {
   "cols": {
    "lenName": 16,
    "lenType": 16,
    "lenVar": 40
   },
   "kernels_config": {
    "python": {
     "delete_cmd_postfix": "",
     "delete_cmd_prefix": "del ",
     "library": "var_list.py",
     "varRefreshCmd": "print(var_dic_list())"
    },
    "r": {
     "delete_cmd_postfix": ") ",
     "delete_cmd_prefix": "rm(",
     "library": "var_list.r",
     "varRefreshCmd": "cat(var_dic_list()) "
    }
   },
   "types_to_exclude": [
    "module",
    "function",
    "builtin_function_or_method",
    "instance",
    "_Feature"
   ],
   "window_display": false
  }
 },
 "nbformat": 4,
 "nbformat_minor": 2
}
