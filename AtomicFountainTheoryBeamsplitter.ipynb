{
 "cells": [
  {
   "cell_type": "markdown",
   "metadata": {},
   "source": [
    "# Theory for Atomic Fountain Interferometer - Beamsplitter"
   ]
  },
  {
   "cell_type": "code",
   "execution_count": 1,
   "metadata": {
    "ExecuteTime": {
     "end_time": "2019-06-01T08:05:39.650163Z",
     "start_time": "2019-06-01T08:05:39.642302Z"
    }
   },
   "outputs": [],
   "source": [
    "from functools import partial"
   ]
  },
  {
   "cell_type": "code",
   "execution_count": 2,
   "metadata": {
    "ExecuteTime": {
     "end_time": "2019-06-01T08:05:40.752277Z",
     "start_time": "2019-06-01T08:05:39.653762Z"
    }
   },
   "outputs": [],
   "source": [
    "import sympy\n",
    "import numpy as np\n",
    "import matplotlib\n",
    "import matplotlib.pylab as plt"
   ]
  },
  {
   "cell_type": "code",
   "execution_count": 3,
   "metadata": {
    "ExecuteTime": {
     "end_time": "2019-06-01T08:05:40.761271Z",
     "start_time": "2019-06-01T08:05:40.755481Z"
    }
   },
   "outputs": [],
   "source": [
    "%matplotlib inline"
   ]
  },
  {
   "cell_type": "code",
   "execution_count": 4,
   "metadata": {
    "ExecuteTime": {
     "end_time": "2019-06-01T08:05:41.059855Z",
     "start_time": "2019-06-01T08:05:40.763420Z"
    }
   },
   "outputs": [],
   "source": [
    "sympy.init_printing()"
   ]
  },
  {
   "cell_type": "code",
   "execution_count": 5,
   "metadata": {
    "ExecuteTime": {
     "end_time": "2019-06-01T08:05:41.067114Z",
     "start_time": "2019-06-01T08:05:41.061744Z"
    }
   },
   "outputs": [],
   "source": [
    "from sympy import Wild, symbols, Function, exp, cos, I, DiracDelta, Abs, oo"
   ]
  },
  {
   "cell_type": "code",
   "execution_count": 6,
   "metadata": {
    "ExecuteTime": {
     "end_time": "2019-06-01T08:05:41.074665Z",
     "start_time": "2019-06-01T08:05:41.069845Z"
    }
   },
   "outputs": [],
   "source": [
    "from sympy import UnevaluatedExpr as protect"
   ]
  },
  {
   "cell_type": "code",
   "execution_count": 7,
   "metadata": {
    "ExecuteTime": {
     "end_time": "2019-06-01T08:05:41.097641Z",
     "start_time": "2019-06-01T08:05:41.079323Z"
    }
   },
   "outputs": [],
   "source": [
    "from symbolic_equation import Eq"
   ]
  },
  {
   "cell_type": "code",
   "execution_count": 8,
   "metadata": {
    "ExecuteTime": {
     "end_time": "2019-06-01T08:05:41.118940Z",
     "start_time": "2019-06-01T08:05:41.112364Z"
    }
   },
   "outputs": [],
   "source": [
    "# local imports\n",
    "from dirac_tools import normalize_dirac_delta_terms"
   ]
  },
  {
   "cell_type": "markdown",
   "metadata": {},
   "source": [
    "## Symbols"
   ]
  },
  {
   "cell_type": "code",
   "execution_count": 9,
   "metadata": {
    "ExecuteTime": {
     "end_time": "2019-06-01T08:05:41.130528Z",
     "start_time": "2019-06-01T08:05:41.124186Z"
    }
   },
   "outputs": [],
   "source": [
    "z, t, tc, k, Δ, μ12, p, p0, α, β = symbols('z, t, t_c, k, Delta, mu_12, p, p0, alpha, beta', real=True)"
   ]
  },
  {
   "cell_type": "code",
   "execution_count": 10,
   "metadata": {
    "ExecuteTime": {
     "end_time": "2019-06-01T08:05:41.148715Z",
     "start_time": "2019-06-01T08:05:41.135977Z"
    }
   },
   "outputs": [],
   "source": [
    "ω0, m, ħ, ωk, ωL = symbols('omega_0, m, hbar, omega_k, omega_L', positive=True)"
   ]
  },
  {
   "cell_type": "code",
   "execution_count": 11,
   "metadata": {
    "ExecuteTime": {
     "end_time": "2019-06-01T08:05:41.161097Z",
     "start_time": "2019-06-01T08:05:41.155656Z"
    }
   },
   "outputs": [],
   "source": [
    "a, b, b̃ = symbols('a, b, b̃', cls=Function)"
   ]
  },
  {
   "cell_type": "code",
   "execution_count": 12,
   "metadata": {
    "ExecuteTime": {
     "end_time": "2019-06-01T08:05:41.171827Z",
     "start_time": "2019-06-01T08:05:41.164284Z"
    }
   },
   "outputs": [],
   "source": [
    "δ0, δ0p = symbols(\"delta_0, delta_0^'\", real=True)"
   ]
  },
  {
   "cell_type": "code",
   "execution_count": 13,
   "metadata": {
    "ExecuteTime": {
     "end_time": "2019-06-01T08:05:41.186780Z",
     "start_time": "2019-06-01T08:05:41.177539Z"
    }
   },
   "outputs": [],
   "source": [
    "ϕ1, ϕ2, ϕ3, ϕp, ϕm, ϕd, η = symbols(\"phi_1, phi_2, phi_3, phi_+, phi_-, phi_d, eta\", cls=Function, real=True)"
   ]
  },
  {
   "cell_type": "code",
   "execution_count": 14,
   "metadata": {
    "ExecuteTime": {
     "end_time": "2019-06-01T08:05:41.195013Z",
     "start_time": "2019-06-01T08:05:41.189921Z"
    }
   },
   "outputs": [],
   "source": [
    "δ12, δ13, δ23 = symbols(\"delta12, delta_13, delta_23\", cls=Function, real=True)"
   ]
  },
  {
   "cell_type": "code",
   "execution_count": 15,
   "metadata": {
    "ExecuteTime": {
     "end_time": "2019-06-01T08:05:41.205318Z",
     "start_time": "2019-06-01T08:05:41.197903Z"
    }
   },
   "outputs": [],
   "source": [
    "ω1, ω2, ω3, Enp, Enm = symbols(\"omega_1, omega_2, omega_3, E_n>0, E_n<0\", cls=Function, real=True)"
   ]
  },
  {
   "cell_type": "code",
   "execution_count": 16,
   "metadata": {
    "ExecuteTime": {
     "end_time": "2019-06-01T08:05:41.215726Z",
     "start_time": "2019-06-01T08:05:41.208819Z"
    }
   },
   "outputs": [],
   "source": [
    "class _OmegaSym:\n",
    "    def __getitem__(self, key):\n",
    "        repl = {\n",
    "            '-k^(+)': '+',\n",
    "            '-k^(-)': '-',\n",
    "        }\n",
    "        key = repl.get(key, key)\n",
    "        return symbols('Omega_%s' % key, cls=Function, positive=True)\n",
    "Ω = _OmegaSym()"
   ]
  },
  {
   "cell_type": "code",
   "execution_count": 17,
   "metadata": {
    "ExecuteTime": {
     "end_time": "2019-06-01T08:05:41.228113Z",
     "start_time": "2019-06-01T08:05:41.220575Z"
    }
   },
   "outputs": [],
   "source": [
    "n, n0, nprime = symbols(\"n, n_0, n'\", integer=True)"
   ]
  },
  {
   "cell_type": "code",
   "execution_count": 18,
   "metadata": {
    "ExecuteTime": {
     "end_time": "2019-06-01T08:05:41.252903Z",
     "start_time": "2019-06-01T08:05:41.231715Z"
    }
   },
   "outputs": [],
   "source": [
    "_w = Wild('w')"
   ]
  },
  {
   "cell_type": "code",
   "execution_count": 19,
   "metadata": {
    "ExecuteTime": {
     "end_time": "2019-06-01T08:05:41.263882Z",
     "start_time": "2019-06-01T08:05:41.256771Z"
    }
   },
   "outputs": [],
   "source": [
    "defs = {}"
   ]
  },
  {
   "cell_type": "code",
   "execution_count": 20,
   "metadata": {
    "ExecuteTime": {
     "end_time": "2019-06-01T08:05:41.291001Z",
     "start_time": "2019-06-01T08:05:41.282567Z"
    }
   },
   "outputs": [],
   "source": [
    "def definition(sym):\n",
    "    return Eq(sym, defs[sym])"
   ]
  },
  {
   "cell_type": "code",
   "execution_count": 21,
   "metadata": {
    "ExecuteTime": {
     "end_time": "2019-06-01T08:05:41.312200Z",
     "start_time": "2019-06-01T08:05:41.293567Z"
    }
   },
   "outputs": [],
   "source": [
    "def standard_phase_form(expr):\n",
    "    \"\"\"Combine exponentials and separate out $i$ and $t$.\n",
    "    This ensures the standard form $e^{i ω t)$\n",
    "    \"\"\"\n",
    "    return (\n",
    "        expr\n",
    "        .powsimp()\n",
    "        .replace(exp, lambda arg: exp(arg.collect(I)))\n",
    "        .replace(exp, lambda arg: exp(arg.collect(t)))\n",
    "    )"
   ]
  },
  {
   "cell_type": "markdown",
   "metadata": {},
   "source": [
    "## Schrödinger equation in position space"
   ]
  },
  {
   "cell_type": "markdown",
   "metadata": {},
   "source": [
    "**NOTE**: The original notes on the derivation of the Hamiltonian used a convention where the signs for the phases in $\\Omega_{-}$ and $\\Omega_{+}$ used opposite signs. Here, we have used a sign convention that leads to fully symmetric equations. The only things that changes is that any $\\phi_3(t)$ and any $\\delta_0^\\prime$ change signs. Any lines that are affected by this are marked with a comment `# SIGN`."
   ]
  },
  {
   "cell_type": "code",
   "execution_count": 22,
   "metadata": {
    "ExecuteTime": {
     "end_time": "2019-06-01T08:05:41.414265Z",
     "start_time": "2019-06-01T08:05:41.319217Z"
    }
   },
   "outputs": [],
   "source": [
    "defs[b̃(z, t)] = (\n",
    "    1 / (2 * Δ) * (\n",
    "        Ω['k'](t) * exp(-I * (ϕ1(t) + k*z))\n",
    "        + Ω['-k^(+)'](t) * exp(-I * (ϕ2(t) + δ0 * t - k * z))\n",
    "        + Ω['-k^(-)'](t) * exp(-I * (ϕ3(t) + δ0p * t - k * z))  # SIGN\n",
    "    ) * a(z, t)\n",
    ").expand().collect(a(z, t))"
   ]
  },
  {
   "cell_type": "code",
   "execution_count": 23,
   "metadata": {
    "ExecuteTime": {
     "end_time": "2019-06-01T08:05:41.492550Z",
     "start_time": "2019-06-01T08:05:41.422686Z"
    }
   },
   "outputs": [
    {
     "data": {
      "text/latex": [
       "\\begin{equation}\n",
       "  \\operatorname{b̃}{\\left(z,t \\right)} = \\left(\\frac{\\Omega_{+}{\\left(t \\right)} e^{- i \\phi_{2}{\\left(t \\right)}} e^{- i \\delta_{0} t} e^{i k z}}{2 \\Delta} + \\frac{\\Omega_{-}{\\left(t \\right)} e^{- i \\phi_{3}{\\left(t \\right)}} e^{- i \\delta^{'}_{0} t} e^{i k z}}{2 \\Delta} + \\frac{\\Omega_{k}{\\left(t \\right)} e^{- i \\phi_{1}{\\left(t \\right)}} e^{- i k z}}{2 \\Delta}\\right) a{\\left(z,t \\right)}\n",
       "\\end{equation}\n"
      ],
      "text/plain": [
       "b̃(z, t) = (Omega_+(t)*exp(-I*phi_2(t))*exp(-I*delta_0*t)*exp(I*k*z)/(2*Delta) + Omega_-(t)*exp(-I*phi_3(t))*exp(-I*delta_0^'*t)*exp(I*k*z)/(2*Delta) + Omega_k(t)*exp(-I*phi_1(t))*exp(-I*k*z)/(2*Delta))*a(z, t)"
      ]
     },
     "execution_count": 23,
     "metadata": {},
     "output_type": "execute_result"
    }
   ],
   "source": [
    "definition(b̃(z, t))"
   ]
  },
  {
   "cell_type": "code",
   "execution_count": 24,
   "metadata": {
    "ExecuteTime": {
     "end_time": "2019-06-01T08:05:41.559455Z",
     "start_time": "2019-06-01T08:05:41.498369Z"
    }
   },
   "outputs": [
    {
     "data": {
      "text/latex": [
       "\\begin{equation}\n",
       "  i \\hbar \\frac{\\partial}{\\partial t} a{\\left(z,t \\right)} = - \\left(\\Omega_{+}{\\left(t \\right)} \\cos{\\left(k z - \\omega_{2}{\\left(t \\right)} \\right)} + \\Omega_{-}{\\left(t \\right)} \\cos{\\left(k z - \\omega_{3}{\\left(t \\right)} \\right)} + \\Omega_{k}{\\left(t \\right)} \\cos{\\left(k z + \\omega_{1}{\\left(t \\right)} \\right)}\\right) b{\\left(t \\right)} + \\frac{p^{2} a{\\left(z,t \\right)}}{2 m}\n",
       "\\end{equation}\n"
      ],
      "text/plain": [
       "I*hbar*Derivative(a(z, t), t) = -(Omega_+(t)*cos(k*z - omega_2(t)) + Omega_-(t)*cos(k*z - omega_3(t)) + Omega_k(t)*cos(k*z + omega_1(t)))*b(t) + p**2*a(z, t)/(2*m)"
      ]
     },
     "execution_count": 24,
     "metadata": {},
     "output_type": "execute_result"
    }
   ],
   "source": [
    "TDSE_a = Eq(\n",
    "    I * ħ * a(z, t).diff(t),\n",
    "    p**2/(2*m) * a(z, t) - (\n",
    "        Ω['k'](t) * cos(ω1(t) + k * z)\n",
    "        + Ω['-k^(+)'](t) * cos(ω2(t) - k * z)\n",
    "        + Ω['-k^(-)'](t) * cos(ω3(t) - k * z)\n",
    "    ) * b(t)\n",
    ")\n",
    "TDSE_a"
   ]
  },
  {
   "cell_type": "code",
   "execution_count": 25,
   "metadata": {
    "ExecuteTime": {
     "end_time": "2019-06-01T08:05:42.018420Z",
     "start_time": "2019-06-01T08:05:41.562434Z"
    }
   },
   "outputs": [
    {
     "data": {
      "text/latex": [
       "\\begin{equation}\n",
       "  i \\hbar \\frac{\\partial}{\\partial t} a{\\left(z,t \\right)} = \\left(\\frac{p^{2}}{2 m} - \\frac{\\Omega_{+}^{2}{\\left(t \\right)}}{4 \\Delta} - \\frac{\\Omega_{+}{\\left(t \\right)} \\Omega_{-}{\\left(t \\right)} e^{i \\left(t \\left(- \\delta_{0} + \\delta^{'}_{0}\\right) - \\phi_{2}{\\left(t \\right)} + \\phi_{3}{\\left(t \\right)}\\right)}}{4 \\Delta} - \\frac{\\Omega_{+}{\\left(t \\right)} \\Omega_{-}{\\left(t \\right)} e^{i \\left(t \\left(\\delta_{0} - \\delta^{'}_{0}\\right) + \\phi_{2}{\\left(t \\right)} - \\phi_{3}{\\left(t \\right)}\\right)}}{4 \\Delta} - \\frac{\\Omega_{+}{\\left(t \\right)} \\Omega_{k}{\\left(t \\right)} e^{i \\left(- \\delta_{0} t + 2 k z + \\phi_{1}{\\left(t \\right)} - \\phi_{2}{\\left(t \\right)}\\right)}}{4 \\Delta} - \\frac{\\Omega_{+}{\\left(t \\right)} \\Omega_{k}{\\left(t \\right)} e^{i \\left(\\delta_{0} t - 2 k z - \\phi_{1}{\\left(t \\right)} + \\phi_{2}{\\left(t \\right)}\\right)}}{4 \\Delta} - \\frac{\\Omega_{-}^{2}{\\left(t \\right)}}{4 \\Delta} - \\frac{\\Omega_{-}{\\left(t \\right)} \\Omega_{k}{\\left(t \\right)} e^{i \\left(- \\delta^{'}_{0} t + 2 k z + \\phi_{1}{\\left(t \\right)} - \\phi_{3}{\\left(t \\right)}\\right)}}{4 \\Delta} - \\frac{\\Omega_{-}{\\left(t \\right)} \\Omega_{k}{\\left(t \\right)} e^{i \\left(\\delta^{'}_{0} t - 2 k z - \\phi_{1}{\\left(t \\right)} + \\phi_{3}{\\left(t \\right)}\\right)}}{4 \\Delta} - \\frac{\\Omega_{k}^{2}{\\left(t \\right)}}{4 \\Delta}\\right) a{\\left(z,t \\right)}\n",
       "\\end{equation}\n"
      ],
      "text/plain": [
       "I*hbar*Derivative(a(z, t), t) = (p**2/(2*m) - Omega_+(t)**2/(4*Delta) - Omega_+(t)*Omega_-(t)*exp(I*(t*(-delta_0 + delta_0^') - phi_2(t) + phi_3(t)))/(4*Delta) - Omega_+(t)*Omega_-(t)*exp(I*(t*(delta_0 - delta_0^') + phi_2(t) - phi_3(t)))/(4*Delta) - Omega_+(t)*Omega_k(t)*exp(I*(-delta_0*t + 2*k*z + phi_1(t) - phi_2(t)))/(4*Delta) - Omega_+(t)*Omega_k(t)*exp(I*(delta_0*t - 2*k*z - phi_1(t) + phi_2(t)))/(4*Delta) - Omega_-(t)**2/(4*Delta) - Omega_-(t)*Omega_k(t)*exp(I*(-delta_0^'*t + 2*k*z + phi_1(t) - phi_3(t)))/(4*Delta) - Omega_-(t)*Omega_k(t)*exp(I*(delta_0^'*t - 2*k*z - phi_1(t) + phi_3(t)))/(4*Delta) - Omega_k(t)**2/(4*Delta))*a(z, t)"
      ]
     },
     "execution_count": 25,
     "metadata": {},
     "output_type": "execute_result"
    }
   ],
   "source": [
    "TDSE_a_2 = (\n",
    "    TDSE_a\n",
    "    .apply_mtd(\n",
    "        'subs',\n",
    "        {\n",
    "            b(t): defs[b̃(z, t)] * exp(-I * ω0 * t),\n",
    "            ω1(t): ω0 * t + ϕ1(t),\n",
    "            ω2(t): ω0 * t + ϕ2(t) + δ0 * t,\n",
    "            ω3(t): ω0 * t + ϕ3(t) + δ0p * t,  # SIGN\n",
    "        })\n",
    "     .apply_mtd('rewrite', exp, cont=False)\n",
    "     .apply_mtd('expand')\n",
    "     .apply_mtd('subs', {exp(-2 * I * ω0 * t): 0}) # neglect counter-rotating term\n",
    "     .apply(standard_phase_form)\n",
    "     .apply_mtd('collect', a(z, t))\n",
    ")\n",
    "TDSE_a_2"
   ]
  },
  {
   "cell_type": "markdown",
   "metadata": {},
   "source": [
    "## Introduce relative phases"
   ]
  },
  {
   "cell_type": "code",
   "execution_count": 26,
   "metadata": {
    "ExecuteTime": {
     "end_time": "2019-06-01T08:05:42.034485Z",
     "start_time": "2019-06-01T08:05:42.023010Z"
    }
   },
   "outputs": [],
   "source": [
    "defs.update({\n",
    "    δ12(t): ϕ1(t) - ϕ2(t),\n",
    "    δ13(t): ϕ1(t) - ϕ3(t),  # SIGN\n",
    "    δ23(t): ϕ2(t) - ϕ3(t),  # SIGN\n",
    "})"
   ]
  },
  {
   "cell_type": "code",
   "execution_count": 27,
   "metadata": {
    "ExecuteTime": {
     "end_time": "2019-06-01T08:05:42.254935Z",
     "start_time": "2019-06-01T08:05:42.044413Z"
    }
   },
   "outputs": [
    {
     "data": {
      "text/latex": [
       "\\begin{equation}\n",
       "  i \\hbar \\frac{\\partial}{\\partial t} a{\\left(z,t \\right)} = \\left(\\frac{p^{2}}{2 m} - \\frac{\\Omega_{+}^{2}{\\left(t \\right)}}{4 \\Delta} - \\frac{\\Omega_{+}{\\left(t \\right)} \\Omega_{-}{\\left(t \\right)} e^{i \\left(t \\left(- \\delta_{0} + \\delta^{'}_{0}\\right) - \\delta_{23}{\\left(t \\right)}\\right)}}{4 \\Delta} - \\frac{\\Omega_{+}{\\left(t \\right)} \\Omega_{-}{\\left(t \\right)} e^{i \\left(t \\left(\\delta_{0} - \\delta^{'}_{0}\\right) + \\delta_{23}{\\left(t \\right)}\\right)}}{4 \\Delta} - \\frac{\\Omega_{+}{\\left(t \\right)} \\Omega_{k}{\\left(t \\right)} e^{i \\left(- \\delta_{0} t + 2 k z + \\delta_{12}{\\left(t \\right)}\\right)}}{4 \\Delta} - \\frac{\\Omega_{+}{\\left(t \\right)} \\Omega_{k}{\\left(t \\right)} e^{i \\left(\\delta_{0} t - 2 k z - \\delta_{12}{\\left(t \\right)}\\right)}}{4 \\Delta} - \\frac{\\Omega_{-}^{2}{\\left(t \\right)}}{4 \\Delta} - \\frac{\\Omega_{-}{\\left(t \\right)} \\Omega_{k}{\\left(t \\right)} e^{i \\left(- \\delta^{'}_{0} t + 2 k z + \\delta_{13}{\\left(t \\right)}\\right)}}{4 \\Delta} - \\frac{\\Omega_{-}{\\left(t \\right)} \\Omega_{k}{\\left(t \\right)} e^{i \\left(\\delta^{'}_{0} t - 2 k z - \\delta_{13}{\\left(t \\right)}\\right)}}{4 \\Delta} - \\frac{\\Omega_{k}^{2}{\\left(t \\right)}}{4 \\Delta}\\right) a{\\left(z,t \\right)}\n",
       "\\end{equation}\n"
      ],
      "text/plain": [
       "I*hbar*Derivative(a(z, t), t) = (p**2/(2*m) - Omega_+(t)**2/(4*Delta) - Omega_+(t)*Omega_-(t)*exp(I*(t*(-delta_0 + delta_0^') - delta_23(t)))/(4*Delta) - Omega_+(t)*Omega_-(t)*exp(I*(t*(delta_0 - delta_0^') + delta_23(t)))/(4*Delta) - Omega_+(t)*Omega_k(t)*exp(I*(-delta_0*t + 2*k*z + delta12(t)))/(4*Delta) - Omega_+(t)*Omega_k(t)*exp(I*(delta_0*t - 2*k*z - delta12(t)))/(4*Delta) - Omega_-(t)**2/(4*Delta) - Omega_-(t)*Omega_k(t)*exp(I*(-delta_0^'*t + 2*k*z + delta_13(t)))/(4*Delta) - Omega_-(t)*Omega_k(t)*exp(I*(delta_0^'*t - 2*k*z - delta_13(t)))/(4*Delta) - Omega_k(t)**2/(4*Delta))*a(z, t)"
      ]
     },
     "execution_count": 27,
     "metadata": {},
     "output_type": "execute_result"
    }
   ],
   "source": [
    "TDSE_a_3 = TDSE_a_2.apply_mtd('subs', {defs[sym]: sym for sym in [δ12(t), δ13(t), δ23(t)]})\n",
    "TDSE_a_3"
   ]
  },
  {
   "cell_type": "markdown",
   "metadata": {},
   "source": [
    "## Define common light shift and effective envelopes"
   ]
  },
  {
   "cell_type": "code",
   "execution_count": 28,
   "metadata": {
    "ExecuteTime": {
     "end_time": "2019-06-01T08:05:42.340287Z",
     "start_time": "2019-06-01T08:05:42.264838Z"
    }
   },
   "outputs": [],
   "source": [
    "defs.update(\n",
    "    {\n",
    "        Ω['Δ'](t): (\n",
    "            (\n",
    "                Ω['k'](t) ** 2\n",
    "                + Ω['-k^(+)'](t) ** 2\n",
    "                + Ω['-k^(-)'](t) ** 2\n",
    "                + (\n",
    "                    2\n",
    "                    * Ω['-k^(+)'](t)\n",
    "                    * Ω['-k^(-)'](t)\n",
    "                    * cos(δ23(t) + (δ0 - δ0p) * t)  # SIGN\n",
    "                )\n",
    "            )\n",
    "            / (4 * Δ)\n",
    "        ).expand(),\n",
    "        Ω['-eff'](t): ((Ω['k'](t) * Ω['-k^(-)'](t)) / (4 * Δ)),\n",
    "        Ω['+eff'](t): ((Ω['k'](t) * Ω['-k^(+)'](t)) / (4 * Δ)),\n",
    "        ϕp(t): δ13(t) - δ0p * t, # SIGN\n",
    "        ϕm(t): δ12(t) - δ0 * t,\n",
    "    }\n",
    ")"
   ]
  },
  {
   "cell_type": "code",
   "execution_count": 29,
   "metadata": {
    "ExecuteTime": {
     "end_time": "2019-06-01T08:05:42.385189Z",
     "start_time": "2019-06-01T08:05:42.344093Z"
    }
   },
   "outputs": [
    {
     "data": {
      "text/latex": [
       "\\begin{equation}\n",
       "  \\Omega_{Δ}{\\left(t \\right)} = \\frac{\\Omega_{+}^{2}{\\left(t \\right)}}{4 \\Delta} + \\frac{\\Omega_{+}{\\left(t \\right)} \\Omega_{-}{\\left(t \\right)} \\cos{\\left(\\delta_{0} t - \\delta^{'}_{0} t + \\delta_{23}{\\left(t \\right)} \\right)}}{2 \\Delta} + \\frac{\\Omega_{-}^{2}{\\left(t \\right)}}{4 \\Delta} + \\frac{\\Omega_{k}^{2}{\\left(t \\right)}}{4 \\Delta}\n",
       "\\end{equation}\n"
      ],
      "text/plain": [
       "Omega_Δ(t) = Omega_+(t)**2/(4*Delta) + Omega_+(t)*Omega_-(t)*cos(delta_0*t - delta_0^'*t + delta_23(t))/(2*Delta) + Omega_-(t)**2/(4*Delta) + Omega_k(t)**2/(4*Delta)"
      ]
     },
     "execution_count": 29,
     "metadata": {},
     "output_type": "execute_result"
    }
   ],
   "source": [
    "definition(Ω['Δ'](t))"
   ]
  },
  {
   "cell_type": "code",
   "execution_count": 30,
   "metadata": {
    "ExecuteTime": {
     "end_time": "2019-06-01T08:05:42.411806Z",
     "start_time": "2019-06-01T08:05:42.388690Z"
    }
   },
   "outputs": [
    {
     "data": {
      "text/latex": [
       "\\begin{equation}\n",
       "  \\Omega_{-eff}{\\left(t \\right)} = \\frac{\\Omega_{-}{\\left(t \\right)} \\Omega_{k}{\\left(t \\right)}}{4 \\Delta}\n",
       "\\end{equation}\n"
      ],
      "text/plain": [
       "Omega_-eff(t) = Omega_-(t)*Omega_k(t)/(4*Delta)"
      ]
     },
     "execution_count": 30,
     "metadata": {},
     "output_type": "execute_result"
    }
   ],
   "source": [
    "definition(Ω['-eff'](t))"
   ]
  },
  {
   "cell_type": "code",
   "execution_count": 31,
   "metadata": {
    "ExecuteTime": {
     "end_time": "2019-06-01T08:05:42.445258Z",
     "start_time": "2019-06-01T08:05:42.419161Z"
    }
   },
   "outputs": [
    {
     "data": {
      "text/latex": [
       "\\begin{equation}\n",
       "  \\Omega_{+eff}{\\left(t \\right)} = \\frac{\\Omega_{+}{\\left(t \\right)} \\Omega_{k}{\\left(t \\right)}}{4 \\Delta}\n",
       "\\end{equation}\n"
      ],
      "text/plain": [
       "Omega_+eff(t) = Omega_+(t)*Omega_k(t)/(4*Delta)"
      ]
     },
     "execution_count": 31,
     "metadata": {},
     "output_type": "execute_result"
    }
   ],
   "source": [
    "definition(Ω['+eff'](t))"
   ]
  },
  {
   "cell_type": "code",
   "execution_count": 32,
   "metadata": {
    "ExecuteTime": {
     "end_time": "2019-06-01T08:05:42.473673Z",
     "start_time": "2019-06-01T08:05:42.449790Z"
    }
   },
   "outputs": [
    {
     "data": {
      "text/latex": [
       "\\begin{align}\n",
       "  \\phi_{+}{\\left(t \\right)} &= - \\delta^{'}_{0} t + \\delta_{13}{\\left(t \\right)}\\\\\n",
       "   &= - \\delta^{'}_{0} t + \\phi_{1}{\\left(t \\right)} - \\phi_{3}{\\left(t \\right)}\n",
       "\\end{align}\n"
      ],
      "text/plain": [
       "phi_+(t) = -delta_0^'*t + delta_13(t)\n",
       "         = -delta_0^'*t + phi_1(t) - phi_3(t)"
      ]
     },
     "execution_count": 32,
     "metadata": {},
     "output_type": "execute_result"
    }
   ],
   "source": [
    "definition(ϕp(t)).apply_mtd('subs', definition(δ13(t)).as_dict, cont=True)"
   ]
  },
  {
   "cell_type": "code",
   "execution_count": 33,
   "metadata": {
    "ExecuteTime": {
     "end_time": "2019-06-01T08:05:42.503647Z",
     "start_time": "2019-06-01T08:05:42.480783Z"
    }
   },
   "outputs": [
    {
     "data": {
      "text/latex": [
       "\\begin{align}\n",
       "  \\phi_{-}{\\left(t \\right)} &= - \\delta_{0} t + \\delta_{12}{\\left(t \\right)}\\\\\n",
       "   &= - \\delta_{0} t + \\phi_{1}{\\left(t \\right)} - \\phi_{2}{\\left(t \\right)}\n",
       "\\end{align}\n"
      ],
      "text/plain": [
       "phi_-(t) = -delta_0*t + delta12(t)\n",
       "         = -delta_0*t + phi_1(t) - phi_2(t)"
      ]
     },
     "execution_count": 33,
     "metadata": {},
     "output_type": "execute_result"
    }
   ],
   "source": [
    "definition(ϕm(t)).apply_mtd('subs', definition(δ12(t)).as_dict, cont=True)"
   ]
  },
  {
   "cell_type": "code",
   "execution_count": 34,
   "metadata": {
    "ExecuteTime": {
     "end_time": "2019-06-01T08:05:42.894396Z",
     "start_time": "2019-06-01T08:05:42.509481Z"
    }
   },
   "outputs": [
    {
     "data": {
      "text/latex": [
       "\\begin{equation}\n",
       "  i \\hbar \\frac{\\partial}{\\partial t} a{\\left(z,t \\right)} = \\left(\\left(- \\Omega_{+eff}{\\left(t \\right)} e^{- i \\phi_{-}{\\left(t \\right)}} - \\Omega_{-eff}{\\left(t \\right)} e^{- i \\phi_{+}{\\left(t \\right)}}\\right) e^{- 2 i k z} + \\left(- \\Omega_{+eff}{\\left(t \\right)} e^{i \\phi_{-}{\\left(t \\right)}} - \\Omega_{-eff}{\\left(t \\right)} e^{i \\phi_{+}{\\left(t \\right)}}\\right) e^{2 i k z} - \\Omega_{Δ}{\\left(t \\right)} + \\frac{p^{2}}{2 m}\\right) a{\\left(z,t \\right)}\n",
       "\\end{equation}\n"
      ],
      "text/plain": [
       "I*hbar*Derivative(a(z, t), t) = ((-Omega_+eff(t)*exp(-I*phi_-(t)) - Omega_-eff(t)*exp(-I*phi_+(t)))*exp(-2*I*k*z) + (-Omega_+eff(t)*exp(I*phi_-(t)) - Omega_-eff(t)*exp(I*phi_+(t)))*exp(2*I*k*z) - Omega_Δ(t) + p**2/(2*m))*a(z, t)"
      ]
     },
     "execution_count": 34,
     "metadata": {},
     "output_type": "execute_result"
    }
   ],
   "source": [
    "TDSE_a_4 = (\n",
    "    TDSE_a_3.apply_mtd(\n",
    "        'subs',\n",
    "        {standard_phase_form(defs[Ω['Δ'](t)].rewrite('exp').expand()): Ω['Δ'](t)},\n",
    "    )\n",
    "    .apply_mtd(\n",
    "        'subs',\n",
    "        {defs[sym]: sym for sym in [Ω['-eff'](t), Ω['+eff'](t), ϕp(t), ϕm(t)]},\n",
    "    )\n",
    "    .apply_mtd('expand')\n",
    "    .apply_mtd('collect', a(z, t))\n",
    "    .apply_mtd('collect', exp(2 * I * k * z))\n",
    "    .apply(standard_phase_form)\n",
    ")\n",
    "TDSE_a_4\n"
   ]
  },
  {
   "cell_type": "markdown",
   "metadata": {},
   "source": [
    "## Transformation to momentum space"
   ]
  },
  {
   "cell_type": "markdown",
   "metadata": {},
   "source": [
    "Mathematically, we take a Fourier transform:\n",
    "\n",
    "\\begin{align}\n",
    "\\int \\textrm{d}z\\, e^{-i \\frac{p}{\\hbar} z} a(z, t) &= a(p, t) \\\\\n",
    "\\int \\textrm{d}z\\, e^{-i \\frac{p}{\\hbar} z \\pm i 2 k z} a(z, t) &= a(p\\mp 2 \\hbar k, t)\n",
    "\\end{align}\n",
    "\n",
    "Thus, we can get the result of the Fourier transform by a simple substitution:"
   ]
  },
  {
   "cell_type": "code",
   "execution_count": 35,
   "metadata": {
    "ExecuteTime": {
     "end_time": "2019-06-01T08:05:43.038236Z",
     "start_time": "2019-06-01T08:05:42.897195Z"
    }
   },
   "outputs": [
    {
     "data": {
      "text/latex": [
       "\\begin{equation}\n",
       "  i \\hbar \\frac{\\partial}{\\partial t} a{\\left(p,t \\right)} = \\left(- \\Omega_{+eff}{\\left(t \\right)} e^{- i \\phi_{-}{\\left(t \\right)}} - \\Omega_{-eff}{\\left(t \\right)} e^{- i \\phi_{+}{\\left(t \\right)}}\\right) a{\\left(2 \\hbar k + p,t \\right)} + \\left(- \\Omega_{+eff}{\\left(t \\right)} e^{i \\phi_{-}{\\left(t \\right)}} - \\Omega_{-eff}{\\left(t \\right)} e^{i \\phi_{+}{\\left(t \\right)}}\\right) a{\\left(- 2 \\hbar k + p,t \\right)} + \\left(- \\Omega_{Δ}{\\left(t \\right)} + \\frac{p^{2}}{2 m}\\right) a{\\left(p,t \\right)}\n",
       "\\end{equation}\n"
      ],
      "text/plain": [
       "I*hbar*Derivative(a(p, t), t) = (-Omega_+eff(t)*exp(-I*phi_-(t)) - Omega_-eff(t)*exp(-I*phi_+(t)))*a(2*hbar*k + p, t) + (-Omega_+eff(t)*exp(I*phi_-(t)) - Omega_-eff(t)*exp(I*phi_+(t)))*a(-2*hbar*k + p, t) + (-Omega_Δ(t) + p**2/(2*m))*a(p, t)"
      ]
     },
     "execution_count": 35,
     "metadata": {},
     "output_type": "execute_result"
    }
   ],
   "source": [
    "TDSE_mom = (TDSE_a_4\n",
    " .apply_mtd('expand')\n",
    " .apply_mtd('subs', {\n",
    "     a(z,t) * exp(2*I*k*z): a(p - 2*ħ*k, t),  # note the sign!\n",
    "     a(z,t) * exp(-2*I*k*z): a(p + 2*ħ*k, t)\n",
    " })\n",
    "  .apply_mtd('subs', {\n",
    "     a(z,t): a(p, t),\n",
    " })\n",
    " .apply(standard_phase_form)\n",
    " .apply_mtd('collect',  a(p + 2*ħ*k, t))\n",
    " .apply_mtd('collect',  a(p - 2*ħ*k, t))\n",
    " .apply_mtd('collect',  a(p, t))\n",
    ")\n",
    "TDSE_mom"
   ]
  },
  {
   "cell_type": "code",
   "execution_count": 36,
   "metadata": {
    "ExecuteTime": {
     "end_time": "2019-06-01T08:05:43.163210Z",
     "start_time": "2019-06-01T08:05:43.040810Z"
    }
   },
   "outputs": [
    {
     "data": {
      "text/latex": [
       "\\begin{equation}\n",
       "  i \\hbar \\frac{\\partial}{\\partial t} a{\\left(p,t \\right)} = \\left(- \\Omega_{+eff}{\\left(t \\right)} e^{- i \\phi_{-}{\\left(t \\right)}} - \\Omega_{-eff}{\\left(t \\right)} e^{- i \\phi_{+}{\\left(t \\right)}}\\right) a{\\left(- 2 \\hbar k + p,t \\right)} + \\left(- \\Omega_{+eff}{\\left(t \\right)} e^{i \\phi_{-}{\\left(t \\right)}} - \\Omega_{-eff}{\\left(t \\right)} e^{i \\phi_{+}{\\left(t \\right)}}\\right) a{\\left(2 \\hbar k + p,t \\right)} + \\left(- \\Omega_{Δ}{\\left(t \\right)} + \\frac{p^{2}}{2 m}\\right) a{\\left(p,t \\right)}\n",
       "\\end{equation}\n"
      ],
      "text/plain": [
       "I*hbar*Derivative(a(p, t), t) = (-Omega_+eff(t)*exp(-I*phi_-(t)) - Omega_-eff(t)*exp(-I*phi_+(t)))*a(-2*hbar*k + p, t) + (-Omega_+eff(t)*exp(I*phi_-(t)) - Omega_-eff(t)*exp(I*phi_+(t)))*a(2*hbar*k + p, t) + (-Omega_Δ(t) + p**2/(2*m))*a(p, t)"
      ]
     },
     "execution_count": 36,
     "metadata": {},
     "output_type": "execute_result"
    }
   ],
   "source": [
    "TDSE_mom = (TDSE_a_4\n",
    " .apply_mtd('expand')\n",
    " .apply_mtd('subs', {\n",
    "     a(z,t) * exp(2*I*k*z): a(p + 2*ħ*k, t),  # note the sign!\n",
    "     a(z,t) * exp(-2*I*k*z): a(p - 2*ħ*k, t)\n",
    " })\n",
    "  .apply_mtd('subs', {\n",
    "     a(z,t): a(p, t),\n",
    " })\n",
    " .apply(standard_phase_form)\n",
    " .apply_mtd('collect',  a(p + 2*ħ*k, t))\n",
    " .apply_mtd('collect',  a(p - 2*ħ*k, t))\n",
    " .apply_mtd('collect',  a(p, t))\n",
    ")\n",
    "TDSE_mom"
   ]
  },
  {
   "cell_type": "markdown",
   "metadata": {},
   "source": [
    "## Ansatz"
   ]
  },
  {
   "cell_type": "markdown",
   "metadata": {},
   "source": [
    "The sum is explicit in the following"
   ]
  },
  {
   "cell_type": "code",
   "execution_count": 37,
   "metadata": {
    "ExecuteTime": {
     "end_time": "2019-06-01T08:05:43.205657Z",
     "start_time": "2019-06-01T08:05:43.169018Z"
    }
   },
   "outputs": [],
   "source": [
    "ansatz_positive = a(n, t) * DiracDelta(p-p0-2*n*ħ*k) * exp(I * n * ϕp(t))\n",
    "ansatz_negative = a(n, t) * DiracDelta(p-p0-2*n*ħ*k) * exp(I * n * ϕm(t))"
   ]
  },
  {
   "cell_type": "code",
   "execution_count": 38,
   "metadata": {
    "ExecuteTime": {
     "end_time": "2019-06-01T08:05:43.914363Z",
     "start_time": "2019-06-01T08:05:43.211906Z"
    }
   },
   "outputs": [
    {
     "data": {
      "image/png": "[encoded data removed]",
      "text/latex": [
       "$\\displaystyle a{\\left(n,t \\right)} e^{i n \\phi_{+}{\\left(t \\right)}} \\delta\\left(- 2 \\hbar k n + p - p_{0}\\right)$"
      ],
      "text/plain": [
       "         ⅈ⋅n⋅φ₊(t)                      \n",
       "a(n, t)⋅ℯ         ⋅δ(-2⋅h̅⋅k⋅n + p - p₀)"
      ]
     },
     "execution_count": 38,
     "metadata": {},
     "output_type": "execute_result"
    }
   ],
   "source": [
    "ansatz_positive"
   ]
  },
  {
   "cell_type": "code",
   "execution_count": 39,
   "metadata": {
    "ExecuteTime": {
     "end_time": "2019-06-01T08:05:44.497412Z",
     "start_time": "2019-06-01T08:05:43.917985Z"
    }
   },
   "outputs": [
    {
     "data": {
      "image/png": "[encoded data removed]",
      "text/latex": [
       "$\\displaystyle a{\\left(n,t \\right)} e^{i n \\phi_{-}{\\left(t \\right)}} \\delta\\left(- 2 \\hbar k n + p - p_{0}\\right)$"
      ],
      "text/plain": [
       "         ⅈ⋅n⋅φ₋(t)                      \n",
       "a(n, t)⋅ℯ         ⋅δ(-2⋅h̅⋅k⋅n + p - p₀)"
      ]
     },
     "execution_count": 39,
     "metadata": {},
     "output_type": "execute_result"
    }
   ],
   "source": [
    "ansatz_negative"
   ]
  },
  {
   "cell_type": "markdown",
   "metadata": {},
   "source": [
    "## Plug in the positive ansatz"
   ]
  },
  {
   "cell_type": "code",
   "execution_count": 40,
   "metadata": {
    "ExecuteTime": {
     "end_time": "2019-06-01T08:05:45.286463Z",
     "start_time": "2019-06-01T08:05:44.500548Z"
    }
   },
   "outputs": [
    {
     "data": {
      "text/latex": [
       "\\begin{equation}\n",
       "  \\left(- \\hbar n a{\\left(n,t \\right)} \\frac{d}{d t} \\phi_{+}{\\left(t \\right)} + i \\hbar \\frac{d}{d t} a{\\left(n,t \\right)}\\right) e^{i n \\phi_{+}{\\left(t \\right)}} \\delta\\left(- 2 \\hbar k n + p - p_{0}\\right) = \\left(- \\Omega_{Δ}{\\left(t \\right)} a{\\left(n,t \\right)} + \\frac{p^{2} a{\\left(n,t \\right)}}{2 m}\\right) e^{i n \\phi_{+}{\\left(t \\right)}} \\delta\\left(- 2 \\hbar k n + p - p_{0}\\right) + \\left(- \\Omega_{+eff}{\\left(t \\right)} a{\\left(n - 1,t \\right)} e^{i \\left(\\left(n - 1\\right) \\phi_{+}{\\left(t \\right)} - \\phi_{-}{\\left(t \\right)}\\right)} - \\Omega_{-eff}{\\left(t \\right)} a{\\left(n - 1,t \\right)} e^{i \\left(\\left(n - 1\\right) \\phi_{+}{\\left(t \\right)} - \\phi_{+}{\\left(t \\right)}\\right)}\\right) \\delta\\left(- 2 \\hbar k n + p - p_{0}\\right) + \\left(- \\Omega_{+eff}{\\left(t \\right)} a{\\left(n + 1,t \\right)} e^{i \\left(\\left(n + 1\\right) \\phi_{+}{\\left(t \\right)} + \\phi_{-}{\\left(t \\right)}\\right)} - \\Omega_{-eff}{\\left(t \\right)} a{\\left(n + 1,t \\right)} e^{i \\left(\\left(n + 1\\right) \\phi_{+}{\\left(t \\right)} + \\phi_{+}{\\left(t \\right)}\\right)}\\right) \\delta\\left(- 2 \\hbar k n + p - p_{0}\\right)\n",
       "\\end{equation}\n"
      ],
      "text/plain": [
       "(-hbar*n*a(n, t)*Derivative(phi_+(t), t) + I*hbar*Derivative(a(n, t), t))*exp(I*n*phi_+(t))*DiracDelta(-2*hbar*k*n + p - p0) = (-Omega_Δ(t)*a(n, t) + p**2*a(n, t)/(2*m))*exp(I*n*phi_+(t))*DiracDelta(-2*hbar*k*n + p - p0) + (-Omega_+eff(t)*a(n - 1, t)*exp(I*((n - 1)*phi_+(t) - phi_-(t))) - Omega_-eff(t)*a(n - 1, t)*exp(I*((n - 1)*phi_+(t) - phi_+(t))))*DiracDelta(-2*hbar*k*n + p - p0) + (-Omega_+eff(t)*a(n + 1, t)*exp(I*((n + 1)*phi_+(t) + phi_-(t))) - Omega_-eff(t)*a(n + 1, t)*exp(I*((n + 1)*phi_+(t) + phi_+(t))))*DiracDelta(-2*hbar*k*n + p - p0)"
      ]
     },
     "execution_count": 40,
     "metadata": {},
     "output_type": "execute_result"
    }
   ],
   "source": [
    "TDSE_mom_pos = (\n",
    "    TDSE_mom\n",
    "    .apply_mtd('subs', {a(p, t): ansatz_positive})\n",
    "    .apply_mtd('subs', {a(p - 2*ħ*k, t): ansatz_positive.subs({p:p - 2*ħ*k})})\n",
    "    .apply_mtd('subs', {a(p + 2*ħ*k, t): ansatz_positive.subs({p:p + 2*ħ*k})})\n",
    "    .apply_mtd_to_lhs('doit')  # apply the derivative (chain rule)\n",
    "    .apply_mtd('expand')\n",
    "    .apply_mtd('collect', DiracDelta(_w))\n",
    "    .apply_mtd('collect', exp(_w))\n",
    "    .apply(standard_phase_form)\n",
    "    .apply_mtd('replace', DiracDelta, lambda arg: DiracDelta(arg.collect(2*ħ*k)))\n",
    "    .apply(lambda term: normalize_dirac_delta_terms(term, target=(-2 * ħ * k * n + p - p0)))\n",
    ")\n",
    "TDSE_mom_pos"
   ]
  },
  {
   "cell_type": "markdown",
   "metadata": {},
   "source": [
    "### Integrate over momentum"
   ]
  },
  {
   "cell_type": "code",
   "execution_count": 41,
   "metadata": {
    "ExecuteTime": {
     "end_time": "2019-06-01T08:05:50.265874Z",
     "start_time": "2019-06-01T08:05:45.290867Z"
    }
   },
   "outputs": [
    {
     "data": {
      "text/latex": [
       "\\begin{equation}\n",
       "  i \\hbar \\frac{d}{d t} a{\\left(n,t \\right)} = \\left(- \\Omega_{+eff}{\\left(t \\right)} e^{i \\left(- \\phi_{+}{\\left(t \\right)} - \\phi_{-}{\\left(t \\right)}\\right)} - \\Omega_{-eff}{\\left(t \\right)} e^{- 2 i \\phi_{+}{\\left(t \\right)}}\\right) a{\\left(n - 1,t \\right)} + \\left(- \\Omega_{+eff}{\\left(t \\right)} e^{i \\left(\\phi_{+}{\\left(t \\right)} + \\phi_{-}{\\left(t \\right)}\\right)} - \\Omega_{-eff}{\\left(t \\right)} e^{2 i \\phi_{+}{\\left(t \\right)}}\\right) a{\\left(n + 1,t \\right)} + \\left(\\frac{2 \\hbar^{2} k^{2} n^{2}}{m} + \\frac{2 \\hbar k n p_{0}}{m} + \\hbar n \\frac{d}{d t} \\phi_{+}{\\left(t \\right)} - \\Omega_{Δ}{\\left(t \\right)} + \\frac{p_{0}^{2}}{2 m}\\right) a{\\left(n,t \\right)}\n",
       "\\end{equation}\n"
      ],
      "text/plain": [
       "I*hbar*Derivative(a(n, t), t) = (-Omega_+eff(t)*exp(I*(-phi_+(t) - phi_-(t))) - Omega_-eff(t)*exp(-2*I*phi_+(t)))*a(n - 1, t) + (-Omega_+eff(t)*exp(I*(phi_+(t) + phi_-(t))) - Omega_-eff(t)*exp(2*I*phi_+(t)))*a(n + 1, t) + (2*hbar**2*k**2*n**2/m + 2*hbar*k*n*p0/m + hbar*n*Derivative(phi_+(t), t) - Omega_Δ(t) + p0**2/(2*m))*a(n, t)"
      ]
     },
     "execution_count": 41,
     "metadata": {},
     "output_type": "execute_result"
    }
   ],
   "source": [
    "TDSE_discrete_pos = (\n",
    "    TDSE_mom_pos\n",
    "    .apply(lambda side: sympy.Integral(side, (p, -oo, oo)).doit())\n",
    "    .apply(lambda side: side * exp(-I * n * ϕp(t)))\n",
    "    .apply_mtd('expand')\n",
    "    .apply(lambda side: side + ħ * n * a(n, t) * ϕp(t).diff(t))\n",
    "    .apply(standard_phase_form)\n",
    "    .apply_mtd('collect', a(n-1, t))\n",
    "    .apply_mtd('collect', a(n+1, t))\n",
    "    .apply_mtd('collect', a(n, t))\n",
    ")\n",
    "TDSE_discrete_pos"
   ]
  },
  {
   "cell_type": "markdown",
   "metadata": {},
   "source": [
    "### Define p₀ and ωₖ"
   ]
  },
  {
   "cell_type": "code",
   "execution_count": 42,
   "metadata": {
    "ExecuteTime": {
     "end_time": "2019-06-01T08:05:50.285260Z",
     "start_time": "2019-06-01T08:05:50.269439Z"
    }
   },
   "outputs": [
    {
     "data": {
      "text/latex": [
       "\\begin{equation}\n",
       "  \\omega_{k} = \\frac{2 \\hbar k^{2}}{m}\n",
       "\\end{equation}\n"
      ],
      "text/plain": [
       "omega_k = 2*hbar*k**2/m"
      ]
     },
     "execution_count": 42,
     "metadata": {},
     "output_type": "execute_result"
    }
   ],
   "source": [
    "defs[ωk] = (2 * ħ * k**2) / m\n",
    "definition(ωk)"
   ]
  },
  {
   "cell_type": "markdown",
   "metadata": {},
   "source": [
    "**NOTE: this is the two-photon recoil frequency, different from $\\omega_r = \\omega_k/4$ as defined by Kovachy et al.**"
   ]
  },
  {
   "cell_type": "code",
   "execution_count": 43,
   "metadata": {
    "ExecuteTime": {
     "end_time": "2019-06-01T08:05:50.552450Z",
     "start_time": "2019-06-01T08:05:50.296116Z"
    }
   },
   "outputs": [
    {
     "data": {
      "text/latex": [
       "\\begin{equation}\n",
       "  i \\hbar \\frac{d}{d t} a{\\left(n,t \\right)} = \\left(- \\Omega_{+eff}{\\left(t \\right)} e^{i \\left(- \\phi_{+}{\\left(t \\right)} - \\phi_{-}{\\left(t \\right)}\\right)} - \\Omega_{-eff}{\\left(t \\right)} e^{- 2 i \\phi_{+}{\\left(t \\right)}}\\right) a{\\left(n - 1,t \\right)} + \\left(- \\Omega_{+eff}{\\left(t \\right)} e^{i \\left(\\phi_{+}{\\left(t \\right)} + \\phi_{-}{\\left(t \\right)}\\right)} - \\Omega_{-eff}{\\left(t \\right)} e^{2 i \\phi_{+}{\\left(t \\right)}}\\right) a{\\left(n + 1,t \\right)} + a{\\left(n,t \\right)} \\left(\\beta^{2} \\hbar \\omega_{k} + n^{2} \\hbar \\omega_{k} + n \\left(2 \\beta \\hbar \\omega_{k} + \\hbar \\frac{d}{d t} \\phi_{+}{\\left(t \\right)}\\right) - \\Omega_{Δ}{\\left(t \\right)}\\right)\n",
       "\\end{equation}\n"
      ],
      "text/plain": [
       "I*hbar*Derivative(a(n, t), t) = (-Omega_+eff(t)*exp(I*(-phi_+(t) - phi_-(t))) - Omega_-eff(t)*exp(-2*I*phi_+(t)))*a(n - 1, t) + (-Omega_+eff(t)*exp(I*(phi_+(t) + phi_-(t))) - Omega_-eff(t)*exp(2*I*phi_+(t)))*a(n + 1, t) + a(n, t)*(beta**2*(hbar*omega_k) + n**2*(hbar*omega_k) + n*(2*beta*(hbar*omega_k) + hbar*Derivative(phi_+(t), t)) - Omega_Δ(t))"
      ]
     },
     "execution_count": 43,
     "metadata": {},
     "output_type": "execute_result"
    }
   ],
   "source": [
    "TDSE_discrete_p0_pos = (\n",
    "    TDSE_discrete_pos\n",
    "    .apply_mtd('subs', {p0: β*2*ħ*k})\n",
    "    .apply_mtd('subs', {defs[ωk]: ωk})\n",
    "    .apply_mtd('subs', {ħ * ωk: protect(ħ * ωk)}) # keep ħωₖ together\n",
    "    .apply_mtd('collect', n)\n",
    "    .apply_mtd('collect', a(n-1, t))\n",
    "    .apply_mtd('collect', a(n+1, t))\n",
    "    .apply_mtd('collect', a(n, t))\n",
    ")\n",
    "TDSE_discrete_p0_pos"
   ]
  },
  {
   "cell_type": "code",
   "execution_count": 44,
   "metadata": {
    "ExecuteTime": {
     "end_time": "2019-06-01T08:05:50.597452Z",
     "start_time": "2019-06-01T08:05:50.555273Z"
    }
   },
   "outputs": [
    {
     "data": {
      "text/latex": [
       "\\begin{equation}\n",
       "  \\phi_{+}{\\left(t \\right)} - \\phi_{-}{\\left(t \\right)} = \\delta_{0} t - \\delta^{'}_{0} t + \\phi_{2}{\\left(t \\right)} - \\phi_{3}{\\left(t \\right)}\n",
       "\\end{equation}\n"
      ],
      "text/plain": [
       "phi_+(t) - phi_-(t) = delta_0*t - delta_0^'*t + phi_2(t) - phi_3(t)"
      ]
     },
     "execution_count": 44,
     "metadata": {},
     "output_type": "execute_result"
    }
   ],
   "source": [
    "pos_branch_phase = (defs[ϕp(t)] - defs[ϕm(t)]).subs({δ12(t): defs[δ12(t)], δ13(t): defs[δ13(t)]})\n",
    "Eq(ϕp(t) - ϕm(t), pos_branch_phase)"
   ]
  },
  {
   "cell_type": "markdown",
   "metadata": {},
   "source": [
    "### Use identical pulse envelopes"
   ]
  },
  {
   "cell_type": "code",
   "execution_count": 45,
   "metadata": {
    "ExecuteTime": {
     "end_time": "2019-06-01T08:05:50.791453Z",
     "start_time": "2019-06-01T08:05:50.607840Z"
    }
   },
   "outputs": [
    {
     "data": {
      "text/latex": [
       "\\begin{equation}\n",
       "  i \\hbar \\frac{d}{d t} a{\\left(n,t \\right)} = \\left(\\left(- e^{i \\left(- \\phi_{+}{\\left(t \\right)} - \\phi_{-}{\\left(t \\right)}\\right)} - e^{- 2 i \\phi_{+}{\\left(t \\right)}}\\right) a{\\left(n - 1,t \\right)} + \\left(- e^{i \\left(\\phi_{+}{\\left(t \\right)} + \\phi_{-}{\\left(t \\right)}\\right)} - e^{2 i \\phi_{+}{\\left(t \\right)}}\\right) a{\\left(n + 1,t \\right)}\\right) \\Omega_{}{\\left(t \\right)} + a{\\left(n,t \\right)} \\left(\\beta^{2} \\hbar \\omega_{k} + n^{2} \\hbar \\omega_{k} + n \\left(2 \\beta \\hbar \\omega_{k} + \\hbar \\frac{d}{d t} \\phi_{+}{\\left(t \\right)}\\right) - \\Omega_{Δ}{\\left(t \\right)}\\right)\n",
       "\\end{equation}\n"
      ],
      "text/plain": [
       "I*hbar*Derivative(a(n, t), t) = ((-exp(I*(-phi_+(t) - phi_-(t))) - exp(-2*I*phi_+(t)))*a(n - 1, t) + (-exp(I*(phi_+(t) + phi_-(t))) - exp(2*I*phi_+(t)))*a(n + 1, t))*Omega_(t) + a(n, t)*(beta**2*(hbar*omega_k) + n**2*(hbar*omega_k) + n*(2*beta*(hbar*omega_k) + hbar*Derivative(phi_+(t), t)) - Omega_Δ(t))"
      ]
     },
     "execution_count": 45,
     "metadata": {},
     "output_type": "execute_result"
    }
   ],
   "source": [
    "TDSE_discrete_p0_pos = (\n",
    "    TDSE_discrete_p0_pos\n",
    "    .apply_mtd('subs', {Ω['-eff'](t): Ω[''](t), Ω['+eff'](t): Ω[''](t)})\n",
    "    .apply_mtd('collect', Ω[''](t))\n",
    ")\n",
    "TDSE_discrete_p0_pos"
   ]
  },
  {
   "cell_type": "markdown",
   "metadata": {},
   "source": [
    "### Energy levels"
   ]
  },
  {
   "cell_type": "code",
   "execution_count": 46,
   "metadata": {
    "ExecuteTime": {
     "end_time": "2019-06-01T08:05:50.878652Z",
     "start_time": "2019-06-01T08:05:50.797826Z"
    }
   },
   "outputs": [
    {
     "data": {
      "text/latex": [
       "\\begin{equation}\n",
       "  \\operatorname{E_{n>0}}{\\left(t \\right)} = \\beta^{2} \\hbar \\omega_{k} + n^{2} \\hbar \\omega_{k} + n \\left(2 \\beta \\hbar \\omega_{k} + \\hbar \\frac{d}{d t} \\phi_{+}{\\left(t \\right)}\\right) - \\Omega_{Δ}{\\left(t \\right)}\n",
       "\\end{equation}\n"
      ],
      "text/plain": [
       "E_n>0(t) = beta**2*(hbar*omega_k) + n**2*(hbar*omega_k) + n*(2*beta*(hbar*omega_k) + hbar*Derivative(phi_+(t), t)) - Omega_Δ(t)"
      ]
     },
     "execution_count": 46,
     "metadata": {},
     "output_type": "execute_result"
    }
   ],
   "source": [
    "Eq_Enp = Eq(Enp(t), TDSE_discrete_p0_pos.rhs.coeff(a(n,t)))\n",
    "Eq_Enp"
   ]
  },
  {
   "cell_type": "markdown",
   "metadata": {},
   "source": [
    "## Plug in the negative ansatz"
   ]
  },
  {
   "cell_type": "code",
   "execution_count": 47,
   "metadata": {
    "ExecuteTime": {
     "end_time": "2019-06-01T08:05:51.752727Z",
     "start_time": "2019-06-01T08:05:50.882395Z"
    }
   },
   "outputs": [
    {
     "data": {
      "text/latex": [
       "\\begin{equation}\n",
       "  \\left(- \\hbar n a{\\left(n,t \\right)} \\frac{d}{d t} \\phi_{-}{\\left(t \\right)} + i \\hbar \\frac{d}{d t} a{\\left(n,t \\right)}\\right) e^{i n \\phi_{-}{\\left(t \\right)}} \\delta\\left(- 2 \\hbar k n + p - p_{0}\\right) = \\left(- \\Omega_{Δ}{\\left(t \\right)} a{\\left(n,t \\right)} + \\frac{p^{2} a{\\left(n,t \\right)}}{2 m}\\right) e^{i n \\phi_{-}{\\left(t \\right)}} \\delta\\left(- 2 \\hbar k n + p - p_{0}\\right) + \\left(- \\Omega_{+eff}{\\left(t \\right)} a{\\left(n - 1,t \\right)} e^{i \\left(\\left(n - 1\\right) \\phi_{-}{\\left(t \\right)} - \\phi_{-}{\\left(t \\right)}\\right)} - \\Omega_{-eff}{\\left(t \\right)} a{\\left(n - 1,t \\right)} e^{i \\left(\\left(n - 1\\right) \\phi_{-}{\\left(t \\right)} - \\phi_{+}{\\left(t \\right)}\\right)}\\right) \\delta\\left(- 2 \\hbar k n + p - p_{0}\\right) + \\left(- \\Omega_{+eff}{\\left(t \\right)} a{\\left(n + 1,t \\right)} e^{i \\left(\\left(n + 1\\right) \\phi_{-}{\\left(t \\right)} + \\phi_{-}{\\left(t \\right)}\\right)} - \\Omega_{-eff}{\\left(t \\right)} a{\\left(n + 1,t \\right)} e^{i \\left(\\left(n + 1\\right) \\phi_{-}{\\left(t \\right)} + \\phi_{+}{\\left(t \\right)}\\right)}\\right) \\delta\\left(- 2 \\hbar k n + p - p_{0}\\right)\n",
       "\\end{equation}\n"
      ],
      "text/plain": [
       "(-hbar*n*a(n, t)*Derivative(phi_-(t), t) + I*hbar*Derivative(a(n, t), t))*exp(I*n*phi_-(t))*DiracDelta(-2*hbar*k*n + p - p0) = (-Omega_Δ(t)*a(n, t) + p**2*a(n, t)/(2*m))*exp(I*n*phi_-(t))*DiracDelta(-2*hbar*k*n + p - p0) + (-Omega_+eff(t)*a(n - 1, t)*exp(I*((n - 1)*phi_-(t) - phi_-(t))) - Omega_-eff(t)*a(n - 1, t)*exp(I*((n - 1)*phi_-(t) - phi_+(t))))*DiracDelta(-2*hbar*k*n + p - p0) + (-Omega_+eff(t)*a(n + 1, t)*exp(I*((n + 1)*phi_-(t) + phi_-(t))) - Omega_-eff(t)*a(n + 1, t)*exp(I*((n + 1)*phi_-(t) + phi_+(t))))*DiracDelta(-2*hbar*k*n + p - p0)"
      ]
     },
     "execution_count": 47,
     "metadata": {},
     "output_type": "execute_result"
    }
   ],
   "source": [
    "TDSE_mom_neg = (\n",
    "    TDSE_mom\n",
    "    .apply_mtd('subs', {a(p, t): ansatz_negative})\n",
    "    .apply_mtd('subs', {a(p - 2*ħ*k, t): ansatz_negative.subs({p:p - 2*ħ*k})})\n",
    "    .apply_mtd('subs', {a(p + 2*ħ*k, t): ansatz_negative.subs({p:p + 2*ħ*k})})\n",
    "    .apply_mtd_to_lhs('doit')    # apply the derivative (chain rule)\n",
    "    .apply_mtd('expand')\n",
    "    .apply_mtd('collect', DiracDelta(_w))\n",
    "    .apply_mtd('collect', exp(_w))\n",
    "    .apply(standard_phase_form)\n",
    "    .apply_mtd('replace', DiracDelta, lambda arg: DiracDelta(arg.collect(2*ħ*k)))\n",
    "    .apply(lambda term: normalize_dirac_delta_terms(term, target=(-2 * ħ * k * n + p - p0)))\n",
    ")\n",
    "TDSE_mom_neg"
   ]
  },
  {
   "cell_type": "markdown",
   "metadata": {},
   "source": [
    "### Integrate over momentum"
   ]
  },
  {
   "cell_type": "code",
   "execution_count": 48,
   "metadata": {
    "ExecuteTime": {
     "end_time": "2019-06-01T08:05:57.155895Z",
     "start_time": "2019-06-01T08:05:51.825919Z"
    }
   },
   "outputs": [
    {
     "data": {
      "text/latex": [
       "\\begin{equation}\n",
       "  i \\hbar \\frac{d}{d t} a{\\left(n,t \\right)} = \\left(- \\Omega_{+eff}{\\left(t \\right)} e^{- 2 i \\phi_{-}{\\left(t \\right)}} - \\Omega_{-eff}{\\left(t \\right)} e^{i \\left(- \\phi_{+}{\\left(t \\right)} - \\phi_{-}{\\left(t \\right)}\\right)}\\right) a{\\left(n - 1,t \\right)} + \\left(- \\Omega_{+eff}{\\left(t \\right)} e^{2 i \\phi_{-}{\\left(t \\right)}} - \\Omega_{-eff}{\\left(t \\right)} e^{i \\left(\\phi_{+}{\\left(t \\right)} + \\phi_{-}{\\left(t \\right)}\\right)}\\right) a{\\left(n + 1,t \\right)} + \\left(\\frac{2 \\hbar^{2} k^{2} n^{2}}{m} + \\frac{2 \\hbar k n p_{0}}{m} + \\hbar n \\frac{d}{d t} \\phi_{-}{\\left(t \\right)} - \\Omega_{Δ}{\\left(t \\right)} + \\frac{p_{0}^{2}}{2 m}\\right) a{\\left(n,t \\right)}\n",
       "\\end{equation}\n"
      ],
      "text/plain": [
       "I*hbar*Derivative(a(n, t), t) = (-Omega_+eff(t)*exp(-2*I*phi_-(t)) - Omega_-eff(t)*exp(I*(-phi_+(t) - phi_-(t))))*a(n - 1, t) + (-Omega_+eff(t)*exp(2*I*phi_-(t)) - Omega_-eff(t)*exp(I*(phi_+(t) + phi_-(t))))*a(n + 1, t) + (2*hbar**2*k**2*n**2/m + 2*hbar*k*n*p0/m + hbar*n*Derivative(phi_-(t), t) - Omega_Δ(t) + p0**2/(2*m))*a(n, t)"
      ]
     },
     "execution_count": 48,
     "metadata": {},
     "output_type": "execute_result"
    }
   ],
   "source": [
    "TDSE_discrete_neg = (\n",
    "    TDSE_mom_neg\n",
    "    .apply(lambda side: sympy.Integral(side, (p, -oo, oo)).doit())\n",
    "    .apply(lambda side: side * exp(-I * n * ϕm(t)))  # using ϕ₋(t) instead of ϕ₊(t)\n",
    "    .apply_mtd('expand')\n",
    "    .apply(lambda side: side + ħ * n * a(n, t) * ϕm(t).diff(t))  # using ϕ₋(t) instead of ϕ₊(t)\n",
    "    .apply(standard_phase_form)\n",
    "    .apply_mtd('collect', a(n-1, t))\n",
    "    .apply_mtd('collect', a(n+1, t))\n",
    "    .apply_mtd('collect', a(n, t))\n",
    ")\n",
    "TDSE_discrete_neg"
   ]
  },
  {
   "cell_type": "markdown",
   "metadata": {},
   "source": [
    "### Define p₀ and ωₖ"
   ]
  },
  {
   "cell_type": "code",
   "execution_count": 49,
   "metadata": {
    "ExecuteTime": {
     "end_time": "2019-06-01T08:05:57.482790Z",
     "start_time": "2019-06-01T08:05:57.166681Z"
    }
   },
   "outputs": [
    {
     "data": {
      "text/latex": [
       "\\begin{equation}\n",
       "  i \\hbar \\frac{d}{d t} a{\\left(n,t \\right)} = \\left(- \\Omega_{+eff}{\\left(t \\right)} e^{- 2 i \\phi_{-}{\\left(t \\right)}} - \\Omega_{-eff}{\\left(t \\right)} e^{i \\left(- \\phi_{+}{\\left(t \\right)} - \\phi_{-}{\\left(t \\right)}\\right)}\\right) a{\\left(n - 1,t \\right)} + \\left(- \\Omega_{+eff}{\\left(t \\right)} e^{2 i \\phi_{-}{\\left(t \\right)}} - \\Omega_{-eff}{\\left(t \\right)} e^{i \\left(\\phi_{+}{\\left(t \\right)} + \\phi_{-}{\\left(t \\right)}\\right)}\\right) a{\\left(n + 1,t \\right)} + a{\\left(n,t \\right)} \\left(\\beta^{2} \\hbar \\omega_{k} + n^{2} \\hbar \\omega_{k} + n \\left(2 \\beta \\hbar \\omega_{k} + \\hbar \\frac{d}{d t} \\phi_{-}{\\left(t \\right)}\\right) - \\Omega_{Δ}{\\left(t \\right)}\\right)\n",
       "\\end{equation}\n"
      ],
      "text/plain": [
       "I*hbar*Derivative(a(n, t), t) = (-Omega_+eff(t)*exp(-2*I*phi_-(t)) - Omega_-eff(t)*exp(I*(-phi_+(t) - phi_-(t))))*a(n - 1, t) + (-Omega_+eff(t)*exp(2*I*phi_-(t)) - Omega_-eff(t)*exp(I*(phi_+(t) + phi_-(t))))*a(n + 1, t) + a(n, t)*(beta**2*(hbar*omega_k) + n**2*(hbar*omega_k) + n*(2*beta*(hbar*omega_k) + hbar*Derivative(phi_-(t), t)) - Omega_Δ(t))"
      ]
     },
     "execution_count": 49,
     "metadata": {},
     "output_type": "execute_result"
    }
   ],
   "source": [
    "TDSE_discrete_p0_neg = (\n",
    "    TDSE_discrete_neg\n",
    "    .apply_mtd('subs', {p0: β*2*ħ*k})\n",
    "    .apply_mtd('subs', {defs[ωk]: ωk})\n",
    "    .apply_mtd('subs', {ħ * ωk: protect(ħ * ωk)})\n",
    "    .apply_mtd('collect', n)\n",
    "    .apply_mtd('collect', a(n-1, t))\n",
    "    .apply_mtd('collect', a(n+1, t))\n",
    "    .apply_mtd('collect', a(n, t))\n",
    ")\n",
    "TDSE_discrete_p0_neg"
   ]
  },
  {
   "cell_type": "markdown",
   "metadata": {},
   "source": [
    "### Use identical pulse envelopes"
   ]
  },
  {
   "cell_type": "code",
   "execution_count": 50,
   "metadata": {
    "ExecuteTime": {
     "end_time": "2019-06-01T08:05:57.642885Z",
     "start_time": "2019-06-01T08:05:57.487844Z"
    }
   },
   "outputs": [
    {
     "data": {
      "text/latex": [
       "\\begin{equation}\n",
       "  i \\hbar \\frac{d}{d t} a{\\left(n,t \\right)} = \\left(\\left(- e^{i \\left(- \\phi_{+}{\\left(t \\right)} - \\phi_{-}{\\left(t \\right)}\\right)} - e^{- 2 i \\phi_{-}{\\left(t \\right)}}\\right) a{\\left(n - 1,t \\right)} + \\left(- e^{i \\left(\\phi_{+}{\\left(t \\right)} + \\phi_{-}{\\left(t \\right)}\\right)} - e^{2 i \\phi_{-}{\\left(t \\right)}}\\right) a{\\left(n + 1,t \\right)}\\right) \\Omega_{}{\\left(t \\right)} + a{\\left(n,t \\right)} \\left(\\beta^{2} \\hbar \\omega_{k} + n^{2} \\hbar \\omega_{k} + n \\left(2 \\beta \\hbar \\omega_{k} + \\hbar \\frac{d}{d t} \\phi_{-}{\\left(t \\right)}\\right) - \\Omega_{Δ}{\\left(t \\right)}\\right)\n",
       "\\end{equation}\n"
      ],
      "text/plain": [
       "I*hbar*Derivative(a(n, t), t) = ((-exp(I*(-phi_+(t) - phi_-(t))) - exp(-2*I*phi_-(t)))*a(n - 1, t) + (-exp(I*(phi_+(t) + phi_-(t))) - exp(2*I*phi_-(t)))*a(n + 1, t))*Omega_(t) + a(n, t)*(beta**2*(hbar*omega_k) + n**2*(hbar*omega_k) + n*(2*beta*(hbar*omega_k) + hbar*Derivative(phi_-(t), t)) - Omega_Δ(t))"
      ]
     },
     "execution_count": 50,
     "metadata": {},
     "output_type": "execute_result"
    }
   ],
   "source": [
    "TDSE_discrete_p0_neg = (\n",
    "    TDSE_discrete_p0_neg\n",
    "    .apply_mtd('subs', {Ω['-eff'](t): Ω[''](t), Ω['+eff'](t): Ω[''](t)})\n",
    "    .apply_mtd('collect', Ω[''](t))\n",
    ")\n",
    "TDSE_discrete_p0_neg"
   ]
  },
  {
   "cell_type": "markdown",
   "metadata": {},
   "source": [
    "### Energy levels"
   ]
  },
  {
   "cell_type": "code",
   "execution_count": 51,
   "metadata": {
    "ExecuteTime": {
     "end_time": "2019-06-01T08:05:57.724023Z",
     "start_time": "2019-06-01T08:05:57.651521Z"
    }
   },
   "outputs": [
    {
     "data": {
      "text/latex": [
       "\\begin{equation}\n",
       "  \\operatorname{E_{n<0}}{\\left(t \\right)} = \\beta^{2} \\hbar \\omega_{k} + n^{2} \\hbar \\omega_{k} + n \\left(2 \\beta \\hbar \\omega_{k} + \\hbar \\frac{d}{d t} \\phi_{-}{\\left(t \\right)}\\right) - \\Omega_{Δ}{\\left(t \\right)}\n",
       "\\end{equation}\n"
      ],
      "text/plain": [
       "E_n<0(t) = beta**2*(hbar*omega_k) + n**2*(hbar*omega_k) + n*(2*beta*(hbar*omega_k) + hbar*Derivative(phi_-(t), t)) - Omega_Δ(t)"
      ]
     },
     "execution_count": 51,
     "metadata": {},
     "output_type": "execute_result"
    }
   ],
   "source": [
    "Eq_Enm = Eq(Enm(t), TDSE_discrete_p0_neg.rhs.coeff(a(n,t)))\n",
    "Eq_Enm"
   ]
  },
  {
   "cell_type": "markdown",
   "metadata": {},
   "source": [
    "As expected, we get the same equation, just with $\\phi_{-}(t)$ instead of $\\phi_{+}(t)$."
   ]
  },
  {
   "cell_type": "markdown",
   "metadata": {},
   "source": [
    "## Rapid adiabatic passage"
   ]
  },
  {
   "cell_type": "code",
   "execution_count": 52,
   "metadata": {
    "ExecuteTime": {
     "end_time": "2019-06-01T08:05:57.791855Z",
     "start_time": "2019-06-01T08:05:57.743013Z"
    }
   },
   "outputs": [
    {
     "data": {
      "text/latex": [
       "\\begin{align}\n",
       "  \\phi_{-}{\\left(t \\right)} &= - \\delta_{0} t + \\delta_{12}{\\left(t \\right)}\\\\\n",
       "   &= - \\delta_{0} t + \\phi_{1}{\\left(t \\right)} - \\phi_{2}{\\left(t \\right)}\n",
       "\\end{align}\n"
      ],
      "text/plain": [
       "phi_-(t) = -delta_0*t + delta12(t)\n",
       "         = -delta_0*t + phi_1(t) - phi_2(t)"
      ]
     },
     "execution_count": 52,
     "metadata": {},
     "output_type": "execute_result"
    }
   ],
   "source": [
    "definition(ϕm(t)).apply_mtd('subs', {δ12(t): defs[δ12(t)]}, cont=True)"
   ]
  },
  {
   "cell_type": "code",
   "execution_count": 53,
   "metadata": {
    "ExecuteTime": {
     "end_time": "2019-06-01T08:05:57.825212Z",
     "start_time": "2019-06-01T08:05:57.796933Z"
    }
   },
   "outputs": [
    {
     "data": {
      "text/latex": [
       "\\begin{align}\n",
       "  \\phi_{+}{\\left(t \\right)} &= - \\delta^{'}_{0} t + \\delta_{13}{\\left(t \\right)}\\\\\n",
       "   &= - \\delta^{'}_{0} t + \\phi_{1}{\\left(t \\right)} - \\phi_{3}{\\left(t \\right)}\n",
       "\\end{align}\n"
      ],
      "text/plain": [
       "phi_+(t) = -delta_0^'*t + delta_13(t)\n",
       "         = -delta_0^'*t + phi_1(t) - phi_3(t)"
      ]
     },
     "execution_count": 53,
     "metadata": {},
     "output_type": "execute_result"
    }
   ],
   "source": [
    "definition(ϕp(t)).apply_mtd('subs', {δ13(t): defs[δ13(t)]}, cont=True)"
   ]
  },
  {
   "cell_type": "code",
   "execution_count": 54,
   "metadata": {
    "ExecuteTime": {
     "end_time": "2019-06-01T08:05:57.846459Z",
     "start_time": "2019-06-01T08:05:57.829615Z"
    }
   },
   "outputs": [],
   "source": [
    "rap_phases = {\n",
    "    ϕp(t): α * protect(t - tc)**2 / 2,\n",
    "    ϕm(t): -α * protect(t - tc)**2 / 2,\n",
    "}"
   ]
  },
  {
   "cell_type": "code",
   "execution_count": 55,
   "metadata": {
    "ExecuteTime": {
     "end_time": "2019-06-01T08:05:57.864631Z",
     "start_time": "2019-06-01T08:05:57.850553Z"
    }
   },
   "outputs": [],
   "source": [
    "def plug_in_phases(phases_dict):\n",
    "    def _doit(expr):\n",
    "        expr_expanded = standard_phase_form(\n",
    "            expr\n",
    "            .subs(phases_dict)\n",
    "            .doit()  # do the derivatives\n",
    "            .expand()\n",
    "        )\n",
    "        return (\n",
    "            expr_expanded\n",
    "            .collect(a(n-1, t))\n",
    "            .collect(a(n+1, t))\n",
    "            .collect(a(n, t))\n",
    "        )\n",
    "    return _doit"
   ]
  },
  {
   "cell_type": "code",
   "execution_count": 56,
   "metadata": {
    "ExecuteTime": {
     "end_time": "2019-06-01T08:05:57.897549Z",
     "start_time": "2019-06-01T08:05:57.880095Z"
    }
   },
   "outputs": [],
   "source": [
    "def rap_rewriting(expr):\n",
    "    \"\"\"Write things a bit more intuitively, specifically for the RAP case\"\"\"\n",
    "    return (\n",
    "        expr\n",
    "        .subs({(α * (t - tc)**2).expand(): (α * (t - tc)**2)})\n",
    "        .subs({(α * ħ * n * (t - tc)).expand(): n * protect(ħ*α * (t - tc))})\n",
    "        .subs({tc - t: sympy.Mul(-1, protect(t - tc), evaluate=False)})\n",
    "        .subs({ħ * ωk: protect(ħ * ωk)})\n",
    "        .collect((t-tc))\n",
    "    )"
   ]
  },
  {
   "cell_type": "code",
   "execution_count": 57,
   "metadata": {
    "ExecuteTime": {
     "end_time": "2019-06-01T08:05:58.425766Z",
     "start_time": "2019-06-01T08:05:57.922803Z"
    }
   },
   "outputs": [
    {
     "data": {
      "text/latex": [
       "\\begin{equation}\n",
       "  i \\hbar \\frac{d}{d t} a{\\left(n,t \\right)} = a{\\left(n,t \\right)} \\left(\\beta^{2} \\hbar \\omega_{k} + 2 \\beta n \\hbar \\omega_{k} + n^{2} \\hbar \\omega_{k} + n \\alpha \\hbar \\left(t - t_{c}\\right) - \\Omega_{Δ}{\\left(t \\right)}\\right) + a{\\left(n - 1,t \\right)} \\left(- \\Omega_{}{\\left(t \\right)} - \\Omega_{}{\\left(t \\right)} e^{- i \\alpha \\left(t - t_{c}\\right)^{2}}\\right) + a{\\left(n + 1,t \\right)} \\left(- \\Omega_{}{\\left(t \\right)} - \\Omega_{}{\\left(t \\right)} e^{i \\alpha \\left(t - t_{c}\\right)^{2}}\\right)\n",
       "\\end{equation}\n"
      ],
      "text/plain": [
       "I*hbar*Derivative(a(n, t), t) = a(n, t)*(beta**2*(hbar*omega_k) + 2*beta*n*(hbar*omega_k) + n**2*(hbar*omega_k) + n*(alpha*hbar*(t - t_c)) - Omega_Δ(t)) + a(n - 1, t)*(-Omega_(t) - Omega_(t)*exp(-I*alpha*(t - t_c)**2)) + a(n + 1, t)*(-Omega_(t) - Omega_(t)*exp(I*alpha*(t - t_c)**2))"
      ]
     },
     "execution_count": 57,
     "metadata": {},
     "output_type": "execute_result"
    }
   ],
   "source": [
    "TDSE_rap_pos = (\n",
    "    TDSE_discrete_p0_pos\n",
    "    .apply(plug_in_phases(rap_phases))\n",
    "    .apply(rap_rewriting)\n",
    ")\n",
    "TDSE_rap_pos"
   ]
  },
  {
   "cell_type": "code",
   "execution_count": 58,
   "metadata": {
    "ExecuteTime": {
     "end_time": "2019-06-01T08:05:58.660486Z",
     "start_time": "2019-06-01T08:05:58.436032Z"
    }
   },
   "outputs": [
    {
     "data": {
      "text/latex": [
       "\\begin{equation}\n",
       "  i \\hbar \\frac{d}{d t} a{\\left(n,t \\right)} = a{\\left(n,t \\right)} \\left(\\beta^{2} \\hbar \\omega_{k} + 2 \\beta n \\hbar \\omega_{k} + n^{2} \\hbar \\omega_{k} - \\Omega_{Δ}{\\left(t \\right)} + \\left|{n}\\right| \\alpha \\hbar \\left(t - t_{c}\\right)\\right) + a{\\left(n - 1,t \\right)} \\left(- \\Omega_{}{\\left(t \\right)} - \\Omega_{}{\\left(t \\right)} e^{i \\alpha \\left(t - t_{c}\\right)^{2}}\\right) + a{\\left(n + 1,t \\right)} \\left(- \\Omega_{}{\\left(t \\right)} - \\Omega_{}{\\left(t \\right)} e^{- i \\alpha \\left(t - t_{c}\\right)^{2}}\\right)\n",
       "\\end{equation}\n"
      ],
      "text/plain": [
       "I*hbar*Derivative(a(n, t), t) = a(n, t)*(beta**2*(hbar*omega_k) + 2*beta*n*(hbar*omega_k) + n**2*(hbar*omega_k) - Omega_Δ(t) + Abs(n)*(alpha*hbar*(t - t_c))) + a(n - 1, t)*(-Omega_(t) - Omega_(t)*exp(I*alpha*(t - t_c)**2)) + a(n + 1, t)*(-Omega_(t) - Omega_(t)*exp(-I*alpha*(t - t_c)**2))"
      ]
     },
     "execution_count": 58,
     "metadata": {},
     "output_type": "execute_result"
    }
   ],
   "source": [
    "TDSE_rap_neg = (\n",
    "    TDSE_discrete_p0_neg\n",
    "    .apply(plug_in_phases(rap_phases))\n",
    "    .apply(rap_rewriting)\n",
    "    .apply_mtd('subs', {-n: Abs(n)})\n",
    ")\n",
    "TDSE_rap_neg"
   ]
  },
  {
   "cell_type": "markdown",
   "metadata": {},
   "source": [
    "## Dynamic Frame"
   ]
  },
  {
   "cell_type": "code",
   "execution_count": 59,
   "metadata": {
    "ExecuteTime": {
     "end_time": "2019-06-01T08:05:58.696054Z",
     "start_time": "2019-06-01T08:05:58.664773Z"
    }
   },
   "outputs": [
    {
     "data": {
      "text/latex": [
       "\\begin{equation}\n",
       "  \\eta{\\left(t \\right)} = - \\frac{\\alpha^{2} \\left(t - t_{c}\\right)^{2} + 1}{4}\n",
       "\\end{equation}\n"
      ],
      "text/plain": [
       "eta(t) = -(alpha**2*(t - t_c)**2 + 1)/4"
      ]
     },
     "execution_count": 59,
     "metadata": {},
     "output_type": "execute_result"
    }
   ],
   "source": [
    "defs[η(t)] = -protect((α * (t - tc))**2 + 1) / 4\n",
    "definition(η(t))"
   ]
  },
  {
   "cell_type": "code",
   "execution_count": 60,
   "metadata": {
    "ExecuteTime": {
     "end_time": "2019-06-01T08:05:58.760030Z",
     "start_time": "2019-06-01T08:05:58.699991Z"
    }
   },
   "outputs": [
    {
     "data": {
      "text/latex": [
       "\\begin{align}\n",
       "  \\phi_{d}{\\left(t \\right)} &= \\int \\left(- \\frac{\\alpha^{2} \\left(t - t_{c}\\right)^{2} + 1}{4}\\right)\\, dt\\\\\n",
       "   &= - \\frac{\\alpha^{2} t^{3}}{12} + \\frac{\\alpha^{2} t^{2} t_{c}}{4} + t \\left(- \\frac{\\alpha^{2} t_{c}^{2}}{4} - \\frac{1}{4}\\right)\n",
       "\\end{align}\n"
      ],
      "text/plain": [
       "phi_d(t) = Integral(-(alpha**2*(t - t_c)**2 + 1)/4, t)\n",
       "         = -alpha**2*t**3/12 + alpha**2*t**2*t_c/4 + t*(-alpha**2*t_c**2/4 - 1/4)"
      ]
     },
     "execution_count": 60,
     "metadata": {},
     "output_type": "execute_result"
    }
   ],
   "source": [
    "defs[ϕd(t)] = sympy.Integral(defs[η(t)], t)\n",
    "definition(ϕd(t)).apply_mtd('doit', cont=True)"
   ]
  },
  {
   "cell_type": "code",
   "execution_count": 61,
   "metadata": {
    "ExecuteTime": {
     "end_time": "2019-06-01T08:05:58.822608Z",
     "start_time": "2019-06-01T08:05:58.769608Z"
    }
   },
   "outputs": [],
   "source": [
    "def to_dynamic_frame(H, U):\n",
    "    return (\n",
    "        I*ħ*U.diff(t).doit()*U.conjugate().transpose().doit()\n",
    "        + (U * H * U.conjugate().transpose()).doit()\n",
    "    )"
   ]
  },
  {
   "cell_type": "code",
   "execution_count": 62,
   "metadata": {
    "ExecuteTime": {
     "end_time": "2019-06-01T08:05:58.900502Z",
     "start_time": "2019-06-01T08:05:58.827202Z"
    }
   },
   "outputs": [
    {
     "data": {
      "text/latex": [
       "\\begin{equation}\n",
       "  \\operatorname{E_{n>0}}{\\left(t \\right)} = \\alpha \\hbar n \\left(t - t_{c}\\right) + \\hbar n^{2} \\omega_{k} + \\frac{\\hbar \\left(\\alpha^{2} \\left(t - t_{c}\\right)^{2} + 1\\right)}{4}\n",
       "\\end{equation}\n"
      ],
      "text/plain": [
       "E_n>0(t) = alpha*hbar*n*(t - t_c) + hbar*n**2*omega_k + hbar*(alpha**2*(t - t_c)**2 + 1)/4"
      ]
     },
     "execution_count": 62,
     "metadata": {},
     "output_type": "execute_result"
    }
   ],
   "source": [
    "Eq(Enp(t), to_dynamic_frame(\n",
    "    H=TDSE_rap_pos.rhs.coeff(a(n, t)).subs({β: 0, Ω['Δ'](t): 0}),\n",
    "    U=exp(I * sympy.Integral(defs[η(t)], t))\n",
    "))"
   ]
  },
  {
   "cell_type": "markdown",
   "metadata": {},
   "source": [
    "## Scheme with π pulses"
   ]
  },
  {
   "cell_type": "markdown",
   "metadata": {},
   "source": [
    "We choose a laser frequency that targets the transition $n_0 \\rightarrow n_0+1$"
   ]
  },
  {
   "cell_type": "code",
   "execution_count": 63,
   "metadata": {
    "ExecuteTime": {
     "end_time": "2019-06-01T08:05:58.932386Z",
     "start_time": "2019-06-01T08:05:58.903008Z"
    }
   },
   "outputs": [
    {
     "data": {
      "text/latex": [
       "\\begin{equation}\n",
       "  \\omega_{L} = \\omega_{k} \\left(2 n_{0} + 1\\right)\n",
       "\\end{equation}\n"
      ],
      "text/plain": [
       "omega_L = omega_k*(2*n_0 + 1)"
      ]
     },
     "execution_count": 63,
     "metadata": {},
     "output_type": "execute_result"
    }
   ],
   "source": [
    "defs[ωL] = (((n0+1)**2 - n0**2) * ωk).expand().collect(ωk)\n",
    "definition(ωL)"
   ]
  },
  {
   "cell_type": "code",
   "execution_count": 64,
   "metadata": {
    "ExecuteTime": {
     "end_time": "2019-06-01T08:05:58.949194Z",
     "start_time": "2019-06-01T08:05:58.936615Z"
    }
   },
   "outputs": [
    {
     "data": {
      "text/latex": [
       "\\begin{equation}\n",
       "  n' = - n_{0} + \\left|{n}\\right|\n",
       "\\end{equation}\n"
      ],
      "text/plain": [
       "n' = -n_0 + Abs(n)"
      ]
     },
     "execution_count": 64,
     "metadata": {},
     "output_type": "execute_result"
    }
   ],
   "source": [
    "defs[nprime] = Abs(n) - n0\n",
    "definition(nprime)"
   ]
  },
  {
   "cell_type": "code",
   "execution_count": 65,
   "metadata": {
    "ExecuteTime": {
     "end_time": "2019-06-01T08:05:58.976483Z",
     "start_time": "2019-06-01T08:05:58.961420Z"
    }
   },
   "outputs": [],
   "source": [
    "pipulse_phases = {\n",
    "    ϕp(t): (-ωL * t).subs(definition(ωL).as_dict),\n",
    "    ϕm(t): (ωL * t).subs(definition(ωL).as_dict),\n",
    "}"
   ]
  },
  {
   "cell_type": "code",
   "execution_count": 66,
   "metadata": {
    "ExecuteTime": {
     "end_time": "2019-06-01T08:05:59.683224Z",
     "start_time": "2019-06-01T08:05:59.013484Z"
    }
   },
   "outputs": [
    {
     "data": {
      "image/png": "[encoded data removed]",
      "text/latex": [
       "$\\displaystyle \\left\\{ \\phi_{+}{\\left(t \\right)} : - \\omega_{k} t \\left(2 n_{0} + 1\\right), \\  \\phi_{-}{\\left(t \\right)} : \\omega_{k} t \\left(2 n_{0} + 1\\right)\\right\\}$"
      ],
      "text/plain": [
       "{φ₊(t): -ωₖ⋅t⋅(2⋅n₀ + 1), φ₋(t): ωₖ⋅t⋅(2⋅n₀ + 1)}"
      ]
     },
     "execution_count": 66,
     "metadata": {},
     "output_type": "execute_result"
    }
   ],
   "source": [
    "pipulse_phases"
   ]
  },
  {
   "cell_type": "code",
   "execution_count": 67,
   "metadata": {
    "ExecuteTime": {
     "end_time": "2019-06-01T08:05:59.699697Z",
     "start_time": "2019-06-01T08:05:59.689416Z"
    }
   },
   "outputs": [],
   "source": [
    "def rewrite_with_nprime(abs_n=None):\n",
    "    E_n = ((nprime**2 - nprime) - (n0 * (n0+1))) * protect(ħ*ωk)\n",
    "    E_n_expanded = (\n",
    "        E_n\n",
    "        .subs(definition(nprime).as_dict)\n",
    "        .expand()\n",
    "        .doit() # un-protect ħωₖ\n",
    "    )\n",
    "    if abs_n is not None:\n",
    "        E_n_expanded = E_n_expanded.subs({Abs(n): abs_n})\n",
    "        \n",
    "    def _doit(expr):\n",
    "        return expr.subs({E_n_expanded: E_n})\n",
    "    \n",
    "    return _doit        "
   ]
  },
  {
   "cell_type": "code",
   "execution_count": 68,
   "metadata": {
    "ExecuteTime": {
     "end_time": "2019-06-01T08:06:00.011834Z",
     "start_time": "2019-06-01T08:05:59.732206Z"
    }
   },
   "outputs": [
    {
     "data": {
      "text/latex": [
       "\\begin{equation}\n",
       "  i \\hbar \\frac{d}{d t} a{\\left(n,t \\right)} = \\left(- \\Omega_{}{\\left(t \\right)} e^{i t \\left(- 4 n_{0} \\omega_{k} - 2 \\omega_{k}\\right)} - \\Omega_{}{\\left(t \\right)}\\right) a{\\left(n + 1,t \\right)} + \\left(- \\Omega_{}{\\left(t \\right)} e^{i t \\left(4 n_{0} \\omega_{k} + 2 \\omega_{k}\\right)} - \\Omega_{}{\\left(t \\right)}\\right) a{\\left(n - 1,t \\right)} + a{\\left(n,t \\right)} \\left(\\beta^{2} \\hbar \\omega_{k} + 2 \\beta \\hbar n \\omega_{k} + \\left(n'^{2} - n' - n_{0} \\left(n_{0} + 1\\right)\\right) \\hbar \\omega_{k} - \\Omega_{Δ}{\\left(t \\right)}\\right)\n",
       "\\end{equation}\n"
      ],
      "text/plain": [
       "I*hbar*Derivative(a(n, t), t) = (-Omega_(t)*exp(I*t*(-4*n_0*omega_k - 2*omega_k)) - Omega_(t))*a(n + 1, t) + (-Omega_(t)*exp(I*t*(4*n_0*omega_k + 2*omega_k)) - Omega_(t))*a(n - 1, t) + a(n, t)*(beta**2*hbar*omega_k + 2*beta*hbar*n*omega_k + (n'**2 - n' - n_0*(n_0 + 1))*(hbar*omega_k) - Omega_Δ(t))"
      ]
     },
     "execution_count": 68,
     "metadata": {},
     "output_type": "execute_result"
    }
   ],
   "source": [
    "TDSE_pipulse_pos = (\n",
    "    TDSE_discrete_p0_pos\n",
    "    .apply(plug_in_phases(pipulse_phases))\n",
    "    .apply(rewrite_with_nprime(abs_n=n))\n",
    ")\n",
    "TDSE_pipulse_pos"
   ]
  },
  {
   "cell_type": "code",
   "execution_count": 69,
   "metadata": {
    "ExecuteTime": {
     "end_time": "2019-06-01T08:06:00.239986Z",
     "start_time": "2019-06-01T08:06:00.028188Z"
    }
   },
   "outputs": [
    {
     "data": {
      "text/latex": [
       "\\begin{equation}\n",
       "  i \\hbar \\frac{d}{d t} a{\\left(n,t \\right)} = \\left(- \\Omega_{}{\\left(t \\right)} e^{i t \\left(- 4 n_{0} \\omega_{k} - 2 \\omega_{k}\\right)} - \\Omega_{}{\\left(t \\right)}\\right) a{\\left(n - 1,t \\right)} + \\left(- \\Omega_{}{\\left(t \\right)} e^{i t \\left(4 n_{0} \\omega_{k} + 2 \\omega_{k}\\right)} - \\Omega_{}{\\left(t \\right)}\\right) a{\\left(n + 1,t \\right)} + a{\\left(n,t \\right)} \\left(\\beta^{2} \\hbar \\omega_{k} + 2 \\beta \\hbar n \\omega_{k} + \\left(n'^{2} - n' - n_{0} \\left(n_{0} + 1\\right)\\right) \\hbar \\omega_{k} - \\Omega_{Δ}{\\left(t \\right)}\\right)\n",
       "\\end{equation}\n"
      ],
      "text/plain": [
       "I*hbar*Derivative(a(n, t), t) = (-Omega_(t)*exp(I*t*(-4*n_0*omega_k - 2*omega_k)) - Omega_(t))*a(n - 1, t) + (-Omega_(t)*exp(I*t*(4*n_0*omega_k + 2*omega_k)) - Omega_(t))*a(n + 1, t) + a(n, t)*(beta**2*hbar*omega_k + 2*beta*hbar*n*omega_k + (n'**2 - n' - n_0*(n_0 + 1))*(hbar*omega_k) - Omega_Δ(t))"
      ]
     },
     "execution_count": 69,
     "metadata": {},
     "output_type": "execute_result"
    }
   ],
   "source": [
    "TDSE_pipulse_neg = (\n",
    "    TDSE_discrete_p0_neg\n",
    "    .apply(plug_in_phases(pipulse_phases))\n",
    "    .apply(rewrite_with_nprime(abs_n=-n))\n",
    ")\n",
    "TDSE_pipulse_neg"
   ]
  },
  {
   "cell_type": "markdown",
   "metadata": {},
   "source": [
    "### Effective pulse amplitude"
   ]
  },
  {
   "cell_type": "code",
   "execution_count": 70,
   "metadata": {
    "ExecuteTime": {
     "end_time": "2019-06-01T08:06:00.853405Z",
     "start_time": "2019-06-01T08:06:00.242836Z"
    }
   },
   "outputs": [
    {
     "data": {
      "image/png": "[encoded data removed]",
      "text/latex": [
       "$\\displaystyle - e^{i t \\left(4 n_{0} + 2\\right)} - 1$"
      ],
      "text/plain": [
       "   ⅈ⋅t⋅(4⋅n₀ + 2)    \n",
       "- ℯ               - 1"
      ]
     },
     "execution_count": 70,
     "metadata": {},
     "output_type": "execute_result"
    }
   ],
   "source": [
    "effective_pi_amplitude = TDSE_pipulse_neg.rhs.coeff(a(n+1, t)).coeff(Ω[''](t)).subs({ωk: 1})\n",
    "effective_pi_amplitude"
   ]
  },
  {
   "cell_type": "code",
   "execution_count": 71,
   "metadata": {
    "ExecuteTime": {
     "end_time": "2019-06-01T08:06:00.863852Z",
     "start_time": "2019-06-01T08:06:00.857153Z"
    }
   },
   "outputs": [],
   "source": [
    "def plot_effective_amplitude(n0_val, tlist):\n",
    "    y = np.abs([complex(effective_pi_amplitude.subs({t: tval, n0: n0_val})) for tval in tlist])\n",
    "    fig, ax = plt.subplots()\n",
    "    ax.plot(tlist, y)\n",
    "    plt.show(fig)\n",
    "    print(\"average: %.2f\" % np.average(y))"
   ]
  },
  {
   "cell_type": "code",
   "execution_count": 72,
   "metadata": {
    "ExecuteTime": {
     "end_time": "2019-06-01T08:06:02.894541Z",
     "start_time": "2019-06-01T08:06:00.867138Z"
    }
   },
   "outputs": [
    {
     "data": {
      "image/png": "[encoded data removed]",
      "text/plain": [
       "<Figure size 432x288 with 1 Axes>"
      ]
     },
     "metadata": {
      "needs_background": "light"
     },
     "output_type": "display_data"
    },
    {
     "name": "stdout",
     "output_type": "stream",
     "text": [
      "average: 1.27\n"
     ]
    }
   ],
   "source": [
    "plot_effective_amplitude(0, np.linspace(0, 50, 500))"
   ]
  },
  {
   "cell_type": "code",
   "execution_count": 73,
   "metadata": {
    "ExecuteTime": {
     "end_time": "2019-06-01T08:06:04.932095Z",
     "start_time": "2019-06-01T08:06:02.898434Z"
    }
   },
   "outputs": [
    {
     "data": {
      "image/png": "[encoded data removed]",
      "text/plain": [
       "<Figure size 432x288 with 1 Axes>"
      ]
     },
     "metadata": {
      "needs_background": "light"
     },
     "output_type": "display_data"
    },
    {
     "name": "stdout",
     "output_type": "stream",
     "text": [
      "average: 1.27\n"
     ]
    }
   ],
   "source": [
    "plot_effective_amplitude(1, np.linspace(0, 50, 500))"
   ]
  },
  {
   "cell_type": "code",
   "execution_count": 74,
   "metadata": {
    "ExecuteTime": {
     "end_time": "2019-06-01T08:06:06.950446Z",
     "start_time": "2019-06-01T08:06:04.934530Z"
    }
   },
   "outputs": [
    {
     "data": {
      "image/png": "[encoded data removed]",
      "text/plain": [
       "<Figure size 432x288 with 1 Axes>"
      ]
     },
     "metadata": {
      "needs_background": "light"
     },
     "output_type": "display_data"
    },
    {
     "name": "stdout",
     "output_type": "stream",
     "text": [
      "average: 1.27\n"
     ]
    }
   ],
   "source": [
    "plot_effective_amplitude(2, np.linspace(0, 50, 500))"
   ]
  }
 ],
 "metadata": {
  "hide_input": false,
  "kernelspec": {
   "display_name": "Python 3",
   "language": "python",
   "name": "python3"
  },
  "language_info": {
   "codemirror_mode": {
    "name": "ipython",
    "version": 3
   },
   "file_extension": ".py",
   "mimetype": "text/x-python",
   "name": "python",
   "nbconvert_exporter": "python",
   "pygments_lexer": "ipython3",
   "version": "3.7.3"
  },
  "toc": {
   "base_numbering": 1,
   "nav_menu": {
    "height": "379px",
    "width": "360px"
   },
   "number_sections": true,
   "sideBar": true,
   "skip_h1_title": false,
   "title_cell": "Table of Contents",
   "title_sidebar": "Contents",
   "toc_cell": false,
   "toc_position": {},
   "toc_section_display": true,
   "toc_window_display": false
  },
  "varInspector": {
   "cols": {
    "lenName": 16,
    "lenType": 16,
    "lenVar": 40
   },
   "kernels_config": {
    "python": {
     "delete_cmd_postfix": "",
     "delete_cmd_prefix": "del ",
     "library": "var_list.py",
     "varRefreshCmd": "print(var_dic_list())"
    },
    "r": {
     "delete_cmd_postfix": ") ",
     "delete_cmd_prefix": "rm(",
     "library": "var_list.r",
     "varRefreshCmd": "cat(var_dic_list()) "
    }
   },
   "types_to_exclude": [
    "module",
    "function",
    "builtin_function_or_method",
    "instance",
    "_Feature"
   ],
   "window_display": false
  }
 },
 "nbformat": 4,
 "nbformat_minor": 2
}
